{
 "cells": [
  {
   "cell_type": "markdown",
   "id": "439397d6-0710-41d0-8d88-c8de0d2199e8",
   "metadata": {},
   "source": [
    "## Warm Up Exercise\n",
    "Print number 2-12 with a for loop, using two methods (with or without modifying the range function call)."
   ]
  },
  {
   "cell_type": "code",
   "execution_count": 10,
   "id": "3b13985c-f665-457b-984a-dbcc2628cea4",
   "metadata": {},
   "outputs": [
    {
     "name": "stdout",
     "output_type": "stream",
     "text": [
      "2\n",
      "3\n",
      "4\n",
      "5\n",
      "6\n",
      "7\n",
      "8\n",
      "9\n",
      "10\n",
      "11\n",
      "12\n"
     ]
    }
   ],
   "source": [
    "for i in range(11):\n",
    "    print(i+2)"
   ]
  },
  {
   "cell_type": "code",
   "execution_count": 11,
   "id": "21aede4e-72a5-4ba9-aa81-617197de87d6",
   "metadata": {},
   "outputs": [
    {
     "name": "stdout",
     "output_type": "stream",
     "text": [
      "2\n",
      "3\n",
      "4\n",
      "5\n",
      "6\n",
      "7\n",
      "8\n",
      "9\n",
      "10\n",
      "11\n",
      "12\n"
     ]
    }
   ],
   "source": [
    "for i in range(2, 13):\n",
    "    print(i)"
   ]
  },
  {
   "cell_type": "markdown",
   "id": "c7482c32-39b1-4087-8042-b6a0b2f16bb9",
   "metadata": {},
   "source": [
    "## Exercise 2\n",
    "Given an integer (at most 10 digits), print from the least significant digit to the most significant digit."
   ]
  },
  {
   "cell_type": "code",
   "execution_count": 17,
   "id": "1f926b23-8be2-46c6-966f-ba3f285eecc3",
   "metadata": {},
   "outputs": [
    {
     "name": "stdout",
     "output_type": "stream",
     "text": [
      "3\n",
      "0\n",
      "2\n",
      "1\n",
      "end loop\n"
     ]
    }
   ],
   "source": [
    "number = 1203\n",
    "for i in range(10):\n",
    "    digit = number % 10\n",
    "    print(digit)\n",
    "    number = number // 10\n",
    "\n",
    "    if number == 0:\n",
    "        break\n",
    "        \n",
    "print(\"end loop\")"
   ]
  },
  {
   "cell_type": "markdown",
   "id": "fbff0c6a-439b-4795-947c-07db6747fcfa",
   "metadata": {},
   "source": [
    "## Exercise 3\n",
    "Given a floating point number (with a point) as a string, return the number as a floating point number."
   ]
  },
  {
   "cell_type": "code",
   "execution_count": 31,
   "id": "e1b39377-4458-413e-a6b2-3e29198c4ac6",
   "metadata": {},
   "outputs": [
    {
     "name": "stdout",
     "output_type": "stream",
     "text": [
      "1\n",
      "2\n",
      "3\n"
     ]
    }
   ],
   "source": [
    "def convert_float_str_to_float(num):\n",
    "    for i in range(len(num)):\n",
    "        print(num[i])\n",
    "\n",
    "num = \"123\"\n",
    "convert_float_str_to_float(num)"
   ]
  },
  {
   "cell_type": "code",
   "execution_count": 44,
   "id": "45fffe04-039b-4404-8696-7123ccc93b59",
   "metadata": {},
   "outputs": [
    {
     "name": "stdout",
     "output_type": "stream",
     "text": [
      "1\n",
      "2\n",
      "3\n"
     ]
    }
   ],
   "source": [
    "def convert_float_str_to_float(num):\n",
    "    length = len(num)\n",
    "    for i in range(length):\n",
    "        print(num[0])\n",
    "        num = num[1:]\n",
    "\n",
    "num = \"123\"\n",
    "convert_float_str_to_float(num)"
   ]
  },
  {
   "cell_type": "code",
   "execution_count": 4,
   "id": "1a30096f-278b-42ed-a627-f6d2e32ef595",
   "metadata": {},
   "outputs": [
    {
     "data": {
      "text/plain": [
       "1230.4506"
      ]
     },
     "execution_count": 4,
     "metadata": {},
     "output_type": "execute_result"
    }
   ],
   "source": [
    "def convert_float_str_to_float(num):\n",
    "    length = len(num)\n",
    "    \n",
    "    is_before_point = True\n",
    "    \n",
    "    integer_part = 0\n",
    "    decimal_part = 0\n",
    "    decimal_pos = 1\n",
    "    \n",
    "    for i in range(length):\n",
    "        if num[i] == \".\":\n",
    "            is_before_point = False\n",
    "            continue\n",
    "            \n",
    "        if is_before_point:\n",
    "            integer_part = integer_part * 10\n",
    "            integer_part = integer_part + int(num[i])\n",
    "        else:\n",
    "            decimal_part = decimal_part + int(num[i]) * (10 ** -decimal_pos)\n",
    "            decimal_pos += 1\n",
    "            \n",
    "    return integer_part + decimal_part\n",
    "\n",
    "convert_float_str_to_float(\"1230.4506\")\n",
    "        \n",
    "            "
   ]
  },
  {
   "cell_type": "markdown",
   "id": "d3cefd20-2e8c-4204-8827-db2745334e23",
   "metadata": {},
   "source": [
    "## String Manipulation"
   ]
  },
  {
   "cell_type": "code",
   "execution_count": 18,
   "id": "13db5454-d552-487f-96fc-e8c6958e9cdd",
   "metadata": {},
   "outputs": [],
   "source": [
    "s = \"12345678\""
   ]
  },
  {
   "cell_type": "code",
   "execution_count": 19,
   "id": "2be13610-6801-4dc0-bb0a-477e4b21e26d",
   "metadata": {},
   "outputs": [
    {
     "data": {
      "text/plain": [
       "8"
      ]
     },
     "execution_count": 19,
     "metadata": {},
     "output_type": "execute_result"
    }
   ],
   "source": [
    "len(s)"
   ]
  },
  {
   "cell_type": "code",
   "execution_count": 20,
   "id": "a3e42bb6-feca-4297-9dbc-7abce6599fe2",
   "metadata": {},
   "outputs": [
    {
     "data": {
      "text/plain": [
       "'1'"
      ]
     },
     "execution_count": 20,
     "metadata": {},
     "output_type": "execute_result"
    }
   ],
   "source": [
    "s[0]"
   ]
  },
  {
   "cell_type": "code",
   "execution_count": 21,
   "id": "b500af53-4394-4510-901f-1121c07a6a4c",
   "metadata": {},
   "outputs": [
    {
     "data": {
      "text/plain": [
       "'3'"
      ]
     },
     "execution_count": 21,
     "metadata": {},
     "output_type": "execute_result"
    }
   ],
   "source": [
    "s[2]"
   ]
  },
  {
   "cell_type": "code",
   "execution_count": 22,
   "id": "9b48ae0f-ca24-4916-be90-a6008bd5632d",
   "metadata": {},
   "outputs": [
    {
     "data": {
      "text/plain": [
       "'8'"
      ]
     },
     "execution_count": 22,
     "metadata": {},
     "output_type": "execute_result"
    }
   ],
   "source": [
    "s[7]"
   ]
  },
  {
   "cell_type": "code",
   "execution_count": 23,
   "id": "4285363d-c051-42cb-80d2-6c0b3935ca57",
   "metadata": {},
   "outputs": [
    {
     "data": {
      "text/plain": [
       "'8'"
      ]
     },
     "execution_count": 23,
     "metadata": {},
     "output_type": "execute_result"
    }
   ],
   "source": [
    "s[len(s)-1]"
   ]
  },
  {
   "cell_type": "code",
   "execution_count": 24,
   "id": "bcdf2b4f-99c7-4818-82be-01a64c5b9b61",
   "metadata": {},
   "outputs": [
    {
     "data": {
      "text/plain": [
       "'8'"
      ]
     },
     "execution_count": 24,
     "metadata": {},
     "output_type": "execute_result"
    }
   ],
   "source": [
    "s[-1]"
   ]
  },
  {
   "cell_type": "code",
   "execution_count": 25,
   "id": "71524a92-1919-4a2a-920d-34203e623798",
   "metadata": {},
   "outputs": [
    {
     "data": {
      "text/plain": [
       "'7'"
      ]
     },
     "execution_count": 25,
     "metadata": {},
     "output_type": "execute_result"
    }
   ],
   "source": [
    "s[-2]"
   ]
  },
  {
   "cell_type": "markdown",
   "id": "55a4dfef-da88-4f49-a1ae-7e68122f0be2",
   "metadata": {},
   "source": [
    "### Slicing"
   ]
  },
  {
   "cell_type": "code",
   "execution_count": 32,
   "id": "f40b2abb-125d-42ea-ba23-963ab23904e2",
   "metadata": {},
   "outputs": [
    {
     "data": {
      "text/plain": [
       "'2345678'"
      ]
     },
     "execution_count": 32,
     "metadata": {},
     "output_type": "execute_result"
    }
   ],
   "source": [
    "s = \"12345678\"\n",
    "s = s[1:8]\n",
    "s"
   ]
  },
  {
   "cell_type": "code",
   "execution_count": 33,
   "id": "992b32bb-a62c-4d15-93f7-987401af9271",
   "metadata": {},
   "outputs": [
    {
     "data": {
      "text/plain": [
       "'234'"
      ]
     },
     "execution_count": 33,
     "metadata": {},
     "output_type": "execute_result"
    }
   ],
   "source": [
    "s = \"12345678\"\n",
    "s = s[1:4]\n",
    "s"
   ]
  },
  {
   "cell_type": "code",
   "execution_count": 34,
   "id": "43ed1173-0c34-4fc2-b1d5-de6558c9df91",
   "metadata": {},
   "outputs": [
    {
     "data": {
      "text/plain": [
       "''"
      ]
     },
     "execution_count": 34,
     "metadata": {},
     "output_type": "execute_result"
    }
   ],
   "source": [
    "s = \"12345678\"\n",
    "s = s[4:2]\n",
    "s"
   ]
  },
  {
   "cell_type": "code",
   "execution_count": 35,
   "id": "1cdeb812-173a-46fa-b1b3-9ed5ee5033be",
   "metadata": {},
   "outputs": [
    {
     "data": {
      "text/plain": [
       "'246'"
      ]
     },
     "execution_count": 35,
     "metadata": {},
     "output_type": "execute_result"
    }
   ],
   "source": [
    "s = \"12345678\"\n",
    "s = s[1:6:2]\n",
    "s"
   ]
  },
  {
   "cell_type": "code",
   "execution_count": 36,
   "id": "e3b1059a-e7c4-444e-b35e-186c99553ebe",
   "metadata": {},
   "outputs": [
    {
     "data": {
      "text/plain": [
       "'2345678'"
      ]
     },
     "execution_count": 36,
     "metadata": {},
     "output_type": "execute_result"
    }
   ],
   "source": [
    "s = \"12345678\"\n",
    "s = s[1:]\n",
    "s"
   ]
  },
  {
   "cell_type": "code",
   "execution_count": 41,
   "id": "1965ec12-2b32-4f07-affc-f48f06ec6aca",
   "metadata": {},
   "outputs": [
    {
     "data": {
      "text/plain": [
       "'1234567'"
      ]
     },
     "execution_count": 41,
     "metadata": {},
     "output_type": "execute_result"
    }
   ],
   "source": [
    "s = \"12345678\"\n",
    "s = s[:-1]\n",
    "s"
   ]
  },
  {
   "cell_type": "code",
   "execution_count": 42,
   "id": "1ebba005-d026-4d29-860f-9b72c566c479",
   "metadata": {},
   "outputs": [
    {
     "data": {
      "text/plain": [
       "'7654'"
      ]
     },
     "execution_count": 42,
     "metadata": {},
     "output_type": "execute_result"
    }
   ],
   "source": [
    "s = \"12345678\"\n",
    "s = s[6:2:-1]\n",
    "s"
   ]
  },
  {
   "cell_type": "code",
   "execution_count": 43,
   "id": "99d47fd8-4287-4fba-a60c-db12d2f8c488",
   "metadata": {},
   "outputs": [
    {
     "data": {
      "text/plain": [
       "'87654321'"
      ]
     },
     "execution_count": 43,
     "metadata": {},
     "output_type": "execute_result"
    }
   ],
   "source": [
    "s = \"12345678\"\n",
    "s = s[::-1]\n",
    "s"
   ]
  },
  {
   "cell_type": "code",
   "execution_count": null,
   "id": "fae3b5f0-f686-4839-8ce3-5bc6b5204006",
   "metadata": {},
   "outputs": [],
   "source": []
  }
 ],
 "metadata": {
  "kernelspec": {
   "display_name": "Python 3 (ipykernel)",
   "language": "python",
   "name": "python3"
  },
  "language_info": {
   "codemirror_mode": {
    "name": "ipython",
    "version": 3
   },
   "file_extension": ".py",
   "mimetype": "text/x-python",
   "name": "python",
   "nbconvert_exporter": "python",
   "pygments_lexer": "ipython3",
   "version": "3.10.6"
  }
 },
 "nbformat": 4,
 "nbformat_minor": 5
}
