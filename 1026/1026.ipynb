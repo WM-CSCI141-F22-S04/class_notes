{
 "cells": [
  {
   "cell_type": "markdown",
   "id": "255ce614-75e9-4742-96c4-d25f553320fc",
   "metadata": {},
   "source": [
    "## Warm Up Exercise\n",
    "Given two sorted list of integers, merge them into a single sorted list. "
   ]
  },
  {
   "cell_type": "code",
   "execution_count": 2,
   "id": "3214d463-21b8-41a8-b142-659f3eb8c617",
   "metadata": {},
   "outputs": [],
   "source": [
    "def merge_two_list(la, lb):\n",
    "    lc = []\n",
    "    pa = 0\n",
    "    pb = 0\n",
    "    \n",
    "    for i in range(len(la) + len(lb)):\n",
    "        if pa >= len(la):\n",
    "            lc.append(lb[pb])\n",
    "            pb += 1\n",
    "        elif pb >= len(lb):\n",
    "            lc.append(la[pa])\n",
    "            pa += 1\n",
    "        else:\n",
    "            na = la[pa]\n",
    "            nb = lb[pb]\n",
    "            if na < nb:\n",
    "                lc.append(na)\n",
    "                pa += 1\n",
    "            else:\n",
    "                lc.append(nb)\n",
    "                pb += 1\n",
    "                \n",
    "    return lc\n",
    "                \n",
    "\n",
    "la = [1, 4, 5, 19, 20, 34, 56]\n",
    "lb = [1, 3, 4, 10, 11, 12, 19, 20, 21, 23, 25, 30, 35, 50]\n",
    "lc = merge_two_list(la, lb)\n",
    "assert lc == [1, 1, 3, 4, 4, 5, 10, 11, 12, 19, 19, 20, 20, 21, 23, 25, 30, 34, 35, 50, 56]"
   ]
  },
  {
   "cell_type": "markdown",
   "id": "74e43c0f-3a37-46ce-8c43-70950edf1ed2",
   "metadata": {},
   "source": [
    "# Tuple"
   ]
  },
  {
   "cell_type": "code",
   "execution_count": 4,
   "id": "25fc9002-b9ee-4295-92b9-5da1f4a9ff8a",
   "metadata": {},
   "outputs": [
    {
     "data": {
      "text/plain": [
       "(1, 2, 3)"
      ]
     },
     "execution_count": 4,
     "metadata": {},
     "output_type": "execute_result"
    }
   ],
   "source": [
    "l = [1, 2, 3]\n",
    "t = (1, 2, 3)\n",
    "t"
   ]
  },
  {
   "cell_type": "code",
   "execution_count": 5,
   "id": "f83200a5-c11d-494d-8c16-be6438ee4ac6",
   "metadata": {},
   "outputs": [
    {
     "data": {
      "text/plain": [
       "2"
      ]
     },
     "execution_count": 5,
     "metadata": {},
     "output_type": "execute_result"
    }
   ],
   "source": [
    "t[1]"
   ]
  },
  {
   "cell_type": "code",
   "execution_count": 6,
   "id": "7f3b8dc8-7a24-4433-8dd0-cb9aa9ef7495",
   "metadata": {},
   "outputs": [
    {
     "data": {
      "text/plain": [
       "('Alice', 22, 3.8)"
      ]
     },
     "execution_count": 6,
     "metadata": {},
     "output_type": "execute_result"
    }
   ],
   "source": [
    "t = (\"Alice\", 22, 3.8)\n",
    "t"
   ]
  },
  {
   "cell_type": "code",
   "execution_count": 7,
   "id": "6537802e-4b90-436c-afd2-d57a003b778c",
   "metadata": {},
   "outputs": [
    {
     "data": {
      "text/plain": [
       "140365441133312"
      ]
     },
     "execution_count": 7,
     "metadata": {},
     "output_type": "execute_result"
    }
   ],
   "source": [
    "id(t)"
   ]
  },
  {
   "cell_type": "code",
   "execution_count": 8,
   "id": "3506eb43-7a90-4475-84a9-a4862f557d81",
   "metadata": {},
   "outputs": [
    {
     "ename": "TypeError",
     "evalue": "'tuple' object does not support item assignment",
     "output_type": "error",
     "traceback": [
      "\u001b[0;31m---------------------------------------------------------------------------\u001b[0m",
      "\u001b[0;31mTypeError\u001b[0m                                 Traceback (most recent call last)",
      "Cell \u001b[0;32mIn [8], line 1\u001b[0m\n\u001b[0;32m----> 1\u001b[0m \u001b[43mt\u001b[49m\u001b[43m[\u001b[49m\u001b[38;5;241;43m0\u001b[39;49m\u001b[43m]\u001b[49m \u001b[38;5;241m=\u001b[39m \u001b[38;5;124m\"\u001b[39m\u001b[38;5;124mBob\u001b[39m\u001b[38;5;124m\"\u001b[39m\n",
      "\u001b[0;31mTypeError\u001b[0m: 'tuple' object does not support item assignment"
     ]
    }
   ],
   "source": [
    "t[0] = \"Bob\""
   ]
  },
  {
   "cell_type": "code",
   "execution_count": 9,
   "id": "17717ed4-a177-416c-b8a7-5d3c17d120a2",
   "metadata": {},
   "outputs": [
    {
     "data": {
      "text/plain": [
       "('Bob', 22, 3.8)"
      ]
     },
     "execution_count": 9,
     "metadata": {},
     "output_type": "execute_result"
    }
   ],
   "source": [
    "t = (\"Bob\", 22, 3.8)\n",
    "t"
   ]
  },
  {
   "cell_type": "code",
   "execution_count": 10,
   "id": "45b3640b-3882-4cf3-ab2b-a012485f4b33",
   "metadata": {},
   "outputs": [
    {
     "data": {
      "text/plain": [
       "140364817938240"
      ]
     },
     "execution_count": 10,
     "metadata": {},
     "output_type": "execute_result"
    }
   ],
   "source": [
    "id(t)"
   ]
  },
  {
   "cell_type": "code",
   "execution_count": 11,
   "id": "aea66c13-5db2-4457-a3fc-bdb1b55c0bd5",
   "metadata": {},
   "outputs": [
    {
     "data": {
      "text/plain": [
       "[('Alice', 22, 3.8), ('Bob', 23, 3.9)]"
      ]
     },
     "execution_count": 11,
     "metadata": {},
     "output_type": "execute_result"
    }
   ],
   "source": [
    "list_of_student = [\n",
    "    (\"Alice\", 22, 3.8),\n",
    "    (\"Bob\", 23, 3.9),\n",
    "]\n",
    "list_of_student"
   ]
  },
  {
   "cell_type": "code",
   "execution_count": 12,
   "id": "0182b1f7-7cb0-4f6f-a17a-3d2a60975f9e",
   "metadata": {},
   "outputs": [],
   "source": [
    "def example_function():\n",
    "    return 1, 2"
   ]
  },
  {
   "cell_type": "code",
   "execution_count": 13,
   "id": "86e61da6-6f35-4c4e-b31e-7084f67d0e76",
   "metadata": {},
   "outputs": [
    {
     "name": "stdout",
     "output_type": "stream",
     "text": [
      "Bob\n",
      "22\n",
      "3.8\n"
     ]
    }
   ],
   "source": [
    "for item in t:\n",
    "    print(item)"
   ]
  },
  {
   "cell_type": "markdown",
   "id": "fc8e932a-efe8-44b1-b98e-44c47990e85e",
   "metadata": {},
   "source": [
    "# Use dicationary as a set"
   ]
  },
  {
   "cell_type": "markdown",
   "id": "27587729-1e30-4bd6-8443-8c29c5e5baf2",
   "metadata": {},
   "source": [
    "## Exercise \n",
    "Insert elements of a list into a dictionary as keys, keep all the values as True."
   ]
  },
  {
   "cell_type": "code",
   "execution_count": 14,
   "id": "905e1dde-99bc-4ae5-8307-557c370c33b6",
   "metadata": {},
   "outputs": [],
   "source": [
    "## Complexity O(n)\n",
    "def list_to_set(l):\n",
    "    d = {}\n",
    "    for elem in l:\n",
    "        d[elem] = True # O(1)\n",
    "    return d"
   ]
  },
  {
   "cell_type": "code",
   "execution_count": 15,
   "id": "4005dfcf-b34c-40f1-a879-7da71b870aeb",
   "metadata": {},
   "outputs": [
    {
     "data": {
      "text/plain": [
       "{1: True, 3: True, 4: True, 6: True, 9: True, 10: True, 11: True}"
      ]
     },
     "execution_count": 15,
     "metadata": {},
     "output_type": "execute_result"
    }
   ],
   "source": [
    "l = [1, 3, 4, 6, 9, 10, 11]\n",
    "d = list_to_set(l)\n",
    "d # Set"
   ]
  },
  {
   "cell_type": "markdown",
   "id": "ac4a3cec-ce33-4e39-a8a6-3d5edf8080bb",
   "metadata": {},
   "source": [
    "Check if `num` is in list if `d` is available. "
   ]
  },
  {
   "cell_type": "code",
   "execution_count": 16,
   "id": "e9f848c7-a1cf-438c-b646-c8f548778de4",
   "metadata": {},
   "outputs": [],
   "source": [
    "## Complexity O(1)\n",
    "## Complexity when d is not available O(n)\n",
    "def is_num_in_list(num, l, d):\n",
    "    return num in d "
   ]
  },
  {
   "cell_type": "code",
   "execution_count": 17,
   "id": "f431ad02-9d01-4c36-8366-4d092d447d3a",
   "metadata": {},
   "outputs": [
    {
     "data": {
      "text/plain": [
       "True"
      ]
     },
     "execution_count": 17,
     "metadata": {},
     "output_type": "execute_result"
    }
   ],
   "source": [
    "l = [1, 3, 4, 6, 9, 10, 11]\n",
    "d = list_to_set(l)\n",
    "is_num_in_list(4, l, d)"
   ]
  },
  {
   "cell_type": "markdown",
   "id": "83f48243-8e8b-44b6-97f5-4d6da0d835ba",
   "metadata": {},
   "source": [
    "## Exercise \n",
    "Two-Sum Problem: Given a list of integer numbers and a sum, find the indicies of two numbers in the list that has the sum of the given sum."
   ]
  },
  {
   "cell_type": "code",
   "execution_count": 21,
   "id": "7e859718-33dd-4c22-b42e-038a824f3e80",
   "metadata": {},
   "outputs": [],
   "source": [
    "## Complexity of O(n^2)\n",
    "def two_sum(l, num):\n",
    "    for n in l: # O(n)\n",
    "        target = num - n\n",
    "        if target in l: # O(n)\n",
    "            return n, target\n",
    "    \n",
    "    return -1, -1\n",
    "\n",
    "l = [1, 3, 4, 6, 9, 10, 11]\n",
    "assert two_sum(l, 12) == (1, 11) or two_sum(l, 12) == (3, 9)"
   ]
  },
  {
   "cell_type": "code",
   "execution_count": 22,
   "id": "d32c72d4-2cdf-42b9-a104-e46ca7c35fb0",
   "metadata": {},
   "outputs": [],
   "source": [
    "def list_to_set(l):\n",
    "    d = {}\n",
    "    for elem in l:\n",
    "        d[elem] = True # O(1)\n",
    "    return d\n",
    "\n",
    "## Complexity of O(n)\n",
    "def two_sum(l, num):\n",
    "    d = list_to_set(l) # O(n)\n",
    "    \n",
    "    for n in l: # n iterations -> O(n)\n",
    "        target = num - n\n",
    "        if target in d: # O(1)\n",
    "            return n, target\n",
    "    \n",
    "    return -1, -1\n",
    "\n",
    "l = [1, 3, 4, 6, 9, 10, 11]\n",
    "assert two_sum(l, 12) == (1, 11) or two_sum(l, 12) == (3, 9)"
   ]
  },
  {
   "cell_type": "markdown",
   "id": "164451b1-b7d5-4e39-9ede-924cac69d1ce",
   "metadata": {},
   "source": [
    "## Histogram Pattern"
   ]
  },
  {
   "cell_type": "markdown",
   "id": "d8e4158c-351d-418d-9ee8-f5e5877b7196",
   "metadata": {},
   "source": [
    "## Exercise\n",
    "Find the mode of an integer list. "
   ]
  },
  {
   "cell_type": "code",
   "execution_count": null,
   "id": "231a82d2-c7db-4a79-b910-3c28900ef125",
   "metadata": {},
   "outputs": [],
   "source": []
  }
 ],
 "metadata": {
  "kernelspec": {
   "display_name": "Python 3 (ipykernel)",
   "language": "python",
   "name": "python3"
  },
  "language_info": {
   "codemirror_mode": {
    "name": "ipython",
    "version": 3
   },
   "file_extension": ".py",
   "mimetype": "text/x-python",
   "name": "python",
   "nbconvert_exporter": "python",
   "pygments_lexer": "ipython3",
   "version": "3.10.6"
  }
 },
 "nbformat": 4,
 "nbformat_minor": 5
}
