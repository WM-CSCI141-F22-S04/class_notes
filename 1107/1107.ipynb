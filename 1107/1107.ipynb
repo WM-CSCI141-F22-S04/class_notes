{
 "cells": [
  {
   "cell_type": "markdown",
   "id": "d7da0145-2f54-45fc-a41e-667e102bdc0d",
   "metadata": {},
   "source": [
    "## Warm Up Exercise\n",
    "Implement a Stack. \n",
    "\n",
    "Define 2 functions, one is called `push` and the other one is called `pop`. Both of them should take a list as the first argument and an element (any time) as the second argument. \n",
    "\n",
    "The function `push` should add the element into the list. The `pop` function should return and remove the most recently added element. "
   ]
  },
  {
   "cell_type": "markdown",
   "id": "d36982a2-a55a-4d3a-b456-1e2d6c8e677b",
   "metadata": {},
   "source": [
    "* Stack - First in last out (FILO) queue\n",
    "* Queue - First in first out (FIFO) queue\n",
    "* Priority Queue \n",
    "\n",
    "* `push` `pop`"
   ]
  },
  {
   "cell_type": "code",
   "execution_count": 4,
   "id": "0e1f86ae-5528-4900-9998-14785ea443a5",
   "metadata": {},
   "outputs": [
    {
     "name": "stdout",
     "output_type": "stream",
     "text": [
      "inside function 4\n",
      "outside function 3\n"
     ]
    }
   ],
   "source": [
    "def add_one(a):\n",
    "    a = a+1\n",
    "    print(\"inside function\", a)\n",
    "    \n",
    "a = 3\n",
    "add_one(a)\n",
    "print(\"outside function\", a)"
   ]
  },
  {
   "cell_type": "code",
   "execution_count": 5,
   "id": "e03f2f19-aaa0-418d-ad89-7268aa040542",
   "metadata": {},
   "outputs": [],
   "source": [
    "def push(l, elem):\n",
    "    l.append(elem)\n",
    "\n",
    "def pop(l):\n",
    "    elem = l[-1]\n",
    "    l = l[:-1]\n",
    "    return elem, l\n",
    "\n",
    "\n",
    "def test_push_pop():\n",
    "    l = []\n",
    "    push(l, 3)\n",
    "    push(l, 4)\n",
    "    push(l, 5)\n",
    "    elem, l = pop(l) \n",
    "    assert elem == 5\n",
    "    # assert pop(l) == 4\n",
    "    # push(l, 10)\n",
    "    # assert pop(l) == 10\n",
    "    # assert pop(l) == 3\n",
    "    \n",
    "test_push_pop()"
   ]
  },
  {
   "cell_type": "markdown",
   "id": "ea511698-21d7-4994-849b-6808a69991ab",
   "metadata": {},
   "source": [
    "## Define class\n",
    "Define a `Rectangle` class that has two properties as width and height. Users can initialize the width and height when instantiating the `Rectangle` class."
   ]
  },
  {
   "cell_type": "code",
   "execution_count": 6,
   "id": "46d2c9eb-6607-4fe7-b70d-967dedf35851",
   "metadata": {},
   "outputs": [],
   "source": [
    "class Rectangle:\n",
    "    \n",
    "    def __init__(self, width, height):\n",
    "        self.width = width\n",
    "        self.height = height"
   ]
  },
  {
   "cell_type": "code",
   "execution_count": 8,
   "id": "e3ec5320-fd46-4d82-91b9-14c95fcbf2d6",
   "metadata": {},
   "outputs": [
    {
     "name": "stdout",
     "output_type": "stream",
     "text": [
      "<__main__.Rectangle object at 0x7f94ef213670>\n"
     ]
    }
   ],
   "source": [
    "r = Rectangle(10, 20)\n",
    "print(r)"
   ]
  },
  {
   "cell_type": "code",
   "execution_count": 9,
   "id": "e16b26a8-9fae-4396-929e-cfab7cdce4f3",
   "metadata": {},
   "outputs": [
    {
     "data": {
      "text/plain": [
       "10"
      ]
     },
     "execution_count": 9,
     "metadata": {},
     "output_type": "execute_result"
    }
   ],
   "source": [
    "r.width"
   ]
  },
  {
   "cell_type": "code",
   "execution_count": 10,
   "id": "5da2ea47-7959-436a-a308-f46ffc782d17",
   "metadata": {},
   "outputs": [
    {
     "data": {
      "text/plain": [
       "20"
      ]
     },
     "execution_count": 10,
     "metadata": {},
     "output_type": "execute_result"
    }
   ],
   "source": [
    "r.height"
   ]
  },
  {
   "cell_type": "markdown",
   "id": "07e4302f-aa0e-4938-9a78-6d8d3d915679",
   "metadata": {},
   "source": [
    "## Methods\n",
    "The `Rectangle` class should also have a method `size` that returns the size of the rectangle."
   ]
  },
  {
   "cell_type": "code",
   "execution_count": 19,
   "id": "03c57178-e54c-44f5-b9cf-0235dd26819f",
   "metadata": {},
   "outputs": [],
   "source": [
    "class Rectangle:\n",
    "    \n",
    "    def __init__(self, width, height):\n",
    "        self.width = width\n",
    "        self.height = height\n",
    "        \n",
    "    def size(self):\n",
    "        return self.width * self.height\n",
    "\n",
    "\n",
    "def test_rectangle_size():\n",
    "    r = Rectangle(10, 20)\n",
    "    assert r.size() == 200\n",
    "\n",
    "\n",
    "test_rectangle_size()"
   ]
  },
  {
   "cell_type": "markdown",
   "id": "066cfd8d-35c6-458d-b5e6-6eb6771a6273",
   "metadata": {},
   "source": [
    "## Exercise\n",
    "The `Rectangle` class should also have a method `is_square` that returns the true is the rectangle is a square."
   ]
  },
  {
   "cell_type": "code",
   "execution_count": 23,
   "id": "fd5ef236-1859-41d9-9e18-b4f6c7199589",
   "metadata": {},
   "outputs": [],
   "source": [
    "class Rectangle:\n",
    "    \n",
    "    def __init__(self, width, height):\n",
    "        self.width = width\n",
    "        self.height = height\n",
    "        \n",
    "    def size(self):\n",
    "        return self.width * self.height\n",
    "    \n",
    "    def is_square(self):\n",
    "        return self.width == self.height\n",
    "\n",
    "\n",
    "def test_rectangle_is_square():\n",
    "    r1 = Rectangle(10, 20)\n",
    "    r2 = Rectangle(10, 10)\n",
    "    \n",
    "    assert r1.is_square() == False\n",
    "    assert r2.is_square() == True\n",
    "\n",
    "\n",
    "test_rectangle_is_square()"
   ]
  },
  {
   "cell_type": "code",
   "execution_count": 25,
   "id": "8141d85f-a7e6-411c-a17b-c8704b5ede20",
   "metadata": {},
   "outputs": [
    {
     "name": "stdout",
     "output_type": "stream",
     "text": [
      "-200\n"
     ]
    }
   ],
   "source": [
    "r1 = Rectangle(10, 20)\n",
    "r1.width = -10\n",
    "print(r1.size())"
   ]
  },
  {
   "cell_type": "markdown",
   "id": "5f5d1c66-7580-4311-89c7-76f1046ac20e",
   "metadata": {},
   "source": [
    "## Defensive Programming"
   ]
  },
  {
   "cell_type": "code",
   "execution_count": 26,
   "id": "7eef4474-06ef-4de9-bb51-feb97ed52f72",
   "metadata": {},
   "outputs": [],
   "source": [
    "class Rectangle:\n",
    "    \n",
    "    def __init__(self, width, height):\n",
    "        self.__width = width ## Private field\n",
    "        self.__height = height\n",
    "        \n",
    "    def size(self):\n",
    "        return self.__width * self.__height\n",
    "    \n",
    "    def is_square(self):\n",
    "        return self.__width == self.__height\n",
    "    \n"
   ]
  },
  {
   "cell_type": "code",
   "execution_count": 27,
   "id": "bf1ee886-963a-4d9e-97c9-baf22aefe345",
   "metadata": {},
   "outputs": [],
   "source": [
    "r = Rectangle(10, 10)"
   ]
  },
  {
   "cell_type": "code",
   "execution_count": 28,
   "id": "9e413e8f-be1b-4bff-be5d-7c2f7ba5a85a",
   "metadata": {},
   "outputs": [],
   "source": [
    "r.width = -10"
   ]
  },
  {
   "cell_type": "code",
   "execution_count": 31,
   "id": "fe6e9aac-5aa9-4e88-bf06-c73e89e866d7",
   "metadata": {},
   "outputs": [],
   "source": [
    "r.__width = -10"
   ]
  },
  {
   "cell_type": "code",
   "execution_count": 32,
   "id": "5c06b044-c3e5-40fd-b405-93b9de7327d6",
   "metadata": {},
   "outputs": [
    {
     "data": {
      "text/plain": [
       "100"
      ]
     },
     "execution_count": 32,
     "metadata": {},
     "output_type": "execute_result"
    }
   ],
   "source": [
    "r.size()"
   ]
  },
  {
   "cell_type": "code",
   "execution_count": 33,
   "id": "14027624-29f6-4fe9-84e6-4e17d8b7c4d1",
   "metadata": {},
   "outputs": [
    {
     "data": {
      "text/plain": [
       "{'_Rectangle__width': 10,\n",
       " '_Rectangle__height': 10,\n",
       " 'width': -10,\n",
       " '__width': -10}"
      ]
     },
     "execution_count": 33,
     "metadata": {},
     "output_type": "execute_result"
    }
   ],
   "source": [
    "r.__dict__"
   ]
  },
  {
   "cell_type": "code",
   "execution_count": 34,
   "id": "23a6864c-d8c8-4e25-ac43-191ee619ef76",
   "metadata": {},
   "outputs": [
    {
     "data": {
      "text/plain": [
       "{'_Rectangle__width': 10, '_Rectangle__height': 20}"
      ]
     },
     "execution_count": 34,
     "metadata": {},
     "output_type": "execute_result"
    }
   ],
   "source": [
    "r2 = Rectangle(10, 20)\n",
    "r2.__dict__"
   ]
  },
  {
   "cell_type": "code",
   "execution_count": null,
   "id": "e9c810b1-ff20-40db-90d5-d7ac5ca40d7b",
   "metadata": {},
   "outputs": [],
   "source": []
  }
 ],
 "metadata": {
  "kernelspec": {
   "display_name": "Python 3 (ipykernel)",
   "language": "python",
   "name": "python3"
  },
  "language_info": {
   "codemirror_mode": {
    "name": "ipython",
    "version": 3
   },
   "file_extension": ".py",
   "mimetype": "text/x-python",
   "name": "python",
   "nbconvert_exporter": "python",
   "pygments_lexer": "ipython3",
   "version": "3.10.6"
  }
 },
 "nbformat": 4,
 "nbformat_minor": 5
}
