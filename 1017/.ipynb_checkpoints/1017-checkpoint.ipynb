{
 "cells": [
  {
   "cell_type": "markdown",
   "id": "48b7c894-1dc9-411e-b72b-1b1fdc7ae812",
   "metadata": {},
   "source": [
    "## Warm Up Exercise\n",
    "Given an integer list, find the largest number and its index."
   ]
  },
  {
   "cell_type": "code",
   "execution_count": 1,
   "id": "4c45a2c3-d4f7-4ac1-88b9-a1a0a4c3e2cb",
   "metadata": {},
   "outputs": [
    {
     "name": "stdout",
     "output_type": "stream",
     "text": [
      "8 4\n"
     ]
    }
   ],
   "source": [
    "l = [4, 5, 1, 2, 8, 7, 7, 4]\n",
    "\n",
    "max_number = l[0]\n",
    "max_index = 0\n",
    "for i in range(len(l)):\n",
    "    if l[i] > max_number:\n",
    "        max_number = l[i]\n",
    "        max_index = i\n",
    "        \n",
    "print(max_number, max_index)\n",
    "    "
   ]
  },
  {
   "cell_type": "markdown",
   "id": "2241699f-9a93-43ed-8717-c01c7f94a92f",
   "metadata": {},
   "source": [
    "## Exercise\n",
    "Given a list and two integer a and b, swap the list element with index a and b."
   ]
  },
  {
   "cell_type": "code",
   "execution_count": 6,
   "id": "06d0c1dd-b18b-493c-ab21-d46b25c578d5",
   "metadata": {},
   "outputs": [
    {
     "name": "stdout",
     "output_type": "stream",
     "text": [
      "[2, 1]\n"
     ]
    }
   ],
   "source": [
    "def swap(l, a, b):\n",
    "    temp = l[b]\n",
    "    l[b] = l[a]\n",
    "    l[a] = temp\n",
    "    \n",
    "def swap_wrong(l, a, b):\n",
    "    l[b] = l[a]\n",
    "    l[a] = l[b]\n",
    "    \n",
    "def swap_2(l, a, b):\n",
    "    l[b], l[a] = l[a], l[b]\n",
    "    \n",
    "l = [1,2]\n",
    "swap_2(l, 0, 1)\n",
    "print(l)"
   ]
  },
  {
   "cell_type": "markdown",
   "id": "9599cf51-3149-4d16-b7c2-25e878ae02a6",
   "metadata": {},
   "source": [
    "## Exercise: Sorting\n"
   ]
  },
  {
   "cell_type": "code",
   "execution_count": null,
   "id": "f5481648-9990-4cbb-9fc2-7bb1768b1159",
   "metadata": {},
   "outputs": [],
   "source": [
    "l = [4, 5, 1, 2, 8, 7, 7, 4]\n",
    "l = [8, 5, 1, 2, 4, 7, 7, 4]\n",
    "l = [8, 7, 1, 2, 4, 5, 7, 4]\n",
    "l = [8, 7, 7, 2, 4, 5, 1, 4]\n",
    "l = [8, 7, 7, 5, 4, 2, 1, 4]\n",
    "l = [8, 7, 7, 5, 4, 2, 1, 4]\n",
    "l = [8, 7, 7, 5, 4, 4, 1, 2]\n",
    "l = [8, 7, 7, 5, 4, 4, 2, 1]"
   ]
  },
  {
   "cell_type": "code",
   "execution_count": 15,
   "id": "7317ca16-020c-416c-ade6-500dbb50a348",
   "metadata": {},
   "outputs": [
    {
     "name": "stdout",
     "output_type": "stream",
     "text": [
      "8 4\n"
     ]
    }
   ],
   "source": [
    "def largest(l):\n",
    "    max_number = l[0]\n",
    "    max_index = 0\n",
    "    for i in range(len(l)):\n",
    "        if l[i] > max_number:\n",
    "            max_number = l[i]\n",
    "            max_index = i\n",
    "\n",
    "    return max_number, max_index\n",
    "\n",
    "l = [4, 5, 1, 2, 8, 7, 7, 4]\n",
    "mn, mi = largest(l)\n",
    "print(mn, mi)\n"
   ]
  },
  {
   "cell_type": "code",
   "execution_count": 16,
   "id": "d9f2add5-8981-4e4d-ace6-3b514bd438d3",
   "metadata": {},
   "outputs": [
    {
     "name": "stdout",
     "output_type": "stream",
     "text": [
      "4\n"
     ]
    }
   ],
   "source": [
    "_, mi = largest(l)\n",
    "print(mi)"
   ]
  },
  {
   "cell_type": "code",
   "execution_count": 17,
   "id": "a01dcd84-8ffa-4aab-890b-e6bc5eade39f",
   "metadata": {},
   "outputs": [
    {
     "data": {
      "text/plain": [
       "[5, 1]"
      ]
     },
     "execution_count": 17,
     "metadata": {},
     "output_type": "execute_result"
    }
   ],
   "source": [
    "l = [4, 5, 1, 2, 8, 7, 7, 4]\n",
    "l[1:3]"
   ]
  },
  {
   "cell_type": "code",
   "execution_count": 18,
   "id": "4f1f75fd-2f11-44f3-95fb-86a025c4b4a7",
   "metadata": {},
   "outputs": [
    {
     "data": {
      "text/plain": [
       "[5, 1, 2, 8, 7, 7, 4]"
      ]
     },
     "execution_count": 18,
     "metadata": {},
     "output_type": "execute_result"
    }
   ],
   "source": [
    "l = [4, 5, 1, 2, 8, 7, 7, 4]\n",
    "l[1:]"
   ]
  },
  {
   "cell_type": "code",
   "execution_count": 23,
   "id": "b49b1f03-5dfd-4fce-b01f-05ed753320c8",
   "metadata": {},
   "outputs": [
    {
     "name": "stdout",
     "output_type": "stream",
     "text": [
      "1 5\n",
      "[8, 7, 1, 2, 4, 5, 7, 4]\n"
     ]
    }
   ],
   "source": [
    "def largest(l, left, right):\n",
    "    max_number = l[left]\n",
    "    max_index = left\n",
    "    for i in range(left, right+1):\n",
    "        if l[i] > max_number:\n",
    "            max_number = l[i]\n",
    "            max_index = i\n",
    "\n",
    "    return max_number, max_index\n",
    "\n",
    "def move_largest_to_left(l, left_index):\n",
    "    _, max_index = largest(l, left_index, len(l)-1)\n",
    "    print(left_index, max_index)\n",
    "    swap(l, left_index, max_index)\n",
    "    \n",
    "l = [8, 5, 1, 2, 4, 7, 7, 4]\n",
    "move_largest_to_left(l, 1)\n",
    "print(l)"
   ]
  },
  {
   "cell_type": "code",
   "execution_count": 25,
   "id": "5d1d7e49-c08a-4fd5-a68c-7da9694bc892",
   "metadata": {},
   "outputs": [
    {
     "name": "stdout",
     "output_type": "stream",
     "text": [
      "[8, 7, 7, 5, 4, 4, 2, 1]\n"
     ]
    }
   ],
   "source": [
    "## Complexity:\n",
    "def swap(l, a, b):\n",
    "    temp = l[b]\n",
    "    l[b] = l[a]\n",
    "    l[a] = temp\n",
    "\n",
    "## Complexity:\n",
    "def largest(l, left, right):\n",
    "    max_number = l[left]\n",
    "    max_index = left\n",
    "    for i in range(left, right+1):\n",
    "        if l[i] > max_number:\n",
    "            max_number = l[i]\n",
    "            max_index = i\n",
    "\n",
    "    return max_number, max_index\n",
    "\n",
    "## Complexity:\n",
    "def move_largest_to_left(l, left_index):\n",
    "    _, max_index = largest(l, left_index, len(l)-1)\n",
    "    swap(l, left_index, max_index)\n",
    "    \n",
    "## Complexity:  \n",
    "def sort(l):\n",
    "    for i in range(len(l)-1):\n",
    "        move_largest_to_left(l, i)\n",
    "\n",
    "l = [4, 5, 1, 2, 8, 7, 7, 4]\n",
    "sort(l)\n",
    "print(l)\n",
    "    "
   ]
  },
  {
   "cell_type": "code",
   "execution_count": 14,
   "id": "bbac7b21-54ea-4485-a219-321b5a5e0800",
   "metadata": {},
   "outputs": [
    {
     "name": "stdout",
     "output_type": "stream",
     "text": [
      "2756819\n",
      "103993\n"
     ]
    }
   ],
   "source": [
    "import random\n",
    "import time\n",
    "\n",
    "l = []\n",
    "for i in range(10000):\n",
    "    l.append(random.random())\n",
    "\n",
    "start_time = time.time_ns()\n",
    "l.sort()\n",
    "end_time = time.time_ns()\n",
    "\n",
    "print(end_time - start_time)\n",
    "\n",
    "start_time = time.time_ns()\n",
    "sort(l)\n",
    "end_time = time.time_ns()\n",
    "\n",
    "print(end_time - start_time)"
   ]
  },
  {
   "cell_type": "code",
   "execution_count": null,
   "id": "4e4c2cf8-abe2-4589-bda0-68f340235964",
   "metadata": {},
   "outputs": [],
   "source": []
  }
 ],
 "metadata": {
  "kernelspec": {
   "display_name": "Python 3 (ipykernel)",
   "language": "python",
   "name": "python3"
  },
  "language_info": {
   "codemirror_mode": {
    "name": "ipython",
    "version": 3
   },
   "file_extension": ".py",
   "mimetype": "text/x-python",
   "name": "python",
   "nbconvert_exporter": "python",
   "pygments_lexer": "ipython3",
   "version": "3.10.6"
  }
 },
 "nbformat": 4,
 "nbformat_minor": 5
}
