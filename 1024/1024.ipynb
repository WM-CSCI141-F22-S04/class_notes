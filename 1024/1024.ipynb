{
 "cells": [
  {
   "cell_type": "markdown",
   "id": "fb7dbae4-94cf-409c-b218-1e4fde68da3d",
   "metadata": {},
   "source": [
    "## Warm Up Exercise\n",
    "Given an integer list, calculate the average of the list. \n"
   ]
  },
  {
   "cell_type": "code",
   "execution_count": 2,
   "id": "d0170e7f-ee0b-44c9-bcfe-92e3842561e5",
   "metadata": {},
   "outputs": [
    {
     "name": "stdout",
     "output_type": "stream",
     "text": [
      "2.5\n"
     ]
    }
   ],
   "source": [
    "def average_of_list(l):\n",
    "    sum = 0\n",
    "    for num in l:\n",
    "        sum += num\n",
    "        \n",
    "    avg = sum / len(l)\n",
    "    return avg\n",
    "\n",
    "l = [1, 2, 3, 4]\n",
    "print(average_of_list(l))"
   ]
  },
  {
   "cell_type": "markdown",
   "id": "499e9067-81df-4d44-8f8f-72db07cfea58",
   "metadata": {},
   "source": [
    "## Filtering in a list\n",
    "Given a list of integers, filter out the numbers that are multiples of 3. "
   ]
  },
  {
   "cell_type": "code",
   "execution_count": 7,
   "id": "89c2400a-ac46-4e0c-a800-72e069d740e6",
   "metadata": {},
   "outputs": [
    {
     "name": "stdout",
     "output_type": "stream",
     "text": [
      "[1, 2, 4, 5, 7]\n"
     ]
    }
   ],
   "source": [
    "def filter_out_multiples_of_3(l):\n",
    "    new_list = []\n",
    "    for num in l:\n",
    "        if num%3 != 0:\n",
    "            new_list.append(num)\n",
    "            \n",
    "    return new_list\n",
    "\n",
    "l = [1, 2, 3, 4, 5, 6, 7]\n",
    "l = filter_out_multiples_of_3(l)\n",
    "print(l)"
   ]
  },
  {
   "cell_type": "code",
   "execution_count": 14,
   "id": "197bb4c6-6fda-4788-95de-679db827011f",
   "metadata": {},
   "outputs": [
    {
     "name": "stdout",
     "output_type": "stream",
     "text": [
      "[1, 2, 4, 5, 7]\n"
     ]
    }
   ],
   "source": [
    "def filter_out_multiples_of_3_in_place(l):\n",
    "    i = len(l) - 1\n",
    "    while i >= 0:\n",
    "        if l[i]%3 == 0:\n",
    "            del l[i]\n",
    "        \n",
    "        i-= 1\n",
    "        \n",
    "            \n",
    "l = [1, 2, 3, 4, 5, 6, 6, 7]\n",
    "filter_out_multiples_of_3_in_place(l)\n",
    "print(l)"
   ]
  },
  {
   "cell_type": "code",
   "execution_count": 5,
   "id": "bb0ccd95-6e65-4310-90e4-aa343ed8a8ee",
   "metadata": {},
   "outputs": [
    {
     "data": {
      "text/plain": [
       "[1, 3]"
      ]
     },
     "execution_count": 5,
     "metadata": {},
     "output_type": "execute_result"
    }
   ],
   "source": [
    "l = [1, 2, 3]\n",
    "del l[1]\n",
    "l"
   ]
  },
  {
   "cell_type": "markdown",
   "id": "1c0b805f-495e-4b64-99d2-bce777ee33bf",
   "metadata": {},
   "source": [
    "## Search in ordered list\n",
    "Given a list that is sorted, find the index of a certain element in the list. "
   ]
  },
  {
   "cell_type": "code",
   "execution_count": 17,
   "id": "11a1cd1b-34c7-4468-bf47-64dca58adee3",
   "metadata": {},
   "outputs": [
    {
     "name": "stdout",
     "output_type": "stream",
     "text": [
      "8\n"
     ]
    }
   ],
   "source": [
    "## Complexity O(log(n))\n",
    "\n",
    "def search_in_sorted_list(l, num):\n",
    "    return search_in_sorted_list_with_bound(l, num, 0, len(l))\n",
    "\n",
    "def search_in_sorted_list_with_bound(l, num, lower, upper):\n",
    "    if l[lower] == num:\n",
    "        return lower\n",
    "    \n",
    "    mid_index = (lower + upper) // 2\n",
    "    mid_num = l[mid_index]\n",
    "    \n",
    "    if num < mid_num:\n",
    "        return search_in_sorted_list_with_bound(l, num, lower, mid_index)\n",
    "    else:\n",
    "        return search_in_sorted_list_with_bound(l, num, mid_index, upper)\n",
    "    \n",
    "    \n",
    "l = [1, 2, 3, 4, 5, 6, 7, 8, 9, 10, 11]\n",
    "print(search_in_sorted_list(l, 9))"
   ]
  },
  {
   "cell_type": "code",
   "execution_count": 22,
   "id": "a1764a89-6960-44da-ac39-5ea3ead01cbc",
   "metadata": {},
   "outputs": [],
   "source": [
    "## Key, Value Pair\n",
    "## Hash Table\n",
    "d = {}"
   ]
  },
  {
   "cell_type": "code",
   "execution_count": 25,
   "id": "51deddf8-5ee7-41c9-9aaf-e01fe8b52643",
   "metadata": {},
   "outputs": [
    {
     "data": {
      "text/plain": [
       "1"
      ]
     },
     "execution_count": 25,
     "metadata": {},
     "output_type": "execute_result"
    }
   ],
   "source": [
    "d = {\"Jan\": 1, \"Feb\": 2}\n",
    "d[\"Jan\"]"
   ]
  },
  {
   "cell_type": "code",
   "execution_count": 26,
   "id": "71f7d367-25b9-4b97-890b-c12154c15f1b",
   "metadata": {},
   "outputs": [
    {
     "data": {
      "text/plain": [
       "'Alice'"
      ]
     },
     "execution_count": 26,
     "metadata": {},
     "output_type": "execute_result"
    }
   ],
   "source": [
    "d = {93000123: \"Alice\", 93000124: \"Bob\"}\n",
    "d[93000123]"
   ]
  },
  {
   "cell_type": "code",
   "execution_count": 28,
   "id": "58086f76-0141-49a3-9d2b-43e68e948cfd",
   "metadata": {},
   "outputs": [
    {
     "data": {
      "text/plain": [
       "{93000123: 'Alice', 93000124: 'Bob', 93000125: 'Cathy'}"
      ]
     },
     "execution_count": 28,
     "metadata": {},
     "output_type": "execute_result"
    }
   ],
   "source": [
    "d[93000125] = \"Cathy\"\n",
    "d"
   ]
  },
  {
   "cell_type": "code",
   "execution_count": 29,
   "id": "d2023341-c912-4790-83ae-430faccf5c94",
   "metadata": {},
   "outputs": [
    {
     "data": {
      "text/plain": [
       "{93000123: 'Alice', 93000124: 'Bob', 93000125: 'Daisy'}"
      ]
     },
     "execution_count": 29,
     "metadata": {},
     "output_type": "execute_result"
    }
   ],
   "source": [
    "d[93000125] = \"Daisy\"\n",
    "d"
   ]
  },
  {
   "cell_type": "code",
   "execution_count": 32,
   "id": "fe11ce83-981d-442e-8e33-b7364185b6ac",
   "metadata": {},
   "outputs": [
    {
     "name": "stdout",
     "output_type": "stream",
     "text": [
      "Duplicate key\n",
      "{93000123: 'Alice', 93000124: 'Bob', 93000125: 'Daisy'}\n"
     ]
    }
   ],
   "source": [
    "def add_student(d, id, name):\n",
    "    if id in d:\n",
    "        print(\"Duplicate key\")\n",
    "        return\n",
    "    \n",
    "    d[id] == name\n",
    "    \n",
    "add_student(d, 93000125, \"Cathy\")\n",
    "print(d)"
   ]
  },
  {
   "cell_type": "code",
   "execution_count": 34,
   "id": "b4fc876c-ba4f-44cb-a778-630c80525de2",
   "metadata": {},
   "outputs": [
    {
     "name": "stdout",
     "output_type": "stream",
     "text": [
      "{93000123: ['Alice'], 93000124: ['Bob'], 93000125: ['Cathy']}\n",
      "{93000123: ['Alice'], 93000124: ['Bob'], 93000125: ['Cathy', 'Daisy']}\n"
     ]
    }
   ],
   "source": [
    "def add_student(d, id, name):\n",
    "    if not id in d:\n",
    "        d[id] = []\n",
    "    \n",
    "    d[id].append(name)\n",
    "    \n",
    "d = {93000123: [\"Alice\"], 93000124: [\"Bob\"]}\n",
    "add_student(d, 93000125, \"Cathy\")\n",
    "print(d)\n",
    "add_student(d, 93000125, \"Daisy\")\n",
    "print(d)"
   ]
  },
  {
   "cell_type": "code",
   "execution_count": 42,
   "id": "ff03a418-bad3-4bec-b32d-7db482e9b22f",
   "metadata": {},
   "outputs": [
    {
     "name": "stdout",
     "output_type": "stream",
     "text": [
      "93000123 Alice\n",
      "93000124 Bob\n"
     ]
    }
   ],
   "source": [
    "d = {93000123: \"Alice\", 93000124: \"Bob\"}\n",
    "for id in d:\n",
    "    print(id, d[id])"
   ]
  },
  {
   "cell_type": "markdown",
   "id": "265ededf-c42b-4d86-a96b-d215aa627a0c",
   "metadata": {},
   "source": [
    "## Month name to month number\n",
    "Given a month name as \"Jan\", return the month number. Do not use if/elif."
   ]
  },
  {
   "cell_type": "markdown",
   "id": "709897b9-3a49-416d-8253-cbda703f4785",
   "metadata": {},
   "source": [
    "|    | List | Ordered List | Dictionary | \n",
    "|:--:|:--:|:--:|:--:|\n",
    "|Access by index| | | |\n",
    "|Access by content| | | |"
   ]
  },
  {
   "cell_type": "code",
   "execution_count": null,
   "id": "950fdc4c-021c-415c-9bb5-cf55a018c29e",
   "metadata": {},
   "outputs": [],
   "source": []
  }
 ],
 "metadata": {
  "kernelspec": {
   "display_name": "Python 3 (ipykernel)",
   "language": "python",
   "name": "python3"
  },
  "language_info": {
   "codemirror_mode": {
    "name": "ipython",
    "version": 3
   },
   "file_extension": ".py",
   "mimetype": "text/x-python",
   "name": "python",
   "nbconvert_exporter": "python",
   "pygments_lexer": "ipython3",
   "version": "3.10.6"
  }
 },
 "nbformat": 4,
 "nbformat_minor": 5
}
