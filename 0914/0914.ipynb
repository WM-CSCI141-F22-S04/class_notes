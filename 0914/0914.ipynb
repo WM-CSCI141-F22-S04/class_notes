{
 "cells": [
  {
   "cell_type": "markdown",
   "id": "1f2a7f69-54bf-4f37-84c7-97db94ca40a3",
   "metadata": {},
   "source": [
    "## Warm up exercise\n",
    "\n",
    "Define 3 integer variables, a, b, and c, assign them with any number you want. Then, define d to equal the average of a, b, and c. Print d."
   ]
  },
  {
   "cell_type": "code",
   "execution_count": 1,
   "id": "d903dfa0-872d-48ef-8b1d-a74d7d615bad",
   "metadata": {},
   "outputs": [
    {
     "ename": "KeyboardInterrupt",
     "evalue": "",
     "output_type": "error",
     "traceback": [
      "\u001b[0;31m---------------------------------------------------------------------------\u001b[0m",
      "\u001b[0;31mKeyboardInterrupt\u001b[0m                         Traceback (most recent call last)",
      "Cell \u001b[0;32mIn [1], line 5\u001b[0m\n\u001b[1;32m      3\u001b[0m c \u001b[38;5;241m=\u001b[39m \u001b[38;5;241m45\u001b[39m\n\u001b[1;32m      4\u001b[0m d \u001b[38;5;241m=\u001b[39m (a \u001b[38;5;241m+\u001b[39m b \u001b[38;5;241m+\u001b[39m c) \u001b[38;5;241m/\u001b[39m \u001b[38;5;241m3\u001b[39m\n\u001b[0;32m----> 5\u001b[0m \u001b[38;5;28;43mprint\u001b[39;49m(d)\n",
      "Cell \u001b[0;32mIn [1], line 5\u001b[0m\n\u001b[1;32m      3\u001b[0m c \u001b[38;5;241m=\u001b[39m \u001b[38;5;241m45\u001b[39m\n\u001b[1;32m      4\u001b[0m d \u001b[38;5;241m=\u001b[39m (a \u001b[38;5;241m+\u001b[39m b \u001b[38;5;241m+\u001b[39m c) \u001b[38;5;241m/\u001b[39m \u001b[38;5;241m3\u001b[39m\n\u001b[0;32m----> 5\u001b[0m \u001b[38;5;28;43mprint\u001b[39;49m(d)\n",
      "File \u001b[0;32m_pydevd_bundle/pydevd_cython.pyx:1443\u001b[0m, in \u001b[0;36m_pydevd_bundle.pydevd_cython.SafeCallWrapper.__call__\u001b[0;34m()\u001b[0m\n",
      "File \u001b[0;32m_pydevd_bundle/pydevd_cython.pyx:700\u001b[0m, in \u001b[0;36m_pydevd_bundle.pydevd_cython.PyDBFrame.trace_dispatch\u001b[0;34m()\u001b[0m\n",
      "File \u001b[0;32m_pydevd_bundle/pydevd_cython.pyx:1368\u001b[0m, in \u001b[0;36m_pydevd_bundle.pydevd_cython.PyDBFrame.trace_dispatch\u001b[0;34m()\u001b[0m\n",
      "File \u001b[0;32m_pydevd_bundle/pydevd_cython.pyx:1330\u001b[0m, in \u001b[0;36m_pydevd_bundle.pydevd_cython.PyDBFrame.trace_dispatch\u001b[0;34m()\u001b[0m\n",
      "File \u001b[0;32m_pydevd_bundle/pydevd_cython.pyx:311\u001b[0m, in \u001b[0;36m_pydevd_bundle.pydevd_cython.PyDBFrame.do_wait_suspend\u001b[0;34m()\u001b[0m\n",
      "File \u001b[0;32m/opt/conda/lib/python3.10/site-packages/debugpy/_vendored/pydevd/pydevd.py:2062\u001b[0m, in \u001b[0;36mPyDB.do_wait_suspend\u001b[0;34m(self, thread, frame, event, arg, exception_type)\u001b[0m\n\u001b[1;32m   2059\u001b[0m             from_this_thread\u001b[38;5;241m.\u001b[39mappend(frame_custom_thread_id)\n\u001b[1;32m   2061\u001b[0m     \u001b[38;5;28;01mwith\u001b[39;00m \u001b[38;5;28mself\u001b[39m\u001b[38;5;241m.\u001b[39m_threads_suspended_single_notification\u001b[38;5;241m.\u001b[39mnotify_thread_suspended(thread_id, stop_reason):\n\u001b[0;32m-> 2062\u001b[0m         keep_suspended \u001b[38;5;241m=\u001b[39m \u001b[38;5;28;43mself\u001b[39;49m\u001b[38;5;241;43m.\u001b[39;49m\u001b[43m_do_wait_suspend\u001b[49m\u001b[43m(\u001b[49m\u001b[43mthread\u001b[49m\u001b[43m,\u001b[49m\u001b[43m \u001b[49m\u001b[43mframe\u001b[49m\u001b[43m,\u001b[49m\u001b[43m \u001b[49m\u001b[43mevent\u001b[49m\u001b[43m,\u001b[49m\u001b[43m \u001b[49m\u001b[43marg\u001b[49m\u001b[43m,\u001b[49m\u001b[43m \u001b[49m\u001b[43msuspend_type\u001b[49m\u001b[43m,\u001b[49m\u001b[43m \u001b[49m\u001b[43mfrom_this_thread\u001b[49m\u001b[43m,\u001b[49m\u001b[43m \u001b[49m\u001b[43mframes_tracker\u001b[49m\u001b[43m)\u001b[49m\n\u001b[1;32m   2064\u001b[0m frames_list \u001b[38;5;241m=\u001b[39m \u001b[38;5;28;01mNone\u001b[39;00m\n\u001b[1;32m   2066\u001b[0m \u001b[38;5;28;01mif\u001b[39;00m keep_suspended:\n\u001b[1;32m   2067\u001b[0m     \u001b[38;5;66;03m# This means that we should pause again after a set next statement.\u001b[39;00m\n",
      "File \u001b[0;32m/opt/conda/lib/python3.10/site-packages/debugpy/_vendored/pydevd/pydevd.py:2098\u001b[0m, in \u001b[0;36mPyDB._do_wait_suspend\u001b[0;34m(self, thread, frame, event, arg, suspend_type, from_this_thread, frames_tracker)\u001b[0m\n\u001b[1;32m   2095\u001b[0m         \u001b[38;5;28mself\u001b[39m\u001b[38;5;241m.\u001b[39m_call_input_hook()\n\u001b[1;32m   2097\u001b[0m     \u001b[38;5;28mself\u001b[39m\u001b[38;5;241m.\u001b[39mprocess_internal_commands()\n\u001b[0;32m-> 2098\u001b[0m     \u001b[43mtime\u001b[49m\u001b[38;5;241;43m.\u001b[39;49m\u001b[43msleep\u001b[49m\u001b[43m(\u001b[49m\u001b[38;5;241;43m0.01\u001b[39;49m\u001b[43m)\u001b[49m\n\u001b[1;32m   2100\u001b[0m \u001b[38;5;28mself\u001b[39m\u001b[38;5;241m.\u001b[39mcancel_async_evaluation(get_current_thread_id(thread), \u001b[38;5;28mstr\u001b[39m(\u001b[38;5;28mid\u001b[39m(frame)))\n\u001b[1;32m   2102\u001b[0m \u001b[38;5;66;03m# process any stepping instructions\u001b[39;00m\n",
      "\u001b[0;31mKeyboardInterrupt\u001b[0m: "
     ]
    }
   ],
   "source": [
    "a = 10\n",
    "b = 14\n",
    "c = 45\n",
    "d = (a + b + c) / 3\n",
    "print(d)"
   ]
  },
  {
   "cell_type": "markdown",
   "id": "586f0089-00d9-4543-be41-ade22cbbc1fb",
   "metadata": {},
   "source": [
    "## Pointer to box model"
   ]
  },
  {
   "cell_type": "code",
   "execution_count": 4,
   "id": "0a2b4c34-e92e-4799-9b4b-a10448449633",
   "metadata": {},
   "outputs": [
    {
     "data": {
      "text/plain": [
       "False"
      ]
     },
     "execution_count": 4,
     "metadata": {},
     "output_type": "execute_result"
    }
   ],
   "source": [
    "a = 1\n",
    "b = 2\n",
    "a is b"
   ]
  },
  {
   "cell_type": "code",
   "execution_count": 5,
   "id": "d42cb3ea-67b5-4ae4-8a6d-5edd8d43ce79",
   "metadata": {},
   "outputs": [
    {
     "data": {
      "text/plain": [
       "True"
      ]
     },
     "execution_count": 5,
     "metadata": {},
     "output_type": "execute_result"
    }
   ],
   "source": [
    "c = 1\n",
    "d = 1\n",
    "c is d"
   ]
  },
  {
   "cell_type": "code",
   "execution_count": 6,
   "id": "e9b4e529-6415-4b64-b68c-5e72392f6eaa",
   "metadata": {},
   "outputs": [
    {
     "data": {
      "text/plain": [
       "True"
      ]
     },
     "execution_count": 6,
     "metadata": {},
     "output_type": "execute_result"
    }
   ],
   "source": [
    "e = 3+4\n",
    "f = 2+5\n",
    "e is f"
   ]
  },
  {
   "cell_type": "code",
   "execution_count": 7,
   "id": "2cd957b3-021a-4164-aab0-5d5e70b958de",
   "metadata": {},
   "outputs": [
    {
     "data": {
      "text/plain": [
       "True"
      ]
     },
     "execution_count": 7,
     "metadata": {},
     "output_type": "execute_result"
    }
   ],
   "source": [
    "a = \"Hello\"\n",
    "b = \"Hell\"+\"o\"\n",
    "a is b"
   ]
  },
  {
   "cell_type": "code",
   "execution_count": 8,
   "id": "9d9cd55e-9a81-4275-98a7-a0b7b3074ee6",
   "metadata": {},
   "outputs": [
    {
     "data": {
      "text/plain": [
       "False"
      ]
     },
     "execution_count": 8,
     "metadata": {},
     "output_type": "execute_result"
    }
   ],
   "source": [
    "a = \"Hello\"\n",
    "o = \"o\"\n",
    "b = \"Hell\" +o\n",
    "a is b"
   ]
  },
  {
   "cell_type": "code",
   "execution_count": 9,
   "id": "ee4cf01a-ab04-41a6-b1aa-ea1d449d5e42",
   "metadata": {},
   "outputs": [
    {
     "data": {
      "text/plain": [
       "139712148548912"
      ]
     },
     "execution_count": 9,
     "metadata": {},
     "output_type": "execute_result"
    }
   ],
   "source": [
    "id(a)"
   ]
  },
  {
   "cell_type": "code",
   "execution_count": 10,
   "id": "9c8ff5d7-f005-4543-881c-044333070a94",
   "metadata": {},
   "outputs": [
    {
     "data": {
      "text/plain": [
       "139712147860784"
      ]
     },
     "execution_count": 10,
     "metadata": {},
     "output_type": "execute_result"
    }
   ],
   "source": [
    "id(b)"
   ]
  },
  {
   "cell_type": "code",
   "execution_count": 11,
   "id": "a7ea7523-9f76-4329-a5f0-1190ea14a646",
   "metadata": {},
   "outputs": [
    {
     "name": "stdout",
     "output_type": "stream",
     "text": [
      "Hello Hello\n"
     ]
    }
   ],
   "source": [
    "print(a, b)"
   ]
  },
  {
   "cell_type": "code",
   "execution_count": 12,
   "id": "33ee5e6b-0df3-451f-b585-c496866e2f84",
   "metadata": {},
   "outputs": [
    {
     "name": "stdout",
     "output_type": "stream",
     "text": [
      "Hello\n"
     ]
    }
   ],
   "source": [
    "b = \"hello!\"\n",
    "print(a)"
   ]
  },
  {
   "cell_type": "code",
   "execution_count": 13,
   "id": "6db46de6-0eac-48f4-a5b4-4917dfcee168",
   "metadata": {},
   "outputs": [
    {
     "data": {
      "text/plain": [
       "139712148551664"
      ]
     },
     "execution_count": 13,
     "metadata": {},
     "output_type": "execute_result"
    }
   ],
   "source": [
    "id(b)"
   ]
  },
  {
   "cell_type": "code",
   "execution_count": 14,
   "id": "7e96376c-07c0-40c1-a623-e9b48ba0d2ae",
   "metadata": {},
   "outputs": [
    {
     "name": "stdout",
     "output_type": "stream",
     "text": [
      "Hello Hello False True\n"
     ]
    }
   ],
   "source": [
    "a = \"Hello\"\n",
    "o = \"o\"\n",
    "b = \"Hell\" +o\n",
    "print(a, b, a is b, a==b)"
   ]
  },
  {
   "cell_type": "markdown",
   "id": "b2dc4ec2-c9eb-489d-b49e-9871ed3926a5",
   "metadata": {},
   "source": [
    "## Boolean Operators"
   ]
  },
  {
   "cell_type": "markdown",
   "id": "7f80bdfe-8e09-465a-9413-e4cd3dfabe78",
   "metadata": {},
   "source": [
    "==, >, <, >=, <=, !="
   ]
  },
  {
   "cell_type": "markdown",
   "id": "1079f8e6-d634-45d1-bad1-2756d6d58326",
   "metadata": {},
   "source": [
    "## Exercise 2\n",
    "Given number a, print True if it is positive, and False if it is not positive."
   ]
  },
  {
   "cell_type": "code",
   "execution_count": 17,
   "id": "d70b6540-44de-4f55-8067-09a6c0cc787c",
   "metadata": {},
   "outputs": [
    {
     "name": "stdout",
     "output_type": "stream",
     "text": [
      "False\n"
     ]
    }
   ],
   "source": [
    "a = -3\n",
    "print(a > 0)"
   ]
  },
  {
   "cell_type": "code",
   "execution_count": 18,
   "id": "865b2ab9-c3f1-4d16-a796-fe277bdd57c2",
   "metadata": {},
   "outputs": [
    {
     "data": {
      "text/plain": [
       "True"
      ]
     },
     "execution_count": 18,
     "metadata": {},
     "output_type": "execute_result"
    }
   ],
   "source": [
    "\"a\" < \"b\""
   ]
  },
  {
   "cell_type": "code",
   "execution_count": 19,
   "id": "1d2a19b4-380b-43fc-9d6c-47f277ac1d57",
   "metadata": {},
   "outputs": [
    {
     "data": {
      "text/plain": [
       "False"
      ]
     },
     "execution_count": 19,
     "metadata": {},
     "output_type": "execute_result"
    }
   ],
   "source": [
    "\"a\" < \"A\""
   ]
  },
  {
   "cell_type": "code",
   "execution_count": 20,
   "id": "55a7199c-2a51-464f-991e-1da5226d46e4",
   "metadata": {},
   "outputs": [
    {
     "data": {
      "text/plain": [
       "True"
      ]
     },
     "execution_count": 20,
     "metadata": {},
     "output_type": "execute_result"
    }
   ],
   "source": [
    "\"apple\" < \"orange\""
   ]
  },
  {
   "cell_type": "code",
   "execution_count": 21,
   "id": "bca2f578-5e91-4d6b-a486-19181a11e3f1",
   "metadata": {},
   "outputs": [
    {
     "data": {
      "text/plain": [
       "True"
      ]
     },
     "execution_count": 21,
     "metadata": {},
     "output_type": "execute_result"
    }
   ],
   "source": [
    "\"hell\" < \"hello\""
   ]
  },
  {
   "cell_type": "code",
   "execution_count": 22,
   "id": "f44ca50a-e8e7-460e-9c7a-f7dadd4e4b1b",
   "metadata": {},
   "outputs": [
    {
     "ename": "TypeError",
     "evalue": "'<' not supported between instances of 'int' and 'str'",
     "output_type": "error",
     "traceback": [
      "\u001b[0;31m---------------------------------------------------------------------------\u001b[0m",
      "\u001b[0;31mTypeError\u001b[0m                                 Traceback (most recent call last)",
      "Cell \u001b[0;32mIn [22], line 1\u001b[0m\n\u001b[0;32m----> 1\u001b[0m \u001b[38;5;241;43m1\u001b[39;49m\u001b[43m \u001b[49m\u001b[38;5;241;43m<\u001b[39;49m\u001b[43m \u001b[49m\u001b[38;5;124;43m\"\u001b[39;49m\u001b[38;5;124;43mhello\u001b[39;49m\u001b[38;5;124;43m\"\u001b[39;49m\n",
      "\u001b[0;31mTypeError\u001b[0m: '<' not supported between instances of 'int' and 'str'"
     ]
    }
   ],
   "source": [
    "1 < \"hello\""
   ]
  },
  {
   "cell_type": "code",
   "execution_count": 23,
   "id": "fbc8767b-d776-4de1-99e6-5e9aa553ea9d",
   "metadata": {},
   "outputs": [
    {
     "data": {
      "text/plain": [
       "True"
      ]
     },
     "execution_count": 23,
     "metadata": {},
     "output_type": "execute_result"
    }
   ],
   "source": [
    "\"11\" < \"99\""
   ]
  },
  {
   "cell_type": "code",
   "execution_count": 24,
   "id": "a79c265a-03e5-4de2-bdcf-0cadebaf32cc",
   "metadata": {},
   "outputs": [
    {
     "data": {
      "text/plain": [
       "False"
      ]
     },
     "execution_count": 24,
     "metadata": {},
     "output_type": "execute_result"
    }
   ],
   "source": [
    "\"9\" < \"11\""
   ]
  },
  {
   "cell_type": "code",
   "execution_count": null,
   "id": "a7c44ac4-8efd-4175-a641-e93e5f314951",
   "metadata": {},
   "outputs": [],
   "source": [
    "\"99\" < \"111\""
   ]
  },
  {
   "cell_type": "markdown",
   "id": "f73e98a7-9505-4eb5-b4a0-d6d6d976ec5c",
   "metadata": {},
   "source": [
    "## Combination of boolean expressions"
   ]
  },
  {
   "cell_type": "code",
   "execution_count": 33,
   "id": "b487c85d-51c9-49e6-94be-740854a463bf",
   "metadata": {},
   "outputs": [
    {
     "data": {
      "text/plain": [
       "True"
      ]
     },
     "execution_count": 33,
     "metadata": {},
     "output_type": "execute_result"
    }
   ],
   "source": [
    "a = 54\n",
    "11 <= a <= 99"
   ]
  },
  {
   "cell_type": "code",
   "execution_count": 27,
   "id": "4c18746e-f59e-4dc7-a357-aab5de940cff",
   "metadata": {},
   "outputs": [
    {
     "data": {
      "text/plain": [
       "False"
      ]
     },
     "execution_count": 27,
     "metadata": {},
     "output_type": "execute_result"
    }
   ],
   "source": [
    "True == 1"
   ]
  },
  {
   "cell_type": "code",
   "execution_count": 30,
   "id": "0047bb68-d8f4-43c3-b428-5602fa1bee07",
   "metadata": {},
   "outputs": [
    {
     "data": {
      "text/plain": [
       "True"
      ]
     },
     "execution_count": 30,
     "metadata": {},
     "output_type": "execute_result"
    }
   ],
   "source": [
    "False == 0"
   ]
  },
  {
   "cell_type": "code",
   "execution_count": 31,
   "id": "7d4f7f95-e9fc-4ec6-806d-52360659fcd2",
   "metadata": {},
   "outputs": [
    {
     "data": {
      "text/plain": [
       "True"
      ]
     },
     "execution_count": 31,
     "metadata": {},
     "output_type": "execute_result"
    }
   ],
   "source": [
    "True <= 99"
   ]
  },
  {
   "cell_type": "code",
   "execution_count": 35,
   "id": "dc9f596f-530a-46dc-849c-5056d776e4f5",
   "metadata": {},
   "outputs": [
    {
     "data": {
      "text/plain": [
       "False"
      ]
     },
     "execution_count": 35,
     "metadata": {},
     "output_type": "execute_result"
    }
   ],
   "source": [
    "a = 9\n",
    "11 <= a and a <= 99"
   ]
  },
  {
   "cell_type": "markdown",
   "id": "c2689a69-fec1-493f-891f-e5dcb0a41eb8",
   "metadata": {},
   "source": [
    "## Exercise 3\n",
    "Print true if a is not between 11 and 99."
   ]
  },
  {
   "cell_type": "code",
   "execution_count": 38,
   "id": "0e9780ea-fc3b-465c-a8eb-be9df9a35d39",
   "metadata": {},
   "outputs": [
    {
     "name": "stdout",
     "output_type": "stream",
     "text": [
      "False\n"
     ]
    }
   ],
   "source": [
    "a = 54\n",
    "print(not ((11 <= a) and (a <= 99)))"
   ]
  },
  {
   "cell_type": "code",
   "execution_count": 39,
   "id": "11354c93-41e1-4c61-93b0-1291d474ddbc",
   "metadata": {},
   "outputs": [
    {
     "name": "stdout",
     "output_type": "stream",
     "text": [
      "False\n"
     ]
    }
   ],
   "source": [
    "a = 54\n",
    "print(a < 11 or a > 99)"
   ]
  },
  {
   "cell_type": "code",
   "execution_count": 41,
   "id": "71f293c3-a52f-4683-82f8-9da8d9efd10c",
   "metadata": {},
   "outputs": [
    {
     "name": "stdout",
     "output_type": "stream",
     "text": [
      "False\n"
     ]
    }
   ],
   "source": [
    "def isBetween(a, min, max):\n",
    "    return (min <= a) and (a <= max)\n",
    "\n",
    "print(not isBetween(a, 11, 99))"
   ]
  },
  {
   "cell_type": "markdown",
   "id": "aa197b8e-0ea2-4ff6-a6ff-1784e80838c2",
   "metadata": {},
   "source": [
    "## Exercise 4\n",
    "Print true if a is a positive, even number that is divisible by 3"
   ]
  },
  {
   "cell_type": "code",
   "execution_count": 42,
   "id": "446a1029-dd58-425e-8ffd-7a309e394906",
   "metadata": {},
   "outputs": [
    {
     "name": "stdout",
     "output_type": "stream",
     "text": [
      "True\n"
     ]
    }
   ],
   "source": [
    "a = 54\n",
    "print(a > 0 and a % 2 == 0 and a % 3 == 0)"
   ]
  },
  {
   "cell_type": "code",
   "execution_count": 44,
   "id": "bdc25246-85e8-4560-bc79-77c2456a1d65",
   "metadata": {},
   "outputs": [
    {
     "name": "stdout",
     "output_type": "stream",
     "text": [
      "True\n"
     ]
    }
   ],
   "source": [
    "print(a > 0 and a % 6 == 0)"
   ]
  },
  {
   "cell_type": "markdown",
   "id": "24a5bc72-618b-45b2-bb38-3fde736b76c5",
   "metadata": {},
   "source": [
    "## Exercise 1\n",
    "Given a number between 10 and 99. Define two variables as `a` and `b`. Assign `a` with a value that equals to the first digit and `b` with a value that equals the second digit."
   ]
  },
  {
   "cell_type": "code",
   "execution_count": 37,
   "id": "94487a6d-459f-4b61-95bb-d292cef311bb",
   "metadata": {},
   "outputs": [
    {
     "name": "stdout",
     "output_type": "stream",
     "text": [
      "1 7\n"
     ]
    }
   ],
   "source": [
    "num = 17\n",
    "a = num // 10\n",
    "b = num % 10\n",
    "print(a, b)"
   ]
  },
  {
   "cell_type": "code",
   "execution_count": null,
   "id": "cb6fde43-47d7-48f3-8baa-368b269ffdcf",
   "metadata": {},
   "outputs": [],
   "source": []
  },
  {
   "cell_type": "code",
   "execution_count": null,
   "id": "da31c703-78c0-460d-883a-96f555ce88cc",
   "metadata": {},
   "outputs": [],
   "source": []
  }
 ],
 "metadata": {
  "kernelspec": {
   "display_name": "Python 3 (ipykernel)",
   "language": "python",
   "name": "python3"
  },
  "language_info": {
   "codemirror_mode": {
    "name": "ipython",
    "version": 3
   },
   "file_extension": ".py",
   "mimetype": "text/x-python",
   "name": "python",
   "nbconvert_exporter": "python",
   "pygments_lexer": "ipython3",
   "version": "3.10.6"
  }
 },
 "nbformat": 4,
 "nbformat_minor": 5
}
