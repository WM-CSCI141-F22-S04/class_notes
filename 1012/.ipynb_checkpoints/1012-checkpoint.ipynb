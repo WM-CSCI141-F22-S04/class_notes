{
 "cells": [
  {
   "cell_type": "markdown",
   "id": "79370f67-04f8-4b59-b24b-921627b18730",
   "metadata": {},
   "source": [
    "## Warm Up Exercise \n",
    "Given a list of integers, print the indices and the integers in the list with two methods. Also use a while loop to do the same thing."
   ]
  },
  {
   "cell_type": "code",
   "execution_count": 3,
   "id": "7c240508-95b7-407a-a763-c79723487e70",
   "metadata": {},
   "outputs": [
    {
     "name": "stdout",
     "output_type": "stream",
     "text": [
      "0 1\n",
      "1 2\n",
      "2 3\n",
      "3 4\n"
     ]
    }
   ],
   "source": [
    "l = [1, 2, 3, 4]\n",
    "for i in range(len(l)):\n",
    "    print(i, l[i])"
   ]
  },
  {
   "cell_type": "code",
   "execution_count": 6,
   "id": "06fd5563-20b4-45f4-b3e0-68b9f5f307ba",
   "metadata": {},
   "outputs": [
    {
     "name": "stdout",
     "output_type": "stream",
     "text": [
      "0 1\n",
      "1 2\n",
      "2 3\n",
      "3 4\n"
     ]
    }
   ],
   "source": [
    "l = [1, 2, 3, 4]\n",
    "i = 0\n",
    "for num in l:\n",
    "    print(i, num)\n",
    "    i += 1\n"
   ]
  },
  {
   "cell_type": "code",
   "execution_count": 7,
   "id": "01ab3fb1-4fbf-4bbf-8945-3ce66c0625df",
   "metadata": {},
   "outputs": [
    {
     "name": "stdout",
     "output_type": "stream",
     "text": [
      "0 1\n",
      "1 2\n",
      "2 3\n",
      "3 4\n"
     ]
    }
   ],
   "source": [
    "l = [1, 2, 3, 4]\n",
    "i = 0\n",
    "while i < len(l):\n",
    "    print(i, l[i])\n",
    "    i += 1"
   ]
  },
  {
   "cell_type": "markdown",
   "id": "0ad76768-be7d-41ee-9122-13c536d38b4f",
   "metadata": {},
   "source": [
    "## Exercise\n",
    "Given a character, check if it is a digit or not."
   ]
  },
  {
   "cell_type": "code",
   "execution_count": 10,
   "id": "9c27f231-f68e-491e-9633-ec5a035f0b20",
   "metadata": {},
   "outputs": [
    {
     "ename": "ValueError",
     "evalue": "invalid literal for int() with base 10: 'a'",
     "output_type": "error",
     "traceback": [
      "\u001b[0;31m---------------------------------------------------------------------------\u001b[0m",
      "\u001b[0;31mValueError\u001b[0m                                Traceback (most recent call last)",
      "Cell \u001b[0;32mIn [10], line 2\u001b[0m\n\u001b[1;32m      1\u001b[0m s \u001b[38;5;241m=\u001b[39m \u001b[38;5;124m\"\u001b[39m\u001b[38;5;124ma\u001b[39m\u001b[38;5;124m\"\u001b[39m\n\u001b[0;32m----> 2\u001b[0m \u001b[38;5;28;01mif\u001b[39;00m s \u001b[38;5;241m==\u001b[39m \u001b[38;5;28mint\u001b[39m(s):\n\u001b[1;32m      3\u001b[0m     \u001b[38;5;28mprint\u001b[39m(\u001b[38;5;28;01mTrue\u001b[39;00m)\n",
      "\u001b[0;31mValueError\u001b[0m: invalid literal for int() with base 10: 'a'"
     ]
    }
   ],
   "source": [
    "s = \"a\"\n",
    "if s == int(s):\n",
    "    print(True)"
   ]
  },
  {
   "cell_type": "code",
   "execution_count": 13,
   "id": "a1e8e2af-f265-40db-8737-3d035b53a495",
   "metadata": {},
   "outputs": [
    {
     "name": "stdout",
     "output_type": "stream",
     "text": [
      "True False\n"
     ]
    }
   ],
   "source": [
    "def is_digit(c):\n",
    "    if \"0\" <= c and c <= \"9\":\n",
    "        return True\n",
    "    \n",
    "    return False\n",
    "\n",
    "print(is_digit(\"4\"), is_digit(\"p\"))\n"
   ]
  },
  {
   "cell_type": "code",
   "execution_count": 15,
   "id": "e5d8a6a4-94c7-45fe-836f-c7a1008afa3b",
   "metadata": {},
   "outputs": [
    {
     "name": "stdout",
     "output_type": "stream",
     "text": [
      "True\n"
     ]
    }
   ],
   "source": [
    "s = 5\n",
    "if not s == str(s):\n",
    "    print(True)"
   ]
  },
  {
   "cell_type": "markdown",
   "id": "42f07c56-07d1-4e22-8364-b7b2d07fb813",
   "metadata": {},
   "source": [
    "## Exercise\n",
    "Given a integer list, check if number 1 is in the list. "
   ]
  },
  {
   "cell_type": "code",
   "execution_count": 19,
   "id": "15559255-9ce4-4996-87da-054e2438be3f",
   "metadata": {},
   "outputs": [
    {
     "data": {
      "text/plain": [
       "False"
      ]
     },
     "execution_count": 19,
     "metadata": {},
     "output_type": "execute_result"
    }
   ],
   "source": [
    "def is_in_list(l, num):\n",
    "    for n in l:\n",
    "        if n == num:\n",
    "            return True\n",
    "        \n",
    "    return False\n",
    "\n",
    "## Search-one Pattern\n",
    "        \n",
    "\n",
    "l = [1, 2, 3, 4]\n",
    "num = 5\n",
    "is_in_list(l, num)"
   ]
  },
  {
   "cell_type": "code",
   "execution_count": 21,
   "id": "9f3d59d1-5a53-4f0b-aa27-11bb272964b9",
   "metadata": {},
   "outputs": [
    {
     "data": {
      "text/plain": [
       "True"
      ]
     },
     "execution_count": 21,
     "metadata": {},
     "output_type": "execute_result"
    }
   ],
   "source": [
    "l = [1, 2, 3, 4]\n",
    "num = 3\n",
    "num in l"
   ]
  },
  {
   "cell_type": "markdown",
   "id": "653e48dc-bdaa-48d5-9ab4-a3a855a72288",
   "metadata": {},
   "source": [
    "## Exercise: Two Sum\n",
    "Given an integer list and a number, find two numbers in the list that has the sum of the given number."
   ]
  },
  {
   "cell_type": "code",
   "execution_count": 25,
   "id": "8e61aa06-bbe8-463f-b358-f3b99f60925c",
   "metadata": {},
   "outputs": [
    {
     "data": {
      "text/plain": [
       "(-1, -1)"
      ]
     },
     "execution_count": 25,
     "metadata": {},
     "output_type": "execute_result"
    }
   ],
   "source": [
    "def two_sum_1(l, sum):\n",
    "    for i in range(len(l)):\n",
    "        for j in range(i+1, len(l)):\n",
    "            if l[i] + l[j] == sum:\n",
    "                return i, j\n",
    "            \n",
    "    return -1, -1\n",
    "            \n",
    "\n",
    "l = [1, 2, 3, 4]\n",
    "sum = 11\n",
    "two_sum_1(l, sum)"
   ]
  },
  {
   "cell_type": "code",
   "execution_count": 27,
   "id": "23ff6ef0-40ac-4458-a0f6-9cdf719d8d78",
   "metadata": {},
   "outputs": [
    {
     "data": {
      "text/plain": [
       "True"
      ]
     },
     "execution_count": 27,
     "metadata": {},
     "output_type": "execute_result"
    }
   ],
   "source": [
    "def two_sum_2(l, sum):\n",
    "    for i in range(len(l)):\n",
    "        target = sum - l[i]\n",
    "        \n",
    "        if target in l:\n",
    "            return True\n",
    "        \n",
    "    return False\n",
    "\n",
    "l = [1, 2, 3, 4]\n",
    "sum = 5\n",
    "two_sum_2(l, sum)     \n",
    "        "
   ]
  },
  {
   "cell_type": "markdown",
   "id": "94b7e24a-1a0f-4c8c-b461-df74bb97d8a8",
   "metadata": {},
   "source": [
    "## Exercise\n",
    "Calculate the average number of an integer list. "
   ]
  },
  {
   "cell_type": "markdown",
   "id": "0fdbbfd2-247b-4367-8986-76287853ad72",
   "metadata": {},
   "source": [
    "## Exercise\n",
    "Find the maximum number of an integer list."
   ]
  },
  {
   "cell_type": "code",
   "execution_count": 28,
   "id": "cc004ab7-9378-445e-a96b-39b6298e589f",
   "metadata": {},
   "outputs": [
    {
     "data": {
      "text/plain": [
       "5"
      ]
     },
     "execution_count": 28,
     "metadata": {},
     "output_type": "execute_result"
    }
   ],
   "source": [
    "def max_in_list(l):\n",
    "    max = l[0]\n",
    "    for i in range(len(l)):\n",
    "        if max < l[i]:\n",
    "            max = l[i]\n",
    "            \n",
    "    ## Find all pattern\n",
    "    return max\n",
    "\n",
    "l = [4, 5, 3, 2]\n",
    "max_in_list(l)"
   ]
  },
  {
   "cell_type": "markdown",
   "id": "8c0af8d2-a628-4662-ba28-78bce54bc429",
   "metadata": {},
   "source": [
    "## Exercise\n",
    "Given an integer list, remove elements that are multiples of 3. "
   ]
  },
  {
   "cell_type": "code",
   "execution_count": null,
   "id": "998a8263-8e88-462b-af7b-122345e9d548",
   "metadata": {},
   "outputs": [],
   "source": []
  }
 ],
 "metadata": {
  "kernelspec": {
   "display_name": "Python 3 (ipykernel)",
   "language": "python",
   "name": "python3"
  },
  "language_info": {
   "codemirror_mode": {
    "name": "ipython",
    "version": 3
   },
   "file_extension": ".py",
   "mimetype": "text/x-python",
   "name": "python",
   "nbconvert_exporter": "python",
   "pygments_lexer": "ipython3",
   "version": "3.10.6"
  }
 },
 "nbformat": 4,
 "nbformat_minor": 5
}
