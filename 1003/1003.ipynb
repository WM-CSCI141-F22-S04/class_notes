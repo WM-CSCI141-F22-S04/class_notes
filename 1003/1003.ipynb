{
 "cells": [
  {
   "cell_type": "markdown",
   "id": "4d4e33ce-07d9-4344-822f-98397ba54547",
   "metadata": {},
   "source": [
    "## Warm Up Exercise\n",
    "Add from 1 to 100 (included). "
   ]
  },
  {
   "cell_type": "code",
   "execution_count": 1,
   "id": "d9efe898-07b8-45f8-9e65-48d6bbf0767c",
   "metadata": {},
   "outputs": [
    {
     "name": "stdout",
     "output_type": "stream",
     "text": [
      "5050\n"
     ]
    }
   ],
   "source": [
    "sum = 0\n",
    "for i in range(1, 101):\n",
    "    sum += i # sum = sum + i\n",
    "\n",
    "print(sum)"
   ]
  },
  {
   "cell_type": "markdown",
   "id": "de19e26c-0d32-4643-a213-9b3cc6ac6fa2",
   "metadata": {},
   "source": [
    "## Exercise 1\n",
    "Implement a function that calculates the factorial of a given integer number. Use two methods to solve this problem (with or without loops)."
   ]
  },
  {
   "cell_type": "code",
   "execution_count": 3,
   "id": "d74f74e2-72ca-42cc-adbb-5c631882b0d4",
   "metadata": {},
   "outputs": [
    {
     "data": {
      "text/plain": [
       "24"
      ]
     },
     "execution_count": 3,
     "metadata": {},
     "output_type": "execute_result"
    }
   ],
   "source": [
    "def factorial(n):\n",
    "    pi = 1\n",
    "    for i in range(1, n+1):\n",
    "        pi *= i # pi = pi * i\n",
    "        \n",
    "    return pi\n",
    "\n",
    "factorial(4)"
   ]
  },
  {
   "cell_type": "code",
   "execution_count": 4,
   "id": "33f47555-9be0-4b0e-a0c1-153ad5a9301c",
   "metadata": {},
   "outputs": [
    {
     "data": {
      "text/plain": [
       "24"
      ]
     },
     "execution_count": 4,
     "metadata": {},
     "output_type": "execute_result"
    }
   ],
   "source": [
    "def factorial(n):\n",
    "    if n == 0 or n == 1:\n",
    "        return 1\n",
    "    \n",
    "    f = factorial(n-1) * n\n",
    "    \n",
    "    return f\n",
    "\n",
    "factorial(4)"
   ]
  },
  {
   "cell_type": "markdown",
   "id": "4fdbc686-2d61-4a24-abf7-2b81e950ad48",
   "metadata": {},
   "source": [
    "## Exercise 2\n",
    "Define a function that returns the n-th (n is an input argument) Fibonacci number."
   ]
  },
  {
   "cell_type": "code",
   "execution_count": 12,
   "id": "0476beab-3e50-4a55-863b-d90c6a0b3be2",
   "metadata": {},
   "outputs": [
    {
     "data": {
      "text/plain": [
       "13"
      ]
     },
     "execution_count": 12,
     "metadata": {},
     "output_type": "execute_result"
    }
   ],
   "source": [
    "def fib(n):\n",
    "    if n == 0 or n == 1:\n",
    "        return 1\n",
    "    \n",
    "    f = fib(n-1) + fib(n-2)\n",
    "    \n",
    "    return f\n",
    "\n",
    "fib(6)"
   ]
  },
  {
   "cell_type": "markdown",
   "id": "5382f32a-8234-4741-abba-f6487f78c8a4",
   "metadata": {},
   "source": [
    "## Exercise 3\n",
    "Let's define a game. Generate a random number between 1-100. Let user try guessing the number for up to 10 times. Tell the user if the guess is too large or too small. If the user guessed the number, print \"You have guessed the number\". If the user did not get the number, print \"You did not guessed the number\"."
   ]
  },
  {
   "cell_type": "code",
   "execution_count": 33,
   "id": "09dae620-7fd9-4cc8-92b2-1aace2eeab48",
   "metadata": {},
   "outputs": [
    {
     "name": "stdin",
     "output_type": "stream",
     "text": [
      "Guess a number between 1-100 50\n"
     ]
    },
    {
     "name": "stdout",
     "output_type": "stream",
     "text": [
      "Too small\n"
     ]
    },
    {
     "name": "stdin",
     "output_type": "stream",
     "text": [
      "Guess a number between 1-100 75\n"
     ]
    },
    {
     "name": "stdout",
     "output_type": "stream",
     "text": [
      "Too large\n"
     ]
    },
    {
     "name": "stdin",
     "output_type": "stream",
     "text": [
      "Guess a number between 1-100 67\n"
     ]
    },
    {
     "name": "stdout",
     "output_type": "stream",
     "text": [
      "Too large\n"
     ]
    },
    {
     "name": "stdin",
     "output_type": "stream",
     "text": [
      "Guess a number between 1-100 60\n"
     ]
    },
    {
     "name": "stdout",
     "output_type": "stream",
     "text": [
      "You got the number\n",
      "You did not get the number\n"
     ]
    }
   ],
   "source": [
    "upper_bound = 100\n",
    "lower_bound = 0\n",
    "guess_time = 10\n",
    "\n",
    "number = random.randint(lower_bound, upper_bound)\n",
    "got_the_number = False\n",
    "\n",
    "for i in range(guess_time):\n",
    "    guess_str = input(\"Guess a number between 1-100\")\n",
    "    guess_int = int(guess_str)\n",
    "    \n",
    "    if guess_int > number:\n",
    "        print(\"Too large\")\n",
    "    elif guess_int < number:\n",
    "        print(\"Too small\")\n",
    "    else:\n",
    "        print(\"You got the number\")\n",
    "        got_the_number = True\n",
    "        break\n",
    "        \n",
    "if not got_the_number:\n",
    "    print(\"You did not get the number\")"
   ]
  },
  {
   "cell_type": "code",
   "execution_count": 2,
   "id": "7f2f319d-574b-403c-b2df-022cf322f8a2",
   "metadata": {},
   "outputs": [
    {
     "data": {
      "text/plain": [
       "0.38614009887181056"
      ]
     },
     "execution_count": 2,
     "metadata": {},
     "output_type": "execute_result"
    }
   ],
   "source": [
    "import random\n",
    "random.random()"
   ]
  },
  {
   "cell_type": "code",
   "execution_count": 16,
   "id": "817d22bd-cd31-4c6b-b7fa-53084e8f7344",
   "metadata": {},
   "outputs": [
    {
     "data": {
      "text/plain": [
       "4"
      ]
     },
     "execution_count": 16,
     "metadata": {},
     "output_type": "execute_result"
    }
   ],
   "source": [
    "random.randint(0, 100)"
   ]
  },
  {
   "cell_type": "code",
   "execution_count": 30,
   "id": "8262a6fd-4d92-4300-a90e-22c616d01658",
   "metadata": {},
   "outputs": [
    {
     "name": "stdin",
     "output_type": "stream",
     "text": [
      "Please type in the number you guess: 15\n"
     ]
    },
    {
     "data": {
      "text/plain": [
       "'15'"
      ]
     },
     "execution_count": 30,
     "metadata": {},
     "output_type": "execute_result"
    }
   ],
   "source": [
    "input(\"Please type in the number you guess:\")"
   ]
  },
  {
   "cell_type": "code",
   "execution_count": 25,
   "id": "64c70aa2-e8e4-467a-8a59-b475e977975e",
   "metadata": {},
   "outputs": [
    {
     "name": "stdout",
     "output_type": "stream",
     "text": [
      "0.4523795535098186\n",
      "0.559772386080496\n",
      "0.9242105840237294\n",
      "0.4656500700997733\n",
      "0.5078412730622711\n",
      "0.587384828849897\n",
      "0.18466034385487662\n",
      "0.5119086390418055\n",
      "0.6298827202168019\n",
      "0.7929768725199526\n"
     ]
    }
   ],
   "source": [
    "random.seed(11)\n",
    "for i in range(10):\n",
    "    print(random.random())"
   ]
  },
  {
   "cell_type": "code",
   "execution_count": 29,
   "id": "392af808-fea9-41bd-ab24-37cb29cdd715",
   "metadata": {},
   "outputs": [
    {
     "name": "stdout",
     "output_type": "stream",
     "text": [
      "0.7022180722909656\n",
      "0.8483033127986224\n",
      "0.6677351934284624\n",
      "0.1038155389797063\n",
      "0.26729092661344755\n",
      "0.6964645208511736\n",
      "0.5645007492731787\n",
      "0.3327860290031057\n",
      "0.22481890083129008\n",
      "0.07095964009604694\n"
     ]
    },
    {
     "name": "stderr",
     "output_type": "stream",
     "text": [
      "/tmp/ipykernel_104/1508036514.py:2: DeprecationWarning: Seeding based on hashing is deprecated\n",
      "since Python 3.9 and will be removed in a subsequent version. The only \n",
      "supported seed types are: None, int, float, str, bytes, and bytearray.\n",
      "  random.seed(datetime.now())\n"
     ]
    }
   ],
   "source": [
    "from datetime import datetime\n",
    "random.seed(datetime.now())\n",
    "for i in range(10):\n",
    "    print(random.random())"
   ]
  },
  {
   "cell_type": "code",
   "execution_count": null,
   "id": "9b5e248d-cf2b-4b04-8149-41717e033a45",
   "metadata": {},
   "outputs": [],
   "source": []
  }
 ],
 "metadata": {
  "kernelspec": {
   "display_name": "Python 3 (ipykernel)",
   "language": "python",
   "name": "python3"
  },
  "language_info": {
   "codemirror_mode": {
    "name": "ipython",
    "version": 3
   },
   "file_extension": ".py",
   "mimetype": "text/x-python",
   "name": "python",
   "nbconvert_exporter": "python",
   "pygments_lexer": "ipython3",
   "version": "3.10.6"
  }
 },
 "nbformat": 4,
 "nbformat_minor": 5
}
