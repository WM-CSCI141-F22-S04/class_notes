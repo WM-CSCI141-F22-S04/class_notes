{
 "cells": [
  {
   "cell_type": "markdown",
   "id": "2073644c-2ed2-4034-a412-0350116b788e",
   "metadata": {},
   "source": [
    "## Warm Up Exercise\n",
    "Given an integer list, remove duplications (return another list with unique values, no need to keep order). What is the complexity of your implementation."
   ]
  },
  {
   "cell_type": "code",
   "execution_count": 2,
   "id": "b0971ace-5eff-4917-aff9-c89e229c0a4d",
   "metadata": {},
   "outputs": [
    {
     "data": {
      "text/plain": [
       "[1, 5, 3, 2, 4, 6]"
      ]
     },
     "execution_count": 2,
     "metadata": {},
     "output_type": "execute_result"
    }
   ],
   "source": [
    "## n elements in the list, and m unique values\n",
    "## O(nm)\n",
    "## 1. m is close to n, O(n^2)\n",
    "## 2. m is a very small value O(n)\n",
    "def unique_list(l):\n",
    "    ul = []\n",
    "    for elem in l:\n",
    "        if not elem in ul: # O(m)\n",
    "            ul.append(elem)\n",
    "            \n",
    "    return ul\n",
    "\n",
    "l = [1, 1, 5, 3, 3, 2, 4, 5, 6, 3]\n",
    "ul = unique_list(l)\n",
    "ul"
   ]
  },
  {
   "cell_type": "code",
   "execution_count": 3,
   "id": "6137b871-f28e-462b-a6b0-c6563e66fcee",
   "metadata": {},
   "outputs": [
    {
     "data": {
      "text/plain": [
       "[1, 5, 3, 2, 4, 6]"
      ]
     },
     "execution_count": 3,
     "metadata": {},
     "output_type": "execute_result"
    }
   ],
   "source": [
    "## O(n)\n",
    "def unique_list(l):\n",
    "    ul = []\n",
    "    d = {}\n",
    "    for elem in l:\n",
    "        if not elem in d: # O(1)\n",
    "            ul.append(elem)\n",
    "            d[elem] = True\n",
    "            \n",
    "    return ul\n",
    "\n",
    "l = [1, 1, 5, 3, 3, 2, 4, 5, 6, 3]\n",
    "ul = unique_list(l)\n",
    "ul"
   ]
  },
  {
   "cell_type": "markdown",
   "id": "a3b8d4e1-2e38-4f67-8b53-5d75784126a7",
   "metadata": {},
   "source": [
    "## Exercise\n",
    "Write a function that counts the repeating times of each element in a list. {1:2, 2:1, 3:3, 4:1, 5:2} "
   ]
  },
  {
   "cell_type": "code",
   "execution_count": 5,
   "id": "0f1054a9-a800-4f9c-8f96-8a606b507ad4",
   "metadata": {},
   "outputs": [
    {
     "name": "stdout",
     "output_type": "stream",
     "text": [
      "{1: 2, 5: 2, 3: 3, 2: 1, 4: 1, 6: 1}\n"
     ]
    }
   ],
   "source": [
    "## Histogram Pattern\n",
    "\n",
    "def repeating_times(l):\n",
    "    times = {}\n",
    "    for elem in l:\n",
    "        if not elem in times:\n",
    "            times[elem] = 0\n",
    "        times[elem] += 1\n",
    "    return times\n",
    "\n",
    "l = [1, 1, 5, 3, 3, 2, 4, 5, 6, 3]\n",
    "print(repeating_times(l))\n",
    "        "
   ]
  },
  {
   "cell_type": "markdown",
   "id": "036a5196-96e0-4592-a4f8-cf63a0020ed7",
   "metadata": {},
   "source": [
    "## Exercise\n",
    "Find the mode of an integer list. What is the complexity?"
   ]
  },
  {
   "cell_type": "code",
   "execution_count": 7,
   "id": "15c01c6d-3cb0-450b-b410-93b19e766061",
   "metadata": {},
   "outputs": [
    {
     "name": "stdout",
     "output_type": "stream",
     "text": [
      "3\n"
     ]
    }
   ],
   "source": [
    "def mode_of_list(l):\n",
    "    times = repeating_times(l)\n",
    "    max_value = 0\n",
    "    max_times = -1\n",
    "    \n",
    "    for value in times:\n",
    "        repeating_time = times[value]\n",
    "        if repeating_time > max_times:\n",
    "            max_value = value\n",
    "            max_times = repeating_time\n",
    "            \n",
    "    return max_value\n",
    "    \n",
    "\n",
    "l = [1, 1, 5, 3, 3, 2, 4, 5, 6, 3]\n",
    "print(mode_of_list(l))"
   ]
  },
  {
   "cell_type": "markdown",
   "id": "e56f4337-b550-4bac-8082-9ce2a72e8427",
   "metadata": {},
   "source": [
    "# Object Oriented Design"
   ]
  },
  {
   "cell_type": "code",
   "execution_count": 8,
   "id": "1ec4d119-242e-4eba-a039-95944ebb2cf7",
   "metadata": {},
   "outputs": [
    {
     "data": {
      "text/plain": [
       "'abc'"
      ]
     },
     "execution_count": 8,
     "metadata": {},
     "output_type": "execute_result"
    }
   ],
   "source": [
    "\"abc \".strip()"
   ]
  },
  {
   "cell_type": "code",
   "execution_count": 12,
   "id": "60626fc8-3a99-4972-bacc-f06f3b8f0f3d",
   "metadata": {},
   "outputs": [
    {
     "data": {
      "text/plain": [
       "[1, 3, 2, 4]"
      ]
     },
     "execution_count": 12,
     "metadata": {},
     "output_type": "execute_result"
    }
   ],
   "source": [
    "l = [1, 3, 2]\n",
    "l.append(4)\n",
    "l"
   ]
  },
  {
   "cell_type": "code",
   "execution_count": 13,
   "id": "d6d99b59-9dc1-450d-b1bb-27b88995d0d0",
   "metadata": {},
   "outputs": [
    {
     "data": {
      "text/plain": [
       "[1, 2, 3, 4]"
      ]
     },
     "execution_count": 13,
     "metadata": {},
     "output_type": "execute_result"
    }
   ],
   "source": [
    "l.sort()\n",
    "l"
   ]
  },
  {
   "cell_type": "code",
   "execution_count": 24,
   "id": "fa53f7c6-4724-4321-a27a-7e3fb97f4658",
   "metadata": {},
   "outputs": [],
   "source": [
    "## Class definition\n",
    "class Point:\n",
    "    \n",
    "    ## Constructor\n",
    "    def __init__(self):\n",
    "        print(\"Here\")\n",
    "        self.x = 0\n",
    "        self.y = 0\n",
    "        "
   ]
  },
  {
   "cell_type": "code",
   "execution_count": 25,
   "id": "43011d53-7e27-4f52-8974-f9fb36448214",
   "metadata": {},
   "outputs": [
    {
     "name": "stdout",
     "output_type": "stream",
     "text": [
      "Here\n"
     ]
    }
   ],
   "source": [
    "## Instantiation -> creating instances\n",
    "p1 = Point()"
   ]
  },
  {
   "cell_type": "code",
   "execution_count": 17,
   "id": "5c13ffd1-3f8a-465c-85c8-cd98d9412d57",
   "metadata": {},
   "outputs": [
    {
     "data": {
      "text/plain": [
       "<__main__.Point at 0x7fe7e46090f0>"
      ]
     },
     "execution_count": 17,
     "metadata": {},
     "output_type": "execute_result"
    }
   ],
   "source": [
    "p1"
   ]
  },
  {
   "cell_type": "code",
   "execution_count": 18,
   "id": "96e50989-17b4-4bc1-9079-699ee404a931",
   "metadata": {},
   "outputs": [
    {
     "name": "stdout",
     "output_type": "stream",
     "text": [
      "<__main__.Point object at 0x7fe7e46090f0>\n"
     ]
    }
   ],
   "source": [
    "print(p1)"
   ]
  },
  {
   "cell_type": "code",
   "execution_count": 19,
   "id": "e44bb9e6-d91d-4196-bc24-7702b93dc6cd",
   "metadata": {},
   "outputs": [
    {
     "data": {
      "text/plain": [
       "140633945706736"
      ]
     },
     "execution_count": 19,
     "metadata": {},
     "output_type": "execute_result"
    }
   ],
   "source": [
    "id(p1)"
   ]
  },
  {
   "cell_type": "code",
   "execution_count": 20,
   "id": "36674f96-70c6-4eeb-9081-0bd3f8539639",
   "metadata": {},
   "outputs": [],
   "source": [
    "p2 = Point()"
   ]
  },
  {
   "cell_type": "code",
   "execution_count": 21,
   "id": "799ac33e-df5e-4681-94d9-846391ba0ebd",
   "metadata": {},
   "outputs": [
    {
     "data": {
      "text/plain": [
       "<__main__.Point at 0x7fe7e45f6fb0>"
      ]
     },
     "execution_count": 21,
     "metadata": {},
     "output_type": "execute_result"
    }
   ],
   "source": [
    "p2"
   ]
  },
  {
   "cell_type": "code",
   "execution_count": 22,
   "id": "725e390f-469a-41e8-8848-836c059dd5d0",
   "metadata": {},
   "outputs": [
    {
     "data": {
      "text/plain": [
       "False"
      ]
     },
     "execution_count": 22,
     "metadata": {},
     "output_type": "execute_result"
    }
   ],
   "source": [
    "p1 is p2"
   ]
  },
  {
   "cell_type": "code",
   "execution_count": 23,
   "id": "9d2375fa-c495-4e4b-ba8b-515e524643ed",
   "metadata": {},
   "outputs": [
    {
     "data": {
      "text/plain": [
       "False"
      ]
     },
     "execution_count": 23,
     "metadata": {},
     "output_type": "execute_result"
    }
   ],
   "source": [
    "p1 == p2"
   ]
  },
  {
   "cell_type": "code",
   "execution_count": 26,
   "id": "d71bc7a1-b918-47cc-a850-3396d487ffc4",
   "metadata": {},
   "outputs": [],
   "source": [
    "## Access the properties of an object"
   ]
  },
  {
   "cell_type": "code",
   "execution_count": 29,
   "id": "01ba2f5a-fa75-4e7c-809c-957322572157",
   "metadata": {},
   "outputs": [
    {
     "name": "stdout",
     "output_type": "stream",
     "text": [
      "140633947230640\n",
      "10 2\n",
      "140633947230640\n"
     ]
    }
   ],
   "source": [
    "print(id(p1))\n",
    "p1.x = 10\n",
    "p1.y = 2\n",
    "print(p1.x, p1.y)\n",
    "print(id(p1))"
   ]
  },
  {
   "cell_type": "code",
   "execution_count": 30,
   "id": "f7c2a848-8330-4ed1-bbcf-3eaa40cffbea",
   "metadata": {},
   "outputs": [],
   "source": [
    "## Convert object into string"
   ]
  },
  {
   "cell_type": "code",
   "execution_count": 31,
   "id": "dc29de06-b58d-4ab8-9e9b-ee43662e10af",
   "metadata": {},
   "outputs": [
    {
     "data": {
      "text/plain": [
       "'<__main__.Point object at 0x7fe7e477d1b0>'"
      ]
     },
     "execution_count": 31,
     "metadata": {},
     "output_type": "execute_result"
    }
   ],
   "source": [
    "str(p1)"
   ]
  },
  {
   "cell_type": "code",
   "execution_count": 38,
   "id": "52f3d0f1-5815-459a-87ea-4979682dacfe",
   "metadata": {},
   "outputs": [
    {
     "name": "stdout",
     "output_type": "stream",
     "text": [
      "(10,2)\n"
     ]
    }
   ],
   "source": [
    "## Class definition\n",
    "class Point:\n",
    "    \n",
    "    ## Constructor\n",
    "    def __init__(self, x, y):\n",
    "        self.x = x\n",
    "        self.y = y\n",
    "        \n",
    "    def __str__(self):\n",
    "        return \"(\" + str(self.x) + \",\" + str(self.y) + \")\"\n",
    "    \n",
    "    def __repr__(self):\n",
    "        return \"Point: (\" + str(self.x) + \",\" + str(self.y) + \")\"\n",
    "    \n",
    "p1 = Point(10, 2)\n",
    "print(str(p1))"
   ]
  },
  {
   "cell_type": "code",
   "execution_count": 39,
   "id": "b903555a-6aaa-4bc9-8d7d-cfc6d71aad98",
   "metadata": {},
   "outputs": [
    {
     "ename": "TypeError",
     "evalue": "Point.__init__() missing 2 required positional arguments: 'x' and 'y'",
     "output_type": "error",
     "traceback": [
      "\u001b[0;31m---------------------------------------------------------------------------\u001b[0m",
      "\u001b[0;31mTypeError\u001b[0m                                 Traceback (most recent call last)",
      "Cell \u001b[0;32mIn [39], line 1\u001b[0m\n\u001b[0;32m----> 1\u001b[0m p2 \u001b[38;5;241m=\u001b[39m \u001b[43mPoint\u001b[49m\u001b[43m(\u001b[49m\u001b[43m)\u001b[49m\n",
      "\u001b[0;31mTypeError\u001b[0m: Point.__init__() missing 2 required positional arguments: 'x' and 'y'"
     ]
    }
   ],
   "source": [
    "p2 = Point()"
   ]
  },
  {
   "cell_type": "code",
   "execution_count": 34,
   "id": "e8ff94fa-66b2-49b1-bafe-9f2292769d38",
   "metadata": {},
   "outputs": [
    {
     "name": "stdout",
     "output_type": "stream",
     "text": [
      "(10,2)\n"
     ]
    }
   ],
   "source": [
    "print(p1)"
   ]
  },
  {
   "cell_type": "code",
   "execution_count": 37,
   "id": "d423454f-bb7f-4643-afde-39f526ab0d1c",
   "metadata": {},
   "outputs": [
    {
     "data": {
      "text/plain": [
       "Point: (10,2)"
      ]
     },
     "execution_count": 37,
     "metadata": {},
     "output_type": "execute_result"
    }
   ],
   "source": [
    "p1"
   ]
  },
  {
   "cell_type": "code",
   "execution_count": null,
   "id": "6f2fffcf-ad72-4eeb-a6f8-080ac3a85443",
   "metadata": {},
   "outputs": [],
   "source": []
  }
 ],
 "metadata": {
  "kernelspec": {
   "display_name": "Python 3 (ipykernel)",
   "language": "python",
   "name": "python3"
  },
  "language_info": {
   "codemirror_mode": {
    "name": "ipython",
    "version": 3
   },
   "file_extension": ".py",
   "mimetype": "text/x-python",
   "name": "python",
   "nbconvert_exporter": "python",
   "pygments_lexer": "ipython3",
   "version": "3.10.6"
  }
 },
 "nbformat": 4,
 "nbformat_minor": 5
}
