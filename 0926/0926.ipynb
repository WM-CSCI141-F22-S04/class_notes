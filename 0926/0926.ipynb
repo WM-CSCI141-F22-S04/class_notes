{
 "cells": [
  {
   "cell_type": "markdown",
   "id": "5d6a95c9-c8d3-45ca-a3b9-99cc89c19543",
   "metadata": {},
   "source": [
    "## Warm Up Exercise\n",
    "\n",
    "Define a function that returns the next Collatz number of the current number (n). The rule of calculating the next Collatz number is as follows. If n is even, the next number is n/2. If n is odd, the next number is 3n+1."
   ]
  },
  {
   "cell_type": "code",
   "execution_count": 5,
   "id": "6b23b796-fbd8-4e00-876d-39df60abec7f",
   "metadata": {},
   "outputs": [],
   "source": [
    "def next_collatz_number(n):\n",
    "    next_n = 0\n",
    "    \n",
    "    if n%2 == 0:\n",
    "        next_n = n//2\n",
    "    else:\n",
    "        next_n = 3 * n + 1\n",
    "        \n",
    "    return next_n"
   ]
  },
  {
   "cell_type": "code",
   "execution_count": 6,
   "id": "173852ac-429c-45a9-864b-362f837d504b",
   "metadata": {},
   "outputs": [
    {
     "data": {
      "text/plain": [
       "26"
      ]
     },
     "execution_count": 6,
     "metadata": {},
     "output_type": "execute_result"
    }
   ],
   "source": [
    "next_collatz_number(17)\n",
    "next_collatz_number(52)"
   ]
  },
  {
   "cell_type": "markdown",
   "id": "cb475a05-4ee8-4de8-9d59-0a763b82f737",
   "metadata": {},
   "source": [
    "## Example 1\n",
    "Print 1 to 10"
   ]
  },
  {
   "cell_type": "code",
   "execution_count": 8,
   "id": "cace9b5f-91c1-45df-bbf9-a3f8783c2fa6",
   "metadata": {},
   "outputs": [
    {
     "name": "stdout",
     "output_type": "stream",
     "text": [
      "1\n",
      "2\n",
      "3\n",
      "4\n",
      "5\n",
      "6\n",
      "7\n",
      "8\n",
      "9\n",
      "10\n"
     ]
    }
   ],
   "source": [
    "for a in range(1, 11): # iterator i, j, k, \n",
    "    print(a)"
   ]
  },
  {
   "cell_type": "code",
   "execution_count": 9,
   "id": "f0823662-b436-4a9b-b2c7-9a8d3457c859",
   "metadata": {},
   "outputs": [
    {
     "data": {
      "text/plain": [
       "range(1, 11)"
      ]
     },
     "execution_count": 9,
     "metadata": {},
     "output_type": "execute_result"
    }
   ],
   "source": [
    "range(1, 11)"
   ]
  },
  {
   "cell_type": "code",
   "execution_count": 10,
   "id": "fdef03c6-a5b6-48b6-bc1c-3640ec1d205f",
   "metadata": {},
   "outputs": [
    {
     "name": "stdout",
     "output_type": "stream",
     "text": [
      "0\n",
      "1\n",
      "2\n",
      "3\n",
      "4\n",
      "5\n",
      "6\n",
      "7\n",
      "8\n",
      "9\n",
      "10\n"
     ]
    }
   ],
   "source": [
    "for a in range(11):\n",
    "    print(a)"
   ]
  },
  {
   "cell_type": "code",
   "execution_count": 11,
   "id": "0479168d-fde3-4f79-be38-5c5416eb3382",
   "metadata": {},
   "outputs": [],
   "source": [
    "for a in range(11, 1):\n",
    "    print(a)"
   ]
  },
  {
   "cell_type": "code",
   "execution_count": 12,
   "id": "fc83c022-1eee-400e-bfba-1c8dda765d10",
   "metadata": {},
   "outputs": [
    {
     "name": "stdout",
     "output_type": "stream",
     "text": [
      "1\n",
      "3\n",
      "5\n",
      "7\n",
      "9\n"
     ]
    }
   ],
   "source": [
    "for a in range(1, 11, 2):\n",
    "    print(a)"
   ]
  },
  {
   "cell_type": "code",
   "execution_count": 13,
   "id": "d1651cb9-fd96-4c25-9f42-9282feb30c55",
   "metadata": {},
   "outputs": [
    {
     "name": "stdout",
     "output_type": "stream",
     "text": [
      "11\n",
      "10\n",
      "9\n",
      "8\n",
      "7\n",
      "6\n",
      "5\n",
      "4\n",
      "3\n",
      "2\n"
     ]
    }
   ],
   "source": [
    "for a in range(11, 1, -1):\n",
    "    print(a)"
   ]
  },
  {
   "cell_type": "markdown",
   "id": "61d93460-c0ad-4db9-958a-338550f6575b",
   "metadata": {},
   "source": [
    "## Exercise 2\n",
    "Print from 10 to 1"
   ]
  },
  {
   "cell_type": "code",
   "execution_count": 15,
   "id": "7ccf34f9-fb3a-4425-99d6-ce2154b0f148",
   "metadata": {},
   "outputs": [
    {
     "name": "stdout",
     "output_type": "stream",
     "text": [
      "10\n",
      "9\n",
      "8\n",
      "7\n",
      "6\n",
      "5\n",
      "4\n",
      "3\n",
      "2\n",
      "1\n"
     ]
    }
   ],
   "source": [
    "for i in range(10):\n",
    "    print(10-i)"
   ]
  },
  {
   "cell_type": "markdown",
   "id": "375281a2-7607-44b4-863a-f31cf37e2f03",
   "metadata": {},
   "source": [
    "## Exercise\n",
    "Print even numbers between 0 to 100 (included)."
   ]
  },
  {
   "cell_type": "code",
   "execution_count": 16,
   "id": "3ded49f6-557a-4ab6-8e50-d926aaef65e7",
   "metadata": {},
   "outputs": [
    {
     "name": "stdout",
     "output_type": "stream",
     "text": [
      "0\n",
      "2\n",
      "4\n",
      "6\n",
      "8\n",
      "10\n",
      "12\n",
      "14\n",
      "16\n",
      "18\n",
      "20\n",
      "22\n",
      "24\n",
      "26\n",
      "28\n",
      "30\n",
      "32\n",
      "34\n",
      "36\n",
      "38\n",
      "40\n",
      "42\n",
      "44\n",
      "46\n",
      "48\n",
      "50\n",
      "52\n",
      "54\n",
      "56\n",
      "58\n",
      "60\n",
      "62\n",
      "64\n",
      "66\n",
      "68\n",
      "70\n",
      "72\n",
      "74\n",
      "76\n",
      "78\n",
      "80\n",
      "82\n",
      "84\n",
      "86\n",
      "88\n",
      "90\n",
      "92\n",
      "94\n",
      "96\n",
      "98\n",
      "100\n"
     ]
    }
   ],
   "source": [
    "for i in range(101):\n",
    "    if i % 2 == 0:\n",
    "        print(i)"
   ]
  },
  {
   "cell_type": "markdown",
   "id": "df84b828-2322-43f9-9338-99b42c3d0bcf",
   "metadata": {},
   "source": [
    "## Exercise 3\n",
    "\n",
    "Count even numbers between 0 and 100 (included)."
   ]
  },
  {
   "cell_type": "code",
   "execution_count": 17,
   "id": "0c6bebd3-f085-434b-b4be-f805c1ba2ea3",
   "metadata": {},
   "outputs": [
    {
     "name": "stdout",
     "output_type": "stream",
     "text": [
      "51\n"
     ]
    }
   ],
   "source": [
    "count = 0\n",
    "for i in range(101):\n",
    "    if i % 2 == 0:\n",
    "        count += 1\n",
    "        \n",
    "print(count)"
   ]
  },
  {
   "cell_type": "markdown",
   "id": "8ff5688a-9dd4-4300-968d-6bc8a1704a87",
   "metadata": {},
   "source": [
    "## Exercise 4\n",
    "Write a function that takes an argument n. Return true if n is a prime number, return false otherwise."
   ]
  },
  {
   "cell_type": "code",
   "execution_count": 24,
   "id": "149e8a74-afd1-404c-8627-0ee067c05b34",
   "metadata": {},
   "outputs": [],
   "source": [
    "def is_prime(n):\n",
    "    for i in range(2, n):\n",
    "        if n % i == 0:\n",
    "            return False\n",
    "    \n",
    "        return True"
   ]
  },
  {
   "cell_type": "code",
   "execution_count": 30,
   "id": "144cb3a7-a83f-4b7b-9afc-824f6e7b8f6a",
   "metadata": {},
   "outputs": [
    {
     "data": {
      "text/plain": [
       "True"
      ]
     },
     "execution_count": 30,
     "metadata": {},
     "output_type": "execute_result"
    }
   ],
   "source": [
    "is_prime(9)"
   ]
  },
  {
   "cell_type": "markdown",
   "id": "28f7ecd2-5957-473f-89c4-f45da705699c",
   "metadata": {},
   "source": [
    "## Exercise 5\n",
    "Create a string to represent a series of numbers that follow the format \"[1, 3, 5, ..., 101]\"."
   ]
  },
  {
   "cell_type": "code",
   "execution_count": 37,
   "id": "3c31c7f8-2d39-4f77-aa2a-1bcb52fed3c8",
   "metadata": {},
   "outputs": [
    {
     "data": {
      "text/plain": [
       "'[1'"
      ]
     },
     "execution_count": 37,
     "metadata": {},
     "output_type": "execute_result"
    }
   ],
   "source": [
    "s = \"[\" + str(1)\n",
    "s"
   ]
  },
  {
   "cell_type": "code",
   "execution_count": 38,
   "id": "867eb675-17a4-40a8-b553-1c98e5455fde",
   "metadata": {},
   "outputs": [
    {
     "data": {
      "text/plain": [
       "'[1, 3'"
      ]
     },
     "execution_count": 38,
     "metadata": {},
     "output_type": "execute_result"
    }
   ],
   "source": [
    "s += \", 3\"\n",
    "s"
   ]
  },
  {
   "cell_type": "code",
   "execution_count": 39,
   "id": "f31996ae-7889-475f-8cdd-d97620c93008",
   "metadata": {},
   "outputs": [
    {
     "data": {
      "text/plain": [
       "'[1, 3, 5'"
      ]
     },
     "execution_count": 39,
     "metadata": {},
     "output_type": "execute_result"
    }
   ],
   "source": [
    "s += \", 5\"\n",
    "s"
   ]
  },
  {
   "cell_type": "code",
   "execution_count": 40,
   "id": "458e63e3-d386-4b7c-a16f-7b0c5ed11bbd",
   "metadata": {},
   "outputs": [
    {
     "name": "stdout",
     "output_type": "stream",
     "text": [
      "[, 1, 3, 5, 7, 9, 11, 13, 15, 17, 19, 21, 23, 25, 27, 29, 31, 33, 35, 37, 39, 41, 43, 45, 47, 49, 51, 53, 55, 57, 59, 61, 63, 65, 67, 69, 71, 73, 75, 77, 79, 81, 83, 85, 87, 89, 91, 93, 95, 97, 99, 101]\n"
     ]
    }
   ],
   "source": [
    "s = \"[\"\n",
    "for i in range(1, 102, 2):\n",
    "    s += \", \" + str(i)\n",
    "s += \"]\"\n",
    "print(s)"
   ]
  },
  {
   "cell_type": "code",
   "execution_count": 41,
   "id": "8bb5f986-e362-466b-b821-e15123139488",
   "metadata": {},
   "outputs": [
    {
     "name": "stdout",
     "output_type": "stream",
     "text": [
      "[1, 3, 5, 7, 9, 11, 13, 15, 17, 19, 21, 23, 25, 27, 29, 31, 33, 35, 37, 39, 41, 43, 45, 47, 49, 51, 53, 55, 57, 59, 61, 63, 65, 67, 69, 71, 73, 75, 77, 79, 81, 83, 85, 87, 89, 91, 93, 95, 97, 99, 101]\n"
     ]
    }
   ],
   "source": [
    "s = \"[1\"\n",
    "for i in range(3, 102, 2):\n",
    "    s += \", \" + str(i)\n",
    "s += \"]\"\n",
    "print(s)"
   ]
  },
  {
   "cell_type": "code",
   "execution_count": 42,
   "id": "ce19f6ea-d2e0-41ee-9ae1-b82bd36fc12e",
   "metadata": {},
   "outputs": [
    {
     "name": "stdout",
     "output_type": "stream",
     "text": [
      "[1, 3, 5, 7, 9, 11, 13, 15, 17, 19, 21, 23, 25, 27, 29, 31, 33, 35, 37, 39, 41, 43, 45, 47, 49, 51, 53, 55, 57, 59, 61, 63, 65, 67, 69, 71, 73, 75, 77, 79, 81, 83, 85, 87, 89, 91, 93, 95, 97, 99, 101]\n"
     ]
    }
   ],
   "source": [
    "s = \"[\"\n",
    "for i in range(1, 102, 2):\n",
    "    if i == 1:\n",
    "        s += str(i)\n",
    "    else:\n",
    "        s += \", \" + str(i)\n",
    "s += \"]\"\n",
    "print(s)"
   ]
  },
  {
   "cell_type": "code",
   "execution_count": 2,
   "id": "27782a98-091d-4889-a6f2-b289a65d75c0",
   "metadata": {},
   "outputs": [
    {
     "name": "stdout",
     "output_type": "stream",
     "text": [
      "[1, 1, 3, 5, 7, 9, 11, 13, 15, 17, 19, 21, 23, 25, 27, 29, 31, 33, 35, 37, 39, 41, 43, 45, 47, 49, 51, 53, 55, 57, 59, 61, 63, 65, 67, 69, 71, 73, 75, 77, 79, 81, 83, 85, 87, 89, 91, 93, 95, 97, 99, 101]\n"
     ]
    }
   ],
   "source": [
    "s = \"[\"\n",
    "isFirst = True\n",
    "for i in range(1, 102, 2):\n",
    "    if isFirst:\n",
    "        isFirst = False\n",
    "        s += str(i)\n",
    "        \n",
    "        \n",
    "    if not isFirst:\n",
    "        s += \", \" + str(i)\n",
    "        \n",
    "        \n",
    "    \n",
    "    \n",
    "    \n",
    "s += \"]\"\n",
    "print(s)"
   ]
  },
  {
   "cell_type": "markdown",
   "id": "77942d45-f246-4ea6-bfe6-66ca6d5886bd",
   "metadata": {},
   "source": [
    "## Exercise 6\n",
    "Calculate PI by generating a large number of random numbers."
   ]
  },
  {
   "cell_type": "code",
   "execution_count": 32,
   "id": "f94d9570-0561-45e4-af54-3cc51b103c74",
   "metadata": {},
   "outputs": [
    {
     "data": {
      "text/plain": [
       "0.4815975855615816"
      ]
     },
     "execution_count": 32,
     "metadata": {},
     "output_type": "execute_result"
    }
   ],
   "source": [
    "import random\n",
    "random.random()"
   ]
  },
  {
   "cell_type": "code",
   "execution_count": null,
   "id": "e748d5ab-ef6b-49e9-9aca-d4a15bb52aea",
   "metadata": {},
   "outputs": [],
   "source": []
  }
 ],
 "metadata": {
  "kernelspec": {
   "display_name": "Python 3 (ipykernel)",
   "language": "python",
   "name": "python3"
  },
  "language_info": {
   "codemirror_mode": {
    "name": "ipython",
    "version": 3
   },
   "file_extension": ".py",
   "mimetype": "text/x-python",
   "name": "python",
   "nbconvert_exporter": "python",
   "pygments_lexer": "ipython3",
   "version": "3.10.6"
  }
 },
 "nbformat": 4,
 "nbformat_minor": 5
}
