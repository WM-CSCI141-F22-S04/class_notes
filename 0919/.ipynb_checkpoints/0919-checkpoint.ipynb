{
 "cells": [
  {
   "cell_type": "markdown",
   "id": "3878b9b0-cc75-446d-9dd3-c1ccbd0dfc0e",
   "metadata": {},
   "source": [
    "## Warm up exercise\n",
    "Given an integer a, print True if it is positive, and print False if is negative or zero."
   ]
  },
  {
   "cell_type": "code",
   "execution_count": 3,
   "id": "afa47ae6-02f4-440d-bee1-338d4fb21e9c",
   "metadata": {},
   "outputs": [
    {
     "name": "stdout",
     "output_type": "stream",
     "text": [
      "False\n"
     ]
    }
   ],
   "source": [
    "a = 0\n",
    "print(a > 0)"
   ]
  },
  {
   "cell_type": "markdown",
   "id": "c264ce71-81a6-4f1e-85cd-80f7daecc78f",
   "metadata": {},
   "source": [
    "Given an integer a, print \"true\" if it is positive, and print \"false\" if it is negative or zero."
   ]
  },
  {
   "cell_type": "code",
   "execution_count": 4,
   "id": "d816d50c-7b54-4c18-8e93-5cead9d4a085",
   "metadata": {},
   "outputs": [
    {
     "ename": "SyntaxError",
     "evalue": "invalid syntax (3336907740.py, line 5)",
     "output_type": "error",
     "traceback": [
      "\u001b[0;36m  Cell \u001b[0;32mIn [4], line 5\u001b[0;36m\u001b[0m\n\u001b[0;31m    else:\u001b[0m\n\u001b[0m    ^\u001b[0m\n\u001b[0;31mSyntaxError\u001b[0m\u001b[0;31m:\u001b[0m invalid syntax\n"
     ]
    }
   ],
   "source": [
    "a = 1\n",
    "if a > 0:\n",
    "    print(\"true\")\n",
    "    print(\"positive\")\n",
    "else:\n",
    "    print(\"false\")\n",
    "    print(\"negative or zero\")\n"
   ]
  },
  {
   "cell_type": "code",
   "execution_count": 6,
   "id": "060e4413-c72b-4ffd-a347-e860e2f4288d",
   "metadata": {},
   "outputs": [
    {
     "name": "stdout",
     "output_type": "stream",
     "text": [
      "true\n",
      "positive\n",
      "other code\n"
     ]
    }
   ],
   "source": [
    "a = 1\n",
    "if a > 0:\n",
    "    print(\"true\")\n",
    "    print(\"positive\")\n",
    "    \n",
    "print(\"other code\")\n",
    "\n"
   ]
  },
  {
   "cell_type": "markdown",
   "id": "86d4b887-f436-4166-9425-23588dfdf913",
   "metadata": {},
   "source": [
    "## Given an integer a, print \"positive\" is it is positive, print \"zero\" if it is zero, print \"negative\" if it is negative."
   ]
  }
 ],
 "metadata": {
  "kernelspec": {
   "display_name": "Python 3 (ipykernel)",
   "language": "python",
   "name": "python3"
  },
  "language_info": {
   "codemirror_mode": {
    "name": "ipython",
    "version": 3
   },
   "file_extension": ".py",
   "mimetype": "text/x-python",
   "name": "python",
   "nbconvert_exporter": "python",
   "pygments_lexer": "ipython3",
   "version": "3.10.6"
  }
 },
 "nbformat": 4,
 "nbformat_minor": 5
}
