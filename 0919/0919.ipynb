{
 "cells": [
  {
   "cell_type": "markdown",
   "id": "3878b9b0-cc75-446d-9dd3-c1ccbd0dfc0e",
   "metadata": {},
   "source": [
    "## Warm up exercise\n",
    "Given an integer a, print True if it is positive, and print False if is negative or zero."
   ]
  },
  {
   "cell_type": "code",
   "execution_count": 3,
   "id": "afa47ae6-02f4-440d-bee1-338d4fb21e9c",
   "metadata": {},
   "outputs": [
    {
     "name": "stdout",
     "output_type": "stream",
     "text": [
      "False\n"
     ]
    }
   ],
   "source": [
    "a = 0\n",
    "print(a > 0)"
   ]
  },
  {
   "cell_type": "markdown",
   "id": "c264ce71-81a6-4f1e-85cd-80f7daecc78f",
   "metadata": {},
   "source": [
    "Given an integer a, print \"true\" if it is positive, and print \"false\" if it is negative or zero."
   ]
  },
  {
   "cell_type": "code",
   "execution_count": 4,
   "id": "d816d50c-7b54-4c18-8e93-5cead9d4a085",
   "metadata": {},
   "outputs": [
    {
     "ename": "SyntaxError",
     "evalue": "invalid syntax (3336907740.py, line 5)",
     "output_type": "error",
     "traceback": [
      "\u001b[0;36m  Cell \u001b[0;32mIn [4], line 5\u001b[0;36m\u001b[0m\n\u001b[0;31m    else:\u001b[0m\n\u001b[0m    ^\u001b[0m\n\u001b[0;31mSyntaxError\u001b[0m\u001b[0;31m:\u001b[0m invalid syntax\n"
     ]
    }
   ],
   "source": [
    "a = 1\n",
    "if a > 0:\n",
    "    print(\"true\")\n",
    "    print(\"positive\")\n",
    "else:\n",
    "    print(\"false\")\n",
    "    print(\"negative or zero\")\n"
   ]
  },
  {
   "cell_type": "code",
   "execution_count": 6,
   "id": "060e4413-c72b-4ffd-a347-e860e2f4288d",
   "metadata": {},
   "outputs": [
    {
     "name": "stdout",
     "output_type": "stream",
     "text": [
      "true\n",
      "positive\n",
      "other code\n"
     ]
    }
   ],
   "source": [
    "a = 1\n",
    "if a > 0:\n",
    "    print(\"true\")\n",
    "    print(\"positive\")\n",
    "    \n",
    "print(\"other code\")\n",
    "\n"
   ]
  },
  {
   "cell_type": "markdown",
   "id": "86d4b887-f436-4166-9425-23588dfdf913",
   "metadata": {},
   "source": [
    "## Exercise 2\n",
    "Given an integer a, print \"positive\" is it is positive, print \"zero\" if it is zero, print \"negative\" if it is negative."
   ]
  },
  {
   "cell_type": "code",
   "execution_count": 7,
   "id": "e5048cb2-c986-41ac-b144-bd8174c980b9",
   "metadata": {},
   "outputs": [
    {
     "name": "stdout",
     "output_type": "stream",
     "text": [
      "positive\n"
     ]
    }
   ],
   "source": [
    "a = 1\n",
    "if a > 0:\n",
    "    print(\"positive\")\n",
    "else:\n",
    "    if a == 0:\n",
    "        print(\"zero\")\n",
    "    else: \n",
    "        print(\"negative\")"
   ]
  },
  {
   "cell_type": "code",
   "execution_count": 8,
   "id": "e789b2d7-e65f-47aa-85a3-82078b59c65c",
   "metadata": {},
   "outputs": [
    {
     "name": "stdout",
     "output_type": "stream",
     "text": [
      "positive\n"
     ]
    }
   ],
   "source": [
    "a = 1 \n",
    "if a > 0:\n",
    "    print(\"positive\")\n",
    "elif a == 0:\n",
    "    print(\"zero\")\n",
    "else:\n",
    "    print(\"negative\")\n",
    "    "
   ]
  },
  {
   "cell_type": "markdown",
   "id": "97e9f3be-dd02-4061-8274-ab8a3df2b716",
   "metadata": {},
   "source": [
    "## Exercise 3\n",
    "Given a 3-letter month string (e.g., \"Jan\"), print the number of the month (\"Jan\" -> 1)."
   ]
  },
  {
   "cell_type": "code",
   "execution_count": 9,
   "id": "7efd1797-2ec0-4a8c-a04b-32c259be1488",
   "metadata": {},
   "outputs": [
    {
     "name": "stdout",
     "output_type": "stream",
     "text": [
      "2\n"
     ]
    }
   ],
   "source": [
    "month_string = \"Feb\"\n",
    "if month_string == \"Jan\":\n",
    "    print(1)\n",
    "elif month_string == \"Feb\":\n",
    "    print(2)\n",
    "elif month_string == \"Mar\":\n",
    "    print(3)\n",
    "else:\n",
    "    print(\"unknown\")"
   ]
  },
  {
   "cell_type": "code",
   "execution_count": 10,
   "id": "6ef332ea-f6b8-4431-b024-764243206ae8",
   "metadata": {},
   "outputs": [
    {
     "name": "stdout",
     "output_type": "stream",
     "text": [
      "2\n"
     ]
    }
   ],
   "source": [
    "month_string = \"Feb\"\n",
    "if month_string == \"Jan\":\n",
    "    print(1)\n",
    "if month_string == \"Feb\":\n",
    "    print(2)\n",
    "if month_string == \"Mar\":\n",
    "    print(3)"
   ]
  },
  {
   "cell_type": "markdown",
   "id": "48d49728-c81a-48a2-b5b7-76d0589ceb16",
   "metadata": {},
   "source": [
    "## Exercise 4\n",
    "You are given a human glucose reading in variable g as an integer. Assuming human normal glucose level is 60-120, print \"too low\", \"normal\", \"too high\", according to the reading stored in g."
   ]
  },
  {
   "cell_type": "code",
   "execution_count": 12,
   "id": "f66ed886-624e-4f37-b605-6400f7a4a5b5",
   "metadata": {},
   "outputs": [
    {
     "name": "stdout",
     "output_type": "stream",
     "text": [
      "normal\n"
     ]
    }
   ],
   "source": [
    "g = 80\n",
    "if 60 < g and g < 120:\n",
    "    print(\"normal\")\n",
    "else:\n",
    "    pass"
   ]
  },
  {
   "cell_type": "markdown",
   "id": "8c370c91-e10e-47aa-a0db-077554cf38b7",
   "metadata": {},
   "source": [
    "# Function"
   ]
  },
  {
   "cell_type": "code",
   "execution_count": 15,
   "id": "54325525-dc3c-4576-a7c7-8f27f00e9b6b",
   "metadata": {},
   "outputs": [
    {
     "name": "stdout",
     "output_type": "stream",
     "text": [
      "Value a 1\n",
      "False\n"
     ]
    }
   ],
   "source": [
    "def is_zero(a):\n",
    "    print(\"Value a\", a)\n",
    "    return a == 0\n",
    "\n",
    "print(is_zero(1))"
   ]
  },
  {
   "cell_type": "code",
   "execution_count": 20,
   "id": "9340d188-0788-4832-b21a-c8901c3cc1b4",
   "metadata": {},
   "outputs": [
    {
     "name": "stdout",
     "output_type": "stream",
     "text": [
      "5 4\n",
      "20\n"
     ]
    }
   ],
   "source": [
    "def area_of_rect(a, b):\n",
    "    print(a, b)\n",
    "    return a * b\n",
    "\n",
    "width = 4\n",
    "height = 5\n",
    "print(area_of_rect(height, width))"
   ]
  },
  {
   "cell_type": "code",
   "execution_count": 22,
   "id": "a33c3561-db97-440c-a231-fb580f50dc2c",
   "metadata": {},
   "outputs": [
    {
     "name": "stdout",
     "output_type": "stream",
     "text": [
      "5 4\n",
      "20 18\n"
     ]
    }
   ],
   "source": [
    "def area_of_rect(a, b):\n",
    "    print(a, b)\n",
    "    return a * b, 2*a + 2*b\n",
    "\n",
    "width = 4\n",
    "height = 5\n",
    "area, cir = area_of_rect(height, width)\n",
    "print(area, cir)"
   ]
  },
  {
   "cell_type": "code",
   "execution_count": 23,
   "id": "fda7cefe-5e60-439f-aa72-4bceed727d62",
   "metadata": {},
   "outputs": [
    {
     "name": "stdout",
     "output_type": "stream",
     "text": [
      "a\n",
      "None\n"
     ]
    }
   ],
   "source": [
    "print(print(\"a\"))"
   ]
  },
  {
   "cell_type": "code",
   "execution_count": 24,
   "id": "ab873f4a-2e4d-46dc-96cc-b91aaa7f5be7",
   "metadata": {},
   "outputs": [],
   "source": [
    "def add_one(a):\n",
    "    a = a + 1"
   ]
  },
  {
   "cell_type": "code",
   "execution_count": null,
   "id": "96a569db-38f9-4b7b-8d21-f890fd144704",
   "metadata": {},
   "outputs": [],
   "source": []
  }
 ],
 "metadata": {
  "kernelspec": {
   "display_name": "Python 3 (ipykernel)",
   "language": "python",
   "name": "python3"
  },
  "language_info": {
   "codemirror_mode": {
    "name": "ipython",
    "version": 3
   },
   "file_extension": ".py",
   "mimetype": "text/x-python",
   "name": "python",
   "nbconvert_exporter": "python",
   "pygments_lexer": "ipython3",
   "version": "3.10.6"
  }
 },
 "nbformat": 4,
 "nbformat_minor": 5
}
