{
 "cells": [
  {
   "cell_type": "code",
   "execution_count": 1,
   "id": "05110393-8163-4c04-9652-223425177b18",
   "metadata": {},
   "outputs": [],
   "source": [
    "## Pyramid"
   ]
  },
  {
   "cell_type": "code",
   "execution_count": 3,
   "id": "a446e4e9-2f40-4f10-aa57-ec566b5c9dff",
   "metadata": {},
   "outputs": [
    {
     "name": "stdout",
     "output_type": "stream",
     "text": [
      "12\n"
     ]
    }
   ],
   "source": [
    "s = \"\"\n",
    "s += str(1)\n",
    "s += str(2)\n",
    "print(s)"
   ]
  },
  {
   "cell_type": "code",
   "execution_count": 4,
   "id": "af521fd4-7e04-4dc2-acd2-5ee8afdb62cb",
   "metadata": {},
   "outputs": [],
   "source": [
    "def test_pyramid():\n",
    "    assert pyramid(1) == '1'\n",
    "    assert pyramid(2) == '1\\n1 2'\n",
    "    assert pyramid(3) == '1\\n1 2\\n1 2 3'\n",
    "    assert pyramid(4) == '1\\n1 2\\n1 2 3\\n1 2 3 4'\n",
    "    assert pyramid(5) == '1\\n1 2\\n1 2 3\\n1 2 3 4\\n1 2 3 4 5'\n"
   ]
  },
  {
   "cell_type": "code",
   "execution_count": 19,
   "id": "d974baf3-0132-4193-9d6b-2f1e6b1af0bd",
   "metadata": {},
   "outputs": [
    {
     "data": {
      "text/plain": [
       "'1\\n1.2'"
      ]
     },
     "execution_count": 19,
     "metadata": {},
     "output_type": "execute_result"
    }
   ],
   "source": [
    "def pyramid(n):\n",
    "    s = \"\"\n",
    "    \n",
    "    for i in range(n):\n",
    "        # s += str(i)\n",
    "        for j in range(i+1):\n",
    "            if j == 0:\n",
    "                s += str(j+1)\n",
    "            else:\n",
    "                s += \".\"+str(j+1)\n",
    "        \n",
    "        if i < n-1:\n",
    "            s += \"\\n\"\n",
    "            \n",
    "    return s\n",
    "\n",
    "pyramid(2)\n"
   ]
  },
  {
   "cell_type": "code",
   "execution_count": null,
   "id": "f5a7d66c-2826-4a16-845a-6f5ab21272b8",
   "metadata": {},
   "outputs": [],
   "source": [
    " 1\n",
    " 3 2\n",
    " 6 5 4\n",
    "10 9 8 7"
   ]
  },
  {
   "cell_type": "code",
   "execution_count": 22,
   "id": "e981028a-8ec2-4ff6-8b8a-476da2735ec7",
   "metadata": {},
   "outputs": [
    {
     "name": "stdout",
     "output_type": "stream",
     "text": [
      "08\n"
     ]
    }
   ],
   "source": [
    "s = \"\"\n",
    "n = 8\n",
    "if n < 10:\n",
    "    s += \"0\" + str(n)\n",
    "else:\n",
    "    s += str(n)\n",
    "print(s)"
   ]
  },
  {
   "cell_type": "code",
   "execution_count": 25,
   "id": "f3f200f9-477f-4371-992f-1ba5d96be453",
   "metadata": {},
   "outputs": [
    {
     "data": {
      "text/plain": [
       "'6 5 4 '"
      ]
     },
     "execution_count": 25,
     "metadata": {},
     "output_type": "execute_result"
    }
   ],
   "source": [
    "def build_str_backward(sn, count):\n",
    "    s = \"\"\n",
    "    for i in range(count):\n",
    "        s += str(sn - i) + \" \"\n",
    "    return s\n",
    "        \n",
    "build_str_backward(6, 3) "
   ]
  },
  {
   "cell_type": "code",
   "execution_count": 28,
   "id": "5358657f-ee5c-48e7-8672-8e77e2af8150",
   "metadata": {},
   "outputs": [
    {
     "data": {
      "text/plain": [
       "6"
      ]
     },
     "execution_count": 28,
     "metadata": {},
     "output_type": "execute_result"
    }
   ],
   "source": [
    "def get_starting_number(row):\n",
    "    sn = 0\n",
    "    for i in range(row):\n",
    "        sn += i + 1\n",
    "    return sn\n",
    "    \n",
    "get_starting_number(3)"
   ]
  },
  {
   "cell_type": "code",
   "execution_count": null,
   "id": "f36ed226-0f80-449f-be7c-78596dc66737",
   "metadata": {},
   "outputs": [],
   "source": [
    "i = 0, sn = 1\n",
    "i = 1, sn = 1+2\n",
    "i = 2, sn = 1+2+3"
   ]
  },
  {
   "cell_type": "code",
   "execution_count": null,
   "id": "d1b49d45-f7d9-4f7b-af72-90626ec5546a",
   "metadata": {},
   "outputs": [],
   "source": [
    "## Pascal triangle\n",
    "   j1  2. 3  4\n",
    "i1 01\n",
    " 2 01 01\n",
    " 3 01 02 01\n",
    " 4 01 03 03 01\n",
    "    \n",
    "Ni,j = 1 if j==1 or j==i\n",
    "Ni,j = N(i-1),(j-1) + N(i-1),(j)"
   ]
  },
  {
   "cell_type": "code",
   "execution_count": 35,
   "id": "156b5079-9729-446c-88cd-4006a67b65e5",
   "metadata": {},
   "outputs": [
    {
     "data": {
      "text/plain": [
       "3"
      ]
     },
     "execution_count": 35,
     "metadata": {},
     "output_type": "execute_result"
    }
   ],
   "source": [
    "def pascal_number(i, j):\n",
    "    if j == 0 or i == j:\n",
    "        return 1\n",
    "    return pascal_number(i-1, j-1) + pascal_number(i-1, j)\n",
    "\n",
    "pascal_number(3, 1)"
   ]
  },
  {
   "cell_type": "code",
   "execution_count": null,
   "id": "5efb38a8-209f-4de6-bea3-96c2337afabd",
   "metadata": {},
   "outputs": [],
   "source": [
    "    01\n",
    "  01. 01\n",
    "01  01  01"
   ]
  },
  {
   "cell_type": "code",
   "execution_count": null,
   "id": "01125a3d-c22c-4818-bca3-706667d2f515",
   "metadata": {},
   "outputs": [],
   "source": [
    "  01\n",
    "01. 01"
   ]
  },
  {
   "cell_type": "code",
   "execution_count": null,
   "id": "f8834ce5-ab69-4a67-920b-d940e999736b",
   "metadata": {},
   "outputs": [],
   "source": [
    "n = 1, i = 1, ns = 0\n",
    "n = 2, i = 1, ns = 2\n",
    "n = 2, i = 2, ns = 0\n",
    "n = 3, i = 1, ns = 4\n",
    "n = 4, i = 1, ns = 6\n",
    "ns = 2(n-i)"
   ]
  },
  {
   "cell_type": "markdown",
   "id": "85ebc2f6-76a5-48ab-8942-d0fcd40ad130",
   "metadata": {},
   "source": [
    "# Containers"
   ]
  },
  {
   "cell_type": "markdown",
   "id": "df0269fd-96cc-42d6-9b50-e6db0e0fbd08",
   "metadata": {},
   "source": [
    "## List"
   ]
  },
  {
   "cell_type": "code",
   "execution_count": 37,
   "id": "e3d1a8e4-cacd-4d75-9769-8e09f34a9def",
   "metadata": {},
   "outputs": [
    {
     "name": "stdout",
     "output_type": "stream",
     "text": [
      "[]\n"
     ]
    }
   ],
   "source": [
    "l = []\n",
    "print(l)"
   ]
  },
  {
   "cell_type": "code",
   "execution_count": 38,
   "id": "3fbc5109-e10b-4988-af66-630b9e7cb060",
   "metadata": {},
   "outputs": [
    {
     "data": {
      "text/plain": [
       "list"
      ]
     },
     "execution_count": 38,
     "metadata": {},
     "output_type": "execute_result"
    }
   ],
   "source": [
    "type(l)"
   ]
  },
  {
   "cell_type": "code",
   "execution_count": 39,
   "id": "c86b9764-34c8-4cc8-b3ee-6113aed05bc7",
   "metadata": {},
   "outputs": [],
   "source": [
    "l = [1, 3, 4]"
   ]
  },
  {
   "cell_type": "code",
   "execution_count": 40,
   "id": "38c3fa2a-0551-4ef9-9eac-45e78212be36",
   "metadata": {},
   "outputs": [
    {
     "name": "stdout",
     "output_type": "stream",
     "text": [
      "[1, 3, 4]\n"
     ]
    }
   ],
   "source": [
    "print(l)"
   ]
  },
  {
   "cell_type": "code",
   "execution_count": 41,
   "id": "2966dad7-0606-47fd-b31a-89646cb20131",
   "metadata": {},
   "outputs": [],
   "source": [
    "l = [1, \"ss\", \"4\"]"
   ]
  },
  {
   "cell_type": "code",
   "execution_count": 42,
   "id": "3bb5e9a5-11d5-46c0-971e-c7ef382d2ddc",
   "metadata": {},
   "outputs": [
    {
     "data": {
      "text/plain": [
       "[1, 'ss', '4']"
      ]
     },
     "execution_count": 42,
     "metadata": {},
     "output_type": "execute_result"
    }
   ],
   "source": [
    "l"
   ]
  },
  {
   "cell_type": "code",
   "execution_count": 43,
   "id": "e995485b-5e87-4407-a383-31f0dae1c95b",
   "metadata": {},
   "outputs": [],
   "source": [
    "l = [1, \"ss\", [1, \"ss\"]]"
   ]
  },
  {
   "cell_type": "code",
   "execution_count": 44,
   "id": "b15ba38d-4bba-4978-b90a-3ae09f3bc19f",
   "metadata": {},
   "outputs": [
    {
     "data": {
      "text/plain": [
       "[1, 'ss', [1, 'ss']]"
      ]
     },
     "execution_count": 44,
     "metadata": {},
     "output_type": "execute_result"
    }
   ],
   "source": [
    "l"
   ]
  },
  {
   "cell_type": "code",
   "execution_count": 45,
   "id": "ae61aecb-0363-4edc-b1bd-68bea2a70cad",
   "metadata": {},
   "outputs": [
    {
     "data": {
      "text/plain": [
       "'ss'"
      ]
     },
     "execution_count": 45,
     "metadata": {},
     "output_type": "execute_result"
    }
   ],
   "source": [
    "l[1]"
   ]
  },
  {
   "cell_type": "code",
   "execution_count": 46,
   "id": "80eb2106-2f83-49c0-99ca-c69d023f6ed8",
   "metadata": {},
   "outputs": [
    {
     "data": {
      "text/plain": [
       "1"
      ]
     },
     "execution_count": 46,
     "metadata": {},
     "output_type": "execute_result"
    }
   ],
   "source": [
    "l[0]"
   ]
  },
  {
   "cell_type": "code",
   "execution_count": 47,
   "id": "2aa8292a-ef79-4b38-ba78-d23bcc1f8a63",
   "metadata": {},
   "outputs": [
    {
     "data": {
      "text/plain": [
       "1"
      ]
     },
     "execution_count": 47,
     "metadata": {},
     "output_type": "execute_result"
    }
   ],
   "source": [
    "l[2][0]\n"
   ]
  },
  {
   "cell_type": "code",
   "execution_count": 48,
   "id": "6287b995-9712-4bb9-a99e-e3929488e700",
   "metadata": {},
   "outputs": [
    {
     "ename": "TypeError",
     "evalue": "list indices must be integers or slices, not float",
     "output_type": "error",
     "traceback": [
      "\u001b[0;31m---------------------------------------------------------------------------\u001b[0m",
      "\u001b[0;31mTypeError\u001b[0m                                 Traceback (most recent call last)",
      "Cell \u001b[0;32mIn [48], line 1\u001b[0m\n\u001b[0;32m----> 1\u001b[0m \u001b[43ml\u001b[49m\u001b[43m[\u001b[49m\u001b[38;5;241;43m1.0\u001b[39;49m\u001b[43m]\u001b[49m\n",
      "\u001b[0;31mTypeError\u001b[0m: list indices must be integers or slices, not float"
     ]
    }
   ],
   "source": [
    "l[1.0]"
   ]
  },
  {
   "cell_type": "code",
   "execution_count": 49,
   "id": "67457d0a-3de7-406a-9872-67110a0967a9",
   "metadata": {},
   "outputs": [
    {
     "ename": "IndexError",
     "evalue": "list index out of range",
     "output_type": "error",
     "traceback": [
      "\u001b[0;31m---------------------------------------------------------------------------\u001b[0m",
      "\u001b[0;31mIndexError\u001b[0m                                Traceback (most recent call last)",
      "Cell \u001b[0;32mIn [49], line 1\u001b[0m\n\u001b[0;32m----> 1\u001b[0m \u001b[43ml\u001b[49m\u001b[43m[\u001b[49m\u001b[38;5;241;43m3\u001b[39;49m\u001b[43m]\u001b[49m\n",
      "\u001b[0;31mIndexError\u001b[0m: list index out of range"
     ]
    }
   ],
   "source": [
    "l[3]"
   ]
  },
  {
   "cell_type": "code",
   "execution_count": 50,
   "id": "13e50ba7-5571-4fcd-9a6d-604d896e0474",
   "metadata": {},
   "outputs": [
    {
     "data": {
      "text/plain": [
       "[1, 'ss']"
      ]
     },
     "execution_count": 50,
     "metadata": {},
     "output_type": "execute_result"
    }
   ],
   "source": [
    "l[-1]"
   ]
  },
  {
   "cell_type": "code",
   "execution_count": 51,
   "id": "19f6a5cd-e298-4610-a76d-6e20327cbd6e",
   "metadata": {},
   "outputs": [
    {
     "data": {
      "text/plain": [
       "'ss'"
      ]
     },
     "execution_count": 51,
     "metadata": {},
     "output_type": "execute_result"
    }
   ],
   "source": [
    "l[-2]"
   ]
  },
  {
   "cell_type": "code",
   "execution_count": 52,
   "id": "e3834914-0fb0-4e52-b747-978a277442a6",
   "metadata": {},
   "outputs": [
    {
     "ename": "IndexError",
     "evalue": "list index out of range",
     "output_type": "error",
     "traceback": [
      "\u001b[0;31m---------------------------------------------------------------------------\u001b[0m",
      "\u001b[0;31mIndexError\u001b[0m                                Traceback (most recent call last)",
      "Cell \u001b[0;32mIn [52], line 1\u001b[0m\n\u001b[0;32m----> 1\u001b[0m \u001b[43ml\u001b[49m\u001b[43m[\u001b[49m\u001b[38;5;241;43m-\u001b[39;49m\u001b[38;5;241;43m4\u001b[39;49m\u001b[43m]\u001b[49m\n",
      "\u001b[0;31mIndexError\u001b[0m: list index out of range"
     ]
    }
   ],
   "source": [
    "l[-4]"
   ]
  },
  {
   "cell_type": "markdown",
   "id": "d073589c-2018-4241-8f5f-7255425fd08e",
   "metadata": {},
   "source": [
    "## Exercise: Use list as a look up table. \n",
    "Given a month number from 1 to 12, return the string representation (\"Jan\") of the month."
   ]
  },
  {
   "cell_type": "code",
   "execution_count": null,
   "id": "23b873d8-28b6-43f7-8d2f-b6a72f8f4ceb",
   "metadata": {},
   "outputs": [],
   "source": []
  },
  {
   "cell_type": "code",
   "execution_count": null,
   "id": "7262801b-4dc4-4b8b-b27f-81332c7b7e78",
   "metadata": {},
   "outputs": [],
   "source": []
  },
  {
   "cell_type": "code",
   "execution_count": null,
   "id": "a4eedf85-b94b-4b3e-8844-143d17e20a8e",
   "metadata": {},
   "outputs": [],
   "source": []
  },
  {
   "cell_type": "markdown",
   "id": "fca236f5-b48f-4de3-b6e0-6b4b3277d4d1",
   "metadata": {},
   "source": [
    "## Exercise: \n",
    "Given a week day number from 1 to 7, return the string representation (\"Monday\")."
   ]
  },
  {
   "cell_type": "code",
   "execution_count": 54,
   "id": "5e6176f8-ae63-443d-bdf4-f4bfe3cffdc3",
   "metadata": {},
   "outputs": [
    {
     "data": {
      "text/plain": [
       "'Wed'"
      ]
     },
     "execution_count": 54,
     "metadata": {},
     "output_type": "execute_result"
    }
   ],
   "source": [
    "def week_day_number_to_week_day_name(n):\n",
    "    table = [\n",
    "        'Invalid',\n",
    "        'Monday', \n",
    "        'Tuesday',\n",
    "        'Wed',\n",
    "        'Thur',\n",
    "    ]\n",
    "    return table[n]\n",
    "\n",
    "week_day_number_to_week_day_name(3)\n",
    "    "
   ]
  },
  {
   "cell_type": "code",
   "execution_count": 55,
   "id": "3aa6de66-24f6-45ab-9294-5076bd195b56",
   "metadata": {},
   "outputs": [
    {
     "data": {
      "text/plain": [
       "'Wed'"
      ]
     },
     "execution_count": 55,
     "metadata": {},
     "output_type": "execute_result"
    }
   ],
   "source": [
    "def week_day_number_to_week_day_name(n):\n",
    "    table = [\n",
    "        'Monday', \n",
    "        'Tuesday',\n",
    "        'Wed',\n",
    "        'Thur',\n",
    "    ]\n",
    "    return table[n-1]\n",
    "\n",
    "week_day_number_to_week_day_name(3)"
   ]
  },
  {
   "cell_type": "markdown",
   "id": "70a2ae83-bc07-4f77-9737-fe8f63f79fc9",
   "metadata": {},
   "source": [
    "## Insert Element in a list"
   ]
  },
  {
   "cell_type": "code",
   "execution_count": 56,
   "id": "29261098-3104-4071-b223-34064b47c70e",
   "metadata": {},
   "outputs": [
    {
     "data": {
      "text/plain": [
       "[1, 2, 3]"
      ]
     },
     "execution_count": 56,
     "metadata": {},
     "output_type": "execute_result"
    }
   ],
   "source": [
    "l = [1, 2]\n",
    "l.append(3)\n",
    "l"
   ]
  },
  {
   "cell_type": "code",
   "execution_count": 57,
   "id": "e0fb0bf7-d0d5-419a-9d5f-2063545c1282",
   "metadata": {},
   "outputs": [
    {
     "name": "stdout",
     "output_type": "stream",
     "text": [
      "[3, 4, 5, 6, 9] [9, 8, 7, 6]\n"
     ]
    }
   ],
   "source": [
    "l2 = [3, 4, 5, 6,]\n",
    "l3 = [9, 8, 7, 6]\n",
    "l2.append(9)\n",
    "print(l2, l3)"
   ]
  },
  {
   "cell_type": "code",
   "execution_count": 59,
   "id": "f2e83221-fb6e-41c2-8271-4aef4a2f0a1a",
   "metadata": {},
   "outputs": [
    {
     "data": {
      "text/plain": [
       "[3, 4, 5, 6, 9, 9, 8, 7, 6]"
      ]
     },
     "execution_count": 59,
     "metadata": {},
     "output_type": "execute_result"
    }
   ],
   "source": [
    "l = l2 + l3\n",
    "l"
   ]
  },
  {
   "cell_type": "code",
   "execution_count": 60,
   "id": "d21b6d96-0557-4c3c-8c77-01d1e5c2e8fd",
   "metadata": {},
   "outputs": [
    {
     "name": "stdout",
     "output_type": "stream",
     "text": [
      "[3, 4, 5, 6, 9] [9, 8, 7, 6]\n"
     ]
    }
   ],
   "source": [
    "print(l2, l3)"
   ]
  },
  {
   "cell_type": "code",
   "execution_count": 61,
   "id": "594bc4f3-8836-47a7-ab65-e893f824c64f",
   "metadata": {},
   "outputs": [
    {
     "name": "stdout",
     "output_type": "stream",
     "text": [
      "[3, 4, 5, 6, 9, 10] [9, 8, 7, 6] [3, 4, 5, 6, 9, 9, 8, 7, 6]\n"
     ]
    }
   ],
   "source": [
    "l2.append(10)\n",
    "print(l2, l3, l)"
   ]
  },
  {
   "cell_type": "code",
   "execution_count": 62,
   "id": "ac5dfc7f-383a-401a-a9fa-5f23cb5a5948",
   "metadata": {},
   "outputs": [
    {
     "data": {
      "text/plain": [
       "[3, 4, 5, 6, 14, 9, 10]"
      ]
     },
     "execution_count": 62,
     "metadata": {},
     "output_type": "execute_result"
    }
   ],
   "source": [
    "l2.insert(4, 14)\n",
    "l2"
   ]
  },
  {
   "cell_type": "code",
   "execution_count": 63,
   "id": "b217aabb-f849-42c2-b1e5-2dfa1a2dc8d9",
   "metadata": {},
   "outputs": [
    {
     "data": {
      "text/plain": [
       "7"
      ]
     },
     "execution_count": 63,
     "metadata": {},
     "output_type": "execute_result"
    }
   ],
   "source": [
    "len(l2)"
   ]
  },
  {
   "cell_type": "markdown",
   "id": "41aa45bf-30c0-4f83-ae6b-f2457acb090c",
   "metadata": {},
   "source": [
    "## Exercise\n",
    "Given a list, print every element in the list."
   ]
  },
  {
   "cell_type": "code",
   "execution_count": 65,
   "id": "df1fa3a7-7ccf-4ff6-83fd-68360401c79f",
   "metadata": {},
   "outputs": [
    {
     "name": "stdout",
     "output_type": "stream",
     "text": [
      "0 1\n",
      "1 2\n",
      "2 3\n",
      "3 4\n",
      "4 5\n",
      "5 6\n",
      "6 7\n",
      "7 8\n",
      "8 9\n",
      "9 10\n"
     ]
    }
   ],
   "source": [
    "l = [1, 2, 3, 4, 5, 6, 7, 8, 9, 10]\n",
    "for i in range(len(l)):\n",
    "    print(i, l[i])"
   ]
  },
  {
   "cell_type": "code",
   "execution_count": 66,
   "id": "39ffd391-3599-4e2d-a4ee-247797b27cbe",
   "metadata": {},
   "outputs": [
    {
     "name": "stdout",
     "output_type": "stream",
     "text": [
      "1\n",
      "2\n",
      "3\n",
      "4\n",
      "5\n",
      "6\n",
      "7\n",
      "8\n",
      "9\n",
      "10\n"
     ]
    }
   ],
   "source": [
    "for n in l:\n",
    "    print(n)"
   ]
  },
  {
   "cell_type": "markdown",
   "id": "889aa252-9418-400e-aef8-c52eaa78c5a2",
   "metadata": {},
   "source": [
    "## Exercise\n",
    "Use for-in loop to print both index and element in a list."
   ]
  },
  {
   "cell_type": "code",
   "execution_count": 67,
   "id": "ca7ae7da-ec16-405b-ab5d-ff80b455f8da",
   "metadata": {},
   "outputs": [
    {
     "name": "stdout",
     "output_type": "stream",
     "text": [
      "3\n"
     ]
    }
   ],
   "source": [
    "def add_one(n):\n",
    "    n = n + 1\n",
    "    \n",
    "n = 3\n",
    "add_one(n)\n",
    "print(n)"
   ]
  },
  {
   "cell_type": "code",
   "execution_count": 68,
   "id": "38a19a0c-320d-45fc-bc38-afd9b54b77e2",
   "metadata": {},
   "outputs": [
    {
     "name": "stdout",
     "output_type": "stream",
     "text": [
      "[1, 2, 3, 10]\n"
     ]
    }
   ],
   "source": [
    "def add_one_elem(l):\n",
    "    l.append(10)\n",
    "\n",
    "l = [1, 2, 3]\n",
    "add_one_elem(l)\n",
    "print(l)"
   ]
  },
  {
   "cell_type": "code",
   "execution_count": null,
   "id": "90ced7c4-37db-4e9f-ad46-894d24806ea0",
   "metadata": {},
   "outputs": [],
   "source": []
  }
 ],
 "metadata": {
  "kernelspec": {
   "display_name": "Python 3 (ipykernel)",
   "language": "python",
   "name": "python3"
  },
  "language_info": {
   "codemirror_mode": {
    "name": "ipython",
    "version": 3
   },
   "file_extension": ".py",
   "mimetype": "text/x-python",
   "name": "python",
   "nbconvert_exporter": "python",
   "pygments_lexer": "ipython3",
   "version": "3.10.6"
  }
 },
 "nbformat": 4,
 "nbformat_minor": 5
}
