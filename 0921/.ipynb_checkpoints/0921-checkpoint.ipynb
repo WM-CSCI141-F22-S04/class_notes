{
 "cells": [
  {
   "cell_type": "markdown",
   "id": "1668ee6d-229b-41c8-aa68-0bb3948b5b6d",
   "metadata": {},
   "source": [
    "## Warm up exercise\n",
    "Define a function that check if a number is even. If the number is even, return true. Otherwise, return false. "
   ]
  },
  {
   "cell_type": "code",
   "execution_count": 12,
   "id": "0bbbbb25-d2f1-48e9-96be-53db9c9f83fa",
   "metadata": {},
   "outputs": [
    {
     "name": "stdout",
     "output_type": "stream",
     "text": [
      "return from line 5\n",
      "False\n",
      "None\n",
      "return from line 3\n",
      "True\n",
      "return from line 5\n",
      "False\n",
      "Odd\n"
     ]
    }
   ],
   "source": [
    "def is_even(num):\n",
    "    if num % 2 == 0:\n",
    "        print(\"return from line 3\")\n",
    "        print(True)\n",
    "        \n",
    "        # return True\n",
    "    \n",
    "    print(\"return from line 5\")\n",
    "    print(False)\n",
    "    # return False\n",
    "    \n",
    "print(is_even(1))\n",
    "\n",
    "if is_even(2):\n",
    "    print(\"Even\")\n",
    "else:\n",
    "    print(\"Odd\")\n",
    "\n"
   ]
  },
  {
   "cell_type": "code",
   "execution_count": 13,
   "id": "352aa365-aa86-4540-b6a0-6f3976a2ce1b",
   "metadata": {},
   "outputs": [
    {
     "name": "stdout",
     "output_type": "stream",
     "text": [
      "return from line 5\n",
      "False\n"
     ]
    }
   ],
   "source": [
    "def is_even(num):\n",
    "    if num % 2 == 0:\n",
    "        print(\"return from line 3\")\n",
    "        # print(True)\n",
    "        return True\n",
    "    \n",
    "    print(\"return from line 5\")\n",
    "    # print(False)\n",
    "    return False\n",
    "    \n",
    "print(is_even(1))"
   ]
  },
  {
   "cell_type": "markdown",
   "id": "7ad0cd9a-25e3-493f-bd72-cb66e57d5be3",
   "metadata": {},
   "source": [
    "## Exercise 1\n",
    "Given a year, return true if it is a leap year."
   ]
  },
  {
   "cell_type": "code",
   "execution_count": null,
   "id": "827a294a-c58e-46bb-8dcb-cd0b09edb089",
   "metadata": {},
   "outputs": [],
   "source": []
  },
  {
   "cell_type": "markdown",
   "id": "fb120e38-ad02-461e-8a07-064d0f8ba0f2",
   "metadata": {},
   "source": [
    "## Exercise 2\n",
    "Given a month in the format of 3 letter name, return the number that represent the month."
   ]
  },
  {
   "cell_type": "code",
   "execution_count": 14,
   "id": "4e87202f-704d-457c-bfe6-ca0519d048f5",
   "metadata": {},
   "outputs": [
    {
     "data": {
      "text/plain": [
       "3"
      ]
     },
     "execution_count": 14,
     "metadata": {},
     "output_type": "execute_result"
    }
   ],
   "source": [
    "a  = 2\n",
    "a += 1\n",
    "a"
   ]
  },
  {
   "cell_type": "markdown",
   "id": "598f1e1a-4392-4cca-98d7-33f327a905bc",
   "metadata": {},
   "source": [
    "## Stack"
   ]
  },
  {
   "cell_type": "code",
   "execution_count": 17,
   "id": "0591db0e-b377-43d4-bf5b-65fb92944749",
   "metadata": {},
   "outputs": [
    {
     "name": "stdout",
     "output_type": "stream",
     "text": [
      "first 140348300656912\n",
      "second 140348300656912\n",
      "third 140348300656944\n",
      "fourth 140348300656912\n",
      "2\n"
     ]
    }
   ],
   "source": [
    "def add_one(a):\n",
    "    print(\"second\", id(a))\n",
    "    a = a + 1 # a += 1\n",
    "    print(\"third\", id(a))\n",
    "    \n",
    "a = 2\n",
    "print(\"first\", id(a))\n",
    "add_one(a)\n",
    "print(\"fourth\", id(a))\n",
    "print(a)\n",
    "    \n",
    "    "
   ]
  },
  {
   "cell_type": "code",
   "execution_count": 18,
   "id": "6cec8c56-38d6-4afe-a5b2-cc928d0546d0",
   "metadata": {},
   "outputs": [
    {
     "name": "stdout",
     "output_type": "stream",
     "text": [
      "first 140348300656912\n",
      "second 140348300656912\n",
      "third 140348300656944\n",
      "fourth 140348300656944\n",
      "3\n"
     ]
    }
   ],
   "source": [
    "def add_one(a):\n",
    "    print(\"second\", id(a))\n",
    "    a = a + 1 # a += 1\n",
    "    print(\"third\", id(a))\n",
    "    return a\n",
    "    \n",
    "a = 2\n",
    "print(\"first\", id(a))\n",
    "a = add_one(a)\n",
    "print(\"fourth\", id(a))\n",
    "print(a)"
   ]
  },
  {
   "cell_type": "code",
   "execution_count": 16,
   "id": "eb9a0f61-36b0-46ad-88cd-3114dc77b226",
   "metadata": {},
   "outputs": [
    {
     "ename": "ZeroDivisionError",
     "evalue": "division by zero",
     "output_type": "error",
     "traceback": [
      "\u001b[0;31m---------------------------------------------------------------------------\u001b[0m",
      "\u001b[0;31mZeroDivisionError\u001b[0m                         Traceback (most recent call last)",
      "Cell \u001b[0;32mIn [16], line 5\u001b[0m\n\u001b[1;32m      2\u001b[0m     a \u001b[38;5;241m=\u001b[39m a\u001b[38;5;241m/\u001b[39m\u001b[38;5;241m0\u001b[39m\n\u001b[1;32m      4\u001b[0m a \u001b[38;5;241m=\u001b[39m \u001b[38;5;241m2\u001b[39m\n\u001b[0;32m----> 5\u001b[0m \u001b[43mdiv_zero\u001b[49m\u001b[43m(\u001b[49m\u001b[43ma\u001b[49m\u001b[43m)\u001b[49m\n\u001b[1;32m      6\u001b[0m \u001b[38;5;28mprint\u001b[39m(a)\n",
      "Cell \u001b[0;32mIn [16], line 2\u001b[0m, in \u001b[0;36mdiv_zero\u001b[0;34m(a)\u001b[0m\n\u001b[1;32m      1\u001b[0m \u001b[38;5;28;01mdef\u001b[39;00m \u001b[38;5;21mdiv_zero\u001b[39m(a):\n\u001b[0;32m----> 2\u001b[0m     a \u001b[38;5;241m=\u001b[39m \u001b[43ma\u001b[49m\u001b[38;5;241;43m/\u001b[39;49m\u001b[38;5;241;43m0\u001b[39;49m\n",
      "\u001b[0;31mZeroDivisionError\u001b[0m: division by zero"
     ]
    }
   ],
   "source": [
    "def div_zero(a):\n",
    "    a = a/0\n",
    "    \n",
    "a = 2\n",
    "div_zero(a)\n",
    "print(a)"
   ]
  },
  {
   "cell_type": "markdown",
   "id": "4e9ca391-96dc-4346-b917-f7b8a1c64143",
   "metadata": {},
   "source": [
    "## BMI Calculator\n",
    "calculate bmi, 2 args, weight, height"
   ]
  },
  {
   "cell_type": "code",
   "execution_count": 22,
   "id": "f4ff61d2-9465-4466-9ea9-43c424479cba",
   "metadata": {},
   "outputs": [
    {
     "data": {
      "text/plain": [
       "33.41240936883959"
      ]
     },
     "execution_count": 22,
     "metadata": {},
     "output_type": "execute_result"
    }
   ],
   "source": [
    "def calculate_bmi(weight, height):\n",
    "    # Bad name bmi calculation\n",
    "    bmi = weight / height / height\n",
    "    return bmi\n",
    "\n",
    "calculate_bmi(100, 1.73)"
   ]
  },
  {
   "cell_type": "markdown",
   "id": "9bb3b76c-8cc7-49ed-a435-e29d974b603b",
   "metadata": {},
   "source": [
    "## Max in three numbers\n",
    "Write a function that takes 3 integer arguments, return the largest one.\n"
   ]
  },
  {
   "cell_type": "code",
   "execution_count": 33,
   "id": "2e96a27e-c3b3-41c8-b7aa-82d4c1bd7caf",
   "metadata": {},
   "outputs": [
    {
     "data": {
      "text/plain": [
       "4"
      ]
     },
     "execution_count": 33,
     "metadata": {},
     "output_type": "execute_result"
    }
   ],
   "source": [
    "def max_in_three(a, b, c):\n",
    "    max = a\n",
    "    \n",
    "    if max < b:\n",
    "        max = b\n",
    "    \n",
    "    if max < c:\n",
    "        max = c\n",
    "    \n",
    "    return max\n",
    "        \n",
    "    \n",
    "max_in_three(4, 1, 2)\n",
    "        "
   ]
  },
  {
   "cell_type": "markdown",
   "id": "86d302ca-4d5e-48de-a26e-36248d6cc3ee",
   "metadata": {},
   "source": [
    "## Max in four numbers (use the max_in_three function)"
   ]
  },
  {
   "cell_type": "code",
   "execution_count": 30,
   "id": "a9096749-f561-41d5-90b9-6dfafaaa4569",
   "metadata": {},
   "outputs": [
    {
     "data": {
      "text/plain": [
       "3"
      ]
     },
     "execution_count": 30,
     "metadata": {},
     "output_type": "execute_result"
    }
   ],
   "source": [
    "max(1, 2, 3)"
   ]
  },
  {
   "cell_type": "markdown",
   "id": "63cbd25f-5e20-4c00-85b1-bb1f42b5d69e",
   "metadata": {},
   "source": [
    "## Absolute Value"
   ]
  },
  {
   "cell_type": "markdown",
   "id": "399d92e5-2001-41a6-b357-90ec88a211ab",
   "metadata": {},
   "source": [
    "## F to C"
   ]
  },
  {
   "cell_type": "markdown",
   "id": "9a0bede6-eee1-4339-9bee-785c44c79889",
   "metadata": {},
   "source": [
    "## Factorial\n",
    "Given a number between 1-10, return the factorial of the value"
   ]
  },
  {
   "cell_type": "code",
   "execution_count": null,
   "id": "14c9fc4a-aa7a-49bd-b6c7-3f6e423ff345",
   "metadata": {},
   "outputs": [],
   "source": []
  }
 ],
 "metadata": {
  "kernelspec": {
   "display_name": "Python 3 (ipykernel)",
   "language": "python",
   "name": "python3"
  },
  "language_info": {
   "codemirror_mode": {
    "name": "ipython",
    "version": 3
   },
   "file_extension": ".py",
   "mimetype": "text/x-python",
   "name": "python",
   "nbconvert_exporter": "python",
   "pygments_lexer": "ipython3",
   "version": "3.10.6"
  }
 },
 "nbformat": 4,
 "nbformat_minor": 5
}
