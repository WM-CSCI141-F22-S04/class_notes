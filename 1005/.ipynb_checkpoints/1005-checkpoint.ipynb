{
 "cells": [
  {
   "cell_type": "markdown",
   "id": "a99d64fe-f8a0-461b-9d2d-1ddb93aebd91",
   "metadata": {
    "tags": []
   },
   "source": []
  },
  {
   "cell_type": "code",
   "execution_count": 14,
   "id": "846f4f9a-0724-458d-8b75-62b04c45c2d7",
   "metadata": {},
   "outputs": [
    {
     "name": "stdout",
     "output_type": "stream",
     "text": [
      "1\n",
      "1.2\n",
      "1.2.3\n",
      "1.2.3.4\n",
      "1.2.3.4.5\n",
      "1.2.3.4.5.6\n",
      "1.2.3.4.5.6.7\n",
      "1.2.3.4.5.6.7.8\n",
      "\n"
     ]
    }
   ],
   "source": [
    "def pyramid(n):\n",
    "    s = \"\"\n",
    "    \n",
    "    for i in range(n):\n",
    "        for j in range(i+1):\n",
    "            if j == i:\n",
    "                s += str(j+1)\n",
    "            else:\n",
    "                s += str(j+1) + \".\"\n",
    "        s += \"\\n\"\n",
    "    \n",
    "    return s\n",
    "    \n",
    "print(pyramid(8))"
   ]
  },
  {
   "cell_type": "markdown",
   "id": "1e17dd90-40d8-4141-9c81-7ccf27e64c46",
   "metadata": {},
   "source": [
    "## Assignment Question\n",
    "Build Pyramid String"
   ]
  },
  {
   "cell_type": "code",
   "execution_count": 15,
   "id": "d3e02520-e8a1-46b5-9142-b3506501af30",
   "metadata": {},
   "outputs": [
    {
     "name": "stdout",
     "output_type": "stream",
     "text": [
      "1\n",
      "1.2\n",
      "1.2.3\n",
      "1.2.3.4\n",
      "1.2.3.4.5\n",
      "1.2.3.4.5.6\n",
      "1.2.3.4.5.6.7\n",
      "1.2.3.4.5.6.7.8\n",
      "\n"
     ]
    }
   ],
   "source": [
    "def pyramid(n):\n",
    "    s = \"\"\n",
    "    \n",
    "    for i in range(n):\n",
    "        for j in range(i+1):\n",
    "            s += str(j+1) + \".\"\n",
    "        s = s[:-1] + \"\\n\"\n",
    "    \n",
    "    return s\n",
    "    \n",
    "print(pyramid(8))"
   ]
  },
  {
   "cell_type": "code",
   "execution_count": 16,
   "id": "20b184e0-af2c-4612-91da-82f230c6e9b1",
   "metadata": {},
   "outputs": [
    {
     "data": {
      "text/plain": [
       "'1.2.3.4.'"
      ]
     },
     "execution_count": 16,
     "metadata": {},
     "output_type": "execute_result"
    }
   ],
   "source": [
    "def pyramid_line(n):\n",
    "    s = \"\"\n",
    "    \n",
    "    for i in range(n):\n",
    "        s += str(i+1) + \".\"\n",
    "        \n",
    "    return s\n",
    "\n",
    "pyramid_line(4)"
   ]
  },
  {
   "cell_type": "code",
   "execution_count": 20,
   "id": "dbef9a62-c68a-43c0-991c-bffb167311c5",
   "metadata": {},
   "outputs": [
    {
     "name": "stdout",
     "output_type": "stream",
     "text": [
      "1.\n",
      "1.2.\n",
      "1.2.3.\n",
      "1.2.3.4.\n",
      "\n"
     ]
    }
   ],
   "source": [
    "def pyramid(n):\n",
    "    s = \"\"\n",
    "    \n",
    "    for i in range(n):\n",
    "        s += pyramid_line(i+1) + \"\\n\"\n",
    "        \n",
    "    return s\n",
    "\n",
    "print(pyramid(4))"
   ]
  },
  {
   "cell_type": "code",
   "execution_count": 21,
   "id": "fd098bf9-a19d-4fcb-bebc-4bffd9480350",
   "metadata": {},
   "outputs": [
    {
     "data": {
      "text/plain": [
       "'n'"
      ]
     },
     "execution_count": 21,
     "metadata": {},
     "output_type": "execute_result"
    }
   ],
   "source": [
    "'n'"
   ]
  },
  {
   "cell_type": "code",
   "execution_count": 22,
   "id": "dc658c14-5e0f-4512-b0a7-51050da8c7f2",
   "metadata": {},
   "outputs": [
    {
     "data": {
      "text/plain": [
       "'n'"
      ]
     },
     "execution_count": 22,
     "metadata": {},
     "output_type": "execute_result"
    }
   ],
   "source": [
    "\"n\""
   ]
  },
  {
   "cell_type": "code",
   "execution_count": 23,
   "id": "0996313f-898e-4b18-a46e-0bbd9fe8cc18",
   "metadata": {},
   "outputs": [
    {
     "data": {
      "text/plain": [
       "'\"'"
      ]
     },
     "execution_count": 23,
     "metadata": {},
     "output_type": "execute_result"
    }
   ],
   "source": [
    "'\"'"
   ]
  },
  {
   "cell_type": "code",
   "execution_count": 24,
   "id": "e65d3bb3-c81e-4410-91fa-ba146d9ecbf6",
   "metadata": {},
   "outputs": [
    {
     "data": {
      "text/plain": [
       "\"'\""
      ]
     },
     "execution_count": 24,
     "metadata": {},
     "output_type": "execute_result"
    }
   ],
   "source": [
    "\"'\""
   ]
  },
  {
   "cell_type": "code",
   "execution_count": 25,
   "id": "7753369c-58e8-4ffa-a183-31f0ec8760df",
   "metadata": {},
   "outputs": [
    {
     "data": {
      "text/plain": [
       "'\"'"
      ]
     },
     "execution_count": 25,
     "metadata": {},
     "output_type": "execute_result"
    }
   ],
   "source": [
    "\"\\\"\""
   ]
  },
  {
   "cell_type": "code",
   "execution_count": 29,
   "id": "d05efb0d-16ce-4f98-9e9a-e67020b412c5",
   "metadata": {},
   "outputs": [
    {
     "name": "stdout",
     "output_type": "stream",
     "text": [
      "\n",
      "\t\"\\\n"
     ]
    }
   ],
   "source": [
    "print(\"\\n\\t\\\"\\\\\")"
   ]
  },
  {
   "cell_type": "code",
   "execution_count": 30,
   "id": "b310c74c-a691-47bd-af23-4ac7f5658b27",
   "metadata": {},
   "outputs": [
    {
     "name": "stdout",
     "output_type": "stream",
     "text": [
      "\\\\\n"
     ]
    }
   ],
   "source": [
    "print(r\"\\\\\")"
   ]
  },
  {
   "cell_type": "markdown",
   "id": "0dde73e3-91f4-4875-950d-dc353b4b37d7",
   "metadata": {},
   "source": [
    "## Warm Up Exercise\n",
    "\n",
    "Given an integer, print each digit in the number from the least significant digit to the most significant digit."
   ]
  },
  {
   "cell_type": "code",
   "execution_count": 35,
   "id": "a58cb2d0-09f4-49c5-b215-d7e03e718dfe",
   "metadata": {},
   "outputs": [
    {
     "name": "stdout",
     "output_type": "stream",
     "text": [
      "5 12345\n",
      "4 1234\n",
      "3 123\n",
      "2 12\n",
      "1 1\n"
     ]
    }
   ],
   "source": [
    "num = 12345\n",
    "\n",
    "for i in range(100):\n",
    "    digit = num % 10\n",
    "    print(digit, num)\n",
    "    \n",
    "    num = num // 10\n",
    "    \n",
    "    if num == 0:\n",
    "        break\n"
   ]
  },
  {
   "cell_type": "markdown",
   "id": "69d04d16-793e-426e-9466-ddbae71cd3a6",
   "metadata": {},
   "source": [
    "## While loop"
   ]
  },
  {
   "cell_type": "code",
   "execution_count": 36,
   "id": "f54d8fc9-26fd-47d2-b1c7-557608b429b8",
   "metadata": {},
   "outputs": [
    {
     "name": "stdout",
     "output_type": "stream",
     "text": [
      "5 12345\n",
      "4 1234\n",
      "3 123\n",
      "2 12\n",
      "1 1\n"
     ]
    }
   ],
   "source": [
    "num = 12345\n",
    "\n",
    "while num > 0:\n",
    "    digit = num % 10\n",
    "    print(digit, num)\n",
    "    \n",
    "    num = num // 10"
   ]
  },
  {
   "cell_type": "markdown",
   "id": "fe7312e5-12c5-43ea-bc4b-3af6f25245cc",
   "metadata": {},
   "source": [
    "## Exercise 1\n",
    "Print from 2 to 10 using a while loop"
   ]
  },
  {
   "cell_type": "code",
   "execution_count": 37,
   "id": "f5484c6e-6720-428e-8e0a-72e2bfd340d2",
   "metadata": {},
   "outputs": [
    {
     "name": "stdout",
     "output_type": "stream",
     "text": [
      "2\n",
      "3\n",
      "4\n",
      "5\n",
      "6\n",
      "7\n",
      "8\n",
      "9\n",
      "10\n"
     ]
    }
   ],
   "source": [
    "i = 2\n",
    "while True:\n",
    "    print(i)\n",
    "    \n",
    "    i += 1\n",
    "    if i > 10:\n",
    "        break"
   ]
  },
  {
   "cell_type": "code",
   "execution_count": 38,
   "id": "004fcabc-4090-42cd-a6bd-394d1f4a94a6",
   "metadata": {},
   "outputs": [
    {
     "name": "stdout",
     "output_type": "stream",
     "text": [
      "2\n",
      "3\n",
      "4\n",
      "5\n",
      "6\n",
      "7\n",
      "8\n",
      "9\n",
      "10\n"
     ]
    }
   ],
   "source": [
    "i = 2\n",
    "while i <= 10:\n",
    "    print(i)\n",
    "    \n",
    "    i += 1"
   ]
  },
  {
   "cell_type": "markdown",
   "id": "1424f398-9b9d-4acf-9ba1-aee19768afda",
   "metadata": {},
   "source": [
    "## Exercise 2\n",
    "Let user to type a string. If the string is \"quit\" stop the process. Otherwise, echo the string."
   ]
  },
  {
   "cell_type": "code",
   "execution_count": null,
   "id": "1a8f912d-a622-4bef-b6c3-fb23af64e312",
   "metadata": {},
   "outputs": [],
   "source": []
  }
 ],
 "metadata": {
  "kernelspec": {
   "display_name": "Python 3 (ipykernel)",
   "language": "python",
   "name": "python3"
  },
  "language_info": {
   "codemirror_mode": {
    "name": "ipython",
    "version": 3
   },
   "file_extension": ".py",
   "mimetype": "text/x-python",
   "name": "python",
   "nbconvert_exporter": "python",
   "pygments_lexer": "ipython3",
   "version": "3.10.6"
  }
 },
 "nbformat": 4,
 "nbformat_minor": 5
}
