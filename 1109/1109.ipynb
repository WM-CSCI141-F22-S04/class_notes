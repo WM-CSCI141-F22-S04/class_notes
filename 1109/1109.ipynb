{
 "cells": [
  {
   "cell_type": "markdown",
   "id": "2c878e5f-e67f-4087-a4e7-5eebacf6d6c2",
   "metadata": {},
   "source": [
    "## Warm Up Exercise\n",
    "Define a priority queue. The class should have a `push` and a `pop` method. The push method should take two arguments, with the first one being the priority and the second argument being the element to be added to the queue. The pop method returns and removes the element with the highest priority. Other than the `push` and `pop` method, every property and method should be private. \n"
   ]
  },
  {
   "cell_type": "code",
   "execution_count": null,
   "id": "4b867a78-00bf-496a-a544-b16f9e838b7d",
   "metadata": {},
   "outputs": [],
   "source": [
    "# Bind values together\n",
    "# tuple - (priority, content)\n",
    "# class "
   ]
  },
  {
   "cell_type": "code",
   "execution_count": 8,
   "id": "25151064-86bd-4a69-8cbe-05b4672cd4e9",
   "metadata": {},
   "outputs": [],
   "source": [
    "class Element:\n",
    "    def __init__(self, priority, content):\n",
    "        self.priority = priority\n",
    "        self.content = content\n",
    "        \n",
    "    def __repr__(self):\n",
    "        return str(self.priority) + \",\" + str(self.content) \n",
    "        \n",
    "class PriorityQueue:\n",
    "    def __init__(self):\n",
    "        self.queue = []\n",
    "        \n",
    "    def __repr__(self):\n",
    "        s = \"\"\n",
    "        for e in self.queue:\n",
    "            s += str(e) + \"\\n\"\n",
    "        return s\n",
    "        \n",
    "    def push(self, priority, elem):\n",
    "        e = Element(priority, elem)\n",
    "            \n",
    "        for i in range(len(self.queue)):\n",
    "            curr_elem = self.queue[i]\n",
    "            if curr_elem.priority > priority:\n",
    "                self.queue.insert(i, e)\n",
    "                return \n",
    "            \n",
    "        self.queue.append(e)\n",
    "    \n",
    "    def pop(self):\n",
    "        elem = self.queue[-1]\n",
    "        self.queue = self.queue[:-1]\n",
    "        return elem.content\n",
    "    \n",
    "def test_priority_queue():\n",
    "    q = PriorityQueue()\n",
    "    q.push(1, 'a')\n",
    "    q.push(10, 'b')\n",
    "    q.push(4, 'c')\n",
    "        \n",
    "    e = q.pop()\n",
    "    assert e == 'b'\n",
    "    e = q.pop()\n",
    "    assert e == 'c'\n",
    "    \n",
    "    q.push(0.2, 'd')\n",
    "    \n",
    "    e = q.pop()\n",
    "    assert e == 'a'\n",
    "    e = q.pop()\n",
    "    assert e == 'd'\n",
    "\n",
    "test_priority_queue()   "
   ]
  },
  {
   "cell_type": "code",
   "execution_count": 1,
   "id": "f723d9b0-6d79-4826-ae4a-35e3ea745353",
   "metadata": {},
   "outputs": [
    {
     "data": {
      "text/plain": [
       "[1, 3]"
      ]
     },
     "execution_count": 1,
     "metadata": {},
     "output_type": "execute_result"
    }
   ],
   "source": [
    "l = [1,2,3]\n",
    "del l[1]\n",
    "l"
   ]
  },
  {
   "cell_type": "markdown",
   "id": "019e608f-0d56-4775-81cf-fa2363715662",
   "metadata": {},
   "source": [
    "## Private fields"
   ]
  },
  {
   "cell_type": "code",
   "execution_count": 12,
   "id": "595217be-7af6-43a6-a671-bd716853dd03",
   "metadata": {},
   "outputs": [],
   "source": [
    "class Animal:\n",
    "    def __init__(self, name, age):\n",
    "        self.name = name\n",
    "        self.age = age\n"
   ]
  },
  {
   "cell_type": "code",
   "execution_count": 13,
   "id": "211a0f3a-21e8-48c9-a491-f502e4316b85",
   "metadata": {},
   "outputs": [],
   "source": [
    "a = Animal(\"Alice\", 10)"
   ]
  },
  {
   "cell_type": "code",
   "execution_count": 11,
   "id": "97f0601b-ca6a-4360-bf8b-1e26654b133e",
   "metadata": {},
   "outputs": [
    {
     "name": "stdout",
     "output_type": "stream",
     "text": [
      "Alice\n"
     ]
    }
   ],
   "source": [
    "print(a.name)"
   ]
  },
  {
   "cell_type": "code",
   "execution_count": 14,
   "id": "cbe4e85d-5652-4c14-a7c7-6d75599dba72",
   "metadata": {},
   "outputs": [
    {
     "name": "stdout",
     "output_type": "stream",
     "text": [
      "10\n"
     ]
    }
   ],
   "source": [
    "print(a.age)"
   ]
  },
  {
   "cell_type": "code",
   "execution_count": 15,
   "id": "d7fb4be5-5165-4e79-b6e2-c7f09ca7aa65",
   "metadata": {},
   "outputs": [],
   "source": [
    "a.age = -1"
   ]
  },
  {
   "cell_type": "code",
   "execution_count": 16,
   "id": "9bcad234-0095-4d97-8097-b141572be632",
   "metadata": {},
   "outputs": [
    {
     "name": "stdout",
     "output_type": "stream",
     "text": [
      "-1\n"
     ]
    }
   ],
   "source": [
    "print(a.age)"
   ]
  },
  {
   "cell_type": "code",
   "execution_count": 17,
   "id": "29b40e6a-2605-496f-8a45-f87f3725aac3",
   "metadata": {},
   "outputs": [],
   "source": [
    "class Animal:\n",
    "    def __init__(self, name, age):\n",
    "        self.__name = name\n",
    "        self.__age = age"
   ]
  },
  {
   "cell_type": "code",
   "execution_count": 18,
   "id": "c01fecde-ebec-4d1b-a0f1-2723b6043f51",
   "metadata": {},
   "outputs": [],
   "source": [
    "a = Animal(\"Alice\", 10)"
   ]
  },
  {
   "cell_type": "code",
   "execution_count": 19,
   "id": "30360f6a-9274-481c-bab9-bce5020fc1ca",
   "metadata": {},
   "outputs": [
    {
     "ename": "AttributeError",
     "evalue": "'Animal' object has no attribute 'name'",
     "output_type": "error",
     "traceback": [
      "\u001b[0;31m---------------------------------------------------------------------------\u001b[0m",
      "\u001b[0;31mAttributeError\u001b[0m                            Traceback (most recent call last)",
      "Cell \u001b[0;32mIn [19], line 1\u001b[0m\n\u001b[0;32m----> 1\u001b[0m \u001b[38;5;28mprint\u001b[39m(\u001b[43ma\u001b[49m\u001b[38;5;241;43m.\u001b[39;49m\u001b[43mname\u001b[49m)\n",
      "\u001b[0;31mAttributeError\u001b[0m: 'Animal' object has no attribute 'name'"
     ]
    }
   ],
   "source": [
    "print(a.name)"
   ]
  },
  {
   "cell_type": "code",
   "execution_count": 20,
   "id": "270d528e-73df-4080-bb1c-29849084a176",
   "metadata": {},
   "outputs": [
    {
     "ename": "AttributeError",
     "evalue": "'Animal' object has no attribute '__name'",
     "output_type": "error",
     "traceback": [
      "\u001b[0;31m---------------------------------------------------------------------------\u001b[0m",
      "\u001b[0;31mAttributeError\u001b[0m                            Traceback (most recent call last)",
      "Cell \u001b[0;32mIn [20], line 1\u001b[0m\n\u001b[0;32m----> 1\u001b[0m \u001b[38;5;28mprint\u001b[39m(\u001b[43ma\u001b[49m\u001b[38;5;241;43m.\u001b[39;49m\u001b[43m__name\u001b[49m)\n",
      "\u001b[0;31mAttributeError\u001b[0m: 'Animal' object has no attribute '__name'"
     ]
    }
   ],
   "source": [
    "print(a.__name)"
   ]
  },
  {
   "cell_type": "code",
   "execution_count": 21,
   "id": "90eafdde-f690-470b-b7eb-a333e50f03db",
   "metadata": {},
   "outputs": [
    {
     "data": {
      "text/plain": [
       "{'_Animal__name': 'Alice', '_Animal__age': 10}"
      ]
     },
     "execution_count": 21,
     "metadata": {},
     "output_type": "execute_result"
    }
   ],
   "source": [
    "a.__dict__"
   ]
  },
  {
   "cell_type": "code",
   "execution_count": 22,
   "id": "38a50517-5b6d-463d-922e-bcdbb6be627b",
   "metadata": {},
   "outputs": [
    {
     "name": "stdout",
     "output_type": "stream",
     "text": [
      "Alice\n"
     ]
    }
   ],
   "source": [
    "print(a._Animal__name)"
   ]
  },
  {
   "cell_type": "code",
   "execution_count": 25,
   "id": "5d8cc64d-da0e-451c-90a1-6dfd44d403de",
   "metadata": {},
   "outputs": [
    {
     "name": "stdout",
     "output_type": "stream",
     "text": [
      "Bob\n"
     ]
    }
   ],
   "source": [
    "a._Animal__name = \"Bob\"\n",
    "print(a._Animal__name)"
   ]
  },
  {
   "cell_type": "code",
   "execution_count": 29,
   "id": "eb0f9679-8cd5-4e7f-8d45-f05e38bdc13d",
   "metadata": {},
   "outputs": [],
   "source": [
    "class Animal:\n",
    "    def __init__(self, name, age):\n",
    "        self.__name = name\n",
    "        self.__age = age\n",
    "        \n",
    "    def set_age(self, age):\n",
    "        if age < 0:\n",
    "            print(\"Age cannot be negative\")\n",
    "            return \n",
    "        \n",
    "        self.__age = age\n",
    "        \n",
    "    def get_age(self):\n",
    "        return self.__age\n",
    "    "
   ]
  },
  {
   "cell_type": "code",
   "execution_count": 30,
   "id": "6e11a7f3-2298-41ef-8d40-0140f5cb6fcc",
   "metadata": {},
   "outputs": [],
   "source": [
    "a = Animal(\"Alice\", 10)"
   ]
  },
  {
   "cell_type": "code",
   "execution_count": null,
   "id": "0ff245b9-0f7f-42c3-99b6-0afc47654fe0",
   "metadata": {},
   "outputs": [],
   "source": [
    "# a.get_age()\n",
    "# get_age(a)"
   ]
  },
  {
   "cell_type": "code",
   "execution_count": 31,
   "id": "730ac28f-32cc-4324-87c8-d439f8c25ae5",
   "metadata": {},
   "outputs": [
    {
     "name": "stdout",
     "output_type": "stream",
     "text": [
      "10\n"
     ]
    }
   ],
   "source": [
    "print(a.get_age())"
   ]
  },
  {
   "cell_type": "code",
   "execution_count": 32,
   "id": "f81c50a6-cf4d-4a5b-ae87-a2e647f1da7a",
   "metadata": {},
   "outputs": [
    {
     "name": "stdout",
     "output_type": "stream",
     "text": [
      "11\n"
     ]
    }
   ],
   "source": [
    "a.set_age(11)\n",
    "print(a.get_age())"
   ]
  },
  {
   "cell_type": "code",
   "execution_count": 33,
   "id": "ebee0b17-adc7-449d-94e1-a00d6b5a1e6a",
   "metadata": {},
   "outputs": [
    {
     "name": "stdout",
     "output_type": "stream",
     "text": [
      "12\n"
     ]
    }
   ],
   "source": [
    "a.set_age(a.get_age() + 1)\n",
    "print(a.get_age())"
   ]
  },
  {
   "cell_type": "markdown",
   "id": "67b4343b-8eb2-4bf1-a42a-4c97b6f1921b",
   "metadata": {},
   "source": [
    "## Encapsulation"
   ]
  },
  {
   "cell_type": "code",
   "execution_count": 36,
   "id": "ed039966-b096-44a6-ae89-eea8d274816b",
   "metadata": {},
   "outputs": [
    {
     "name": "stdout",
     "output_type": "stream",
     "text": [
      "78.5\n"
     ]
    }
   ],
   "source": [
    "class Circle:\n",
    "    def __init__(self, r):\n",
    "        self.__r = r\n",
    "        \n",
    "    def set_radius(self, r):\n",
    "        self.__r = r\n",
    "        \n",
    "    def area(self):\n",
    "        return 3.14 * self.__r * self.__r"
   ]
  },
  {
   "cell_type": "code",
   "execution_count": 37,
   "id": "7cbf58e9-f067-439b-95e7-66478b4c177a",
   "metadata": {},
   "outputs": [
    {
     "name": "stdout",
     "output_type": "stream",
     "text": [
      "78.5\n",
      "113.03999999999999\n"
     ]
    }
   ],
   "source": [
    "c = Circle(5)\n",
    "print(c.area())\n",
    "\n",
    "c.set_radius(6)\n",
    "print(c.area())"
   ]
  },
  {
   "cell_type": "code",
   "execution_count": 38,
   "id": "22b44638-27ab-479e-bfb6-59ca258975b8",
   "metadata": {},
   "outputs": [],
   "source": [
    "class Circle:\n",
    "    def __init__(self, r):\n",
    "        self.__r = r\n",
    "        self.__area = 3.14 * r * r\n",
    "        \n",
    "    def set_radius(self, r):\n",
    "        self.__r = r\n",
    "        self.__area = 3.14 * r * r\n",
    "        \n",
    "    def area(self):\n",
    "        return self.__area"
   ]
  },
  {
   "cell_type": "code",
   "execution_count": null,
   "id": "4b872426-2f96-438f-9d7b-eacf8958d94b",
   "metadata": {},
   "outputs": [],
   "source": []
  },
  {
   "cell_type": "markdown",
   "id": "38d46015-7791-4fbd-9cfe-5abaf4480752",
   "metadata": {},
   "source": [
    "## Inheritance"
   ]
  },
  {
   "cell_type": "code",
   "execution_count": 41,
   "id": "0b11eab7-ccc4-4137-80e0-1b54e19ee8b8",
   "metadata": {},
   "outputs": [],
   "source": [
    "class Animal:\n",
    "    def __init__(self, name, age):\n",
    "        self.__name = name\n",
    "        self.__age = age\n",
    "        \n",
    "    def set_age(self, age):\n",
    "        if age < 0:\n",
    "            print(\"Age cannot be negative\")\n",
    "            return \n",
    "        \n",
    "        self.__age = age\n",
    "        \n",
    "    def get_age(self):\n",
    "        return self.__age\n",
    "    \n",
    "    def say_name(self):\n",
    "        print(\"My name is\", self.__name)"
   ]
  },
  {
   "cell_type": "code",
   "execution_count": 42,
   "id": "02602f30-c0ce-4471-9862-6df18e103f08",
   "metadata": {},
   "outputs": [
    {
     "name": "stdout",
     "output_type": "stream",
     "text": [
      "My name is Alice\n"
     ]
    }
   ],
   "source": [
    "a = Animal(\"Alice\", 10)\n",
    "a.say_name()"
   ]
  },
  {
   "cell_type": "code",
   "execution_count": 51,
   "id": "fd3c2ae8-4714-4ffd-82b4-e027c3b9558b",
   "metadata": {},
   "outputs": [],
   "source": [
    "class Dog(Animal):\n",
    "    def bark(self):\n",
    "        print(\"Woof \")\n",
    "        super().say_name()"
   ]
  },
  {
   "cell_type": "code",
   "execution_count": 52,
   "id": "7562ea47-74b4-4e51-accd-fb2ca06ccf00",
   "metadata": {},
   "outputs": [
    {
     "name": "stdout",
     "output_type": "stream",
     "text": [
      "My name is Bob\n"
     ]
    }
   ],
   "source": [
    "d = Dog(\"Bob\", 11)\n",
    "d.say_name()"
   ]
  },
  {
   "cell_type": "code",
   "execution_count": 53,
   "id": "1d4e7ff4-0818-4049-9737-adff4de3725d",
   "metadata": {},
   "outputs": [
    {
     "name": "stdout",
     "output_type": "stream",
     "text": [
      "Woof\n",
      "My name is Bob\n"
     ]
    }
   ],
   "source": [
    "d.bark()"
   ]
  },
  {
   "cell_type": "code",
   "execution_count": 49,
   "id": "62fa8891-bb53-4ccf-9bf6-e03010e53b67",
   "metadata": {},
   "outputs": [
    {
     "ename": "AttributeError",
     "evalue": "'Animal' object has no attribute 'bark'",
     "output_type": "error",
     "traceback": [
      "\u001b[0;31m---------------------------------------------------------------------------\u001b[0m",
      "\u001b[0;31mAttributeError\u001b[0m                            Traceback (most recent call last)",
      "Cell \u001b[0;32mIn [49], line 2\u001b[0m\n\u001b[1;32m      1\u001b[0m a \u001b[38;5;241m=\u001b[39m Animal(\u001b[38;5;124m\"\u001b[39m\u001b[38;5;124mAlice\u001b[39m\u001b[38;5;124m\"\u001b[39m, \u001b[38;5;241m10\u001b[39m)\n\u001b[0;32m----> 2\u001b[0m \u001b[43ma\u001b[49m\u001b[38;5;241;43m.\u001b[39;49m\u001b[43mbark\u001b[49m()\n",
      "\u001b[0;31mAttributeError\u001b[0m: 'Animal' object has no attribute 'bark'"
     ]
    }
   ],
   "source": [
    "a = Animal(\"Alice\", 10)\n",
    "a.bark()"
   ]
  },
  {
   "cell_type": "code",
   "execution_count": 50,
   "id": "db244f9d-5f4b-43b8-abc6-d4ca4212d2a0",
   "metadata": {},
   "outputs": [],
   "source": [
    "## DRY - Do not repeat yourself\n",
    "## Any piece of information should only exist in one place."
   ]
  },
  {
   "cell_type": "code",
   "execution_count": null,
   "id": "e3f082b6-0eb1-462f-a918-e23a93c34ec4",
   "metadata": {},
   "outputs": [],
   "source": [
    "a = []\n",
    "b = []\n",
    "c = []\n",
    "\n",
    "for i in range(10): ## \n",
    "    a.append(i)\n",
    "    \n",
    "for i in range(10): ## bad\n",
    "    b.append(i)\n",
    "    \n",
    "for i in range(10):\n",
    "    c.append(0)\n",
    "    \n",
    "for i in range(10):\n",
    "    c[i] = a[i] + b[i]"
   ]
  },
  {
   "cell_type": "code",
   "execution_count": null,
   "id": "a7b6f8cc-0d0c-46a3-a4db-742c95627cd0",
   "metadata": {},
   "outputs": [],
   "source": [
    "a = []\n",
    "b = []\n",
    "c = []\n",
    "size = 20\n",
    "\n",
    "for i in range(size): ## \n",
    "    a.append(i)\n",
    "    \n",
    "for i in range(size): ## good\n",
    "    b.append(i)\n",
    "    \n",
    "for i in range(size):\n",
    "    c.append(0)\n",
    "    \n",
    "for i in range(size):\n",
    "    c[i] = a[i] + b[i]"
   ]
  },
  {
   "cell_type": "code",
   "execution_count": 54,
   "id": "9dfd73fb-2c72-43cc-90b2-3a67918f2b86",
   "metadata": {},
   "outputs": [],
   "source": [
    "class Dog(Animal):\n",
    "    def bark(self):\n",
    "        print(\"Woof \" + self.__name)\n",
    "        super().say_name()"
   ]
  },
  {
   "cell_type": "code",
   "execution_count": 55,
   "id": "1fe1b9ba-ff8f-4253-a882-ec33c784c4f6",
   "metadata": {},
   "outputs": [
    {
     "ename": "AttributeError",
     "evalue": "'Dog' object has no attribute '_Dog__name'",
     "output_type": "error",
     "traceback": [
      "\u001b[0;31m---------------------------------------------------------------------------\u001b[0m",
      "\u001b[0;31mAttributeError\u001b[0m                            Traceback (most recent call last)",
      "Cell \u001b[0;32mIn [55], line 2\u001b[0m\n\u001b[1;32m      1\u001b[0m d \u001b[38;5;241m=\u001b[39m Dog(\u001b[38;5;124m\"\u001b[39m\u001b[38;5;124mBob\u001b[39m\u001b[38;5;124m\"\u001b[39m, \u001b[38;5;241m10\u001b[39m)\n\u001b[0;32m----> 2\u001b[0m \u001b[43md\u001b[49m\u001b[38;5;241;43m.\u001b[39;49m\u001b[43mbark\u001b[49m\u001b[43m(\u001b[49m\u001b[43m)\u001b[49m\n",
      "Cell \u001b[0;32mIn [54], line 3\u001b[0m, in \u001b[0;36mDog.bark\u001b[0;34m(self)\u001b[0m\n\u001b[1;32m      2\u001b[0m \u001b[38;5;28;01mdef\u001b[39;00m \u001b[38;5;21mbark\u001b[39m(\u001b[38;5;28mself\u001b[39m):\n\u001b[0;32m----> 3\u001b[0m     \u001b[38;5;28mprint\u001b[39m(\u001b[38;5;124m\"\u001b[39m\u001b[38;5;124mWoof \u001b[39m\u001b[38;5;124m\"\u001b[39m \u001b[38;5;241m+\u001b[39m \u001b[38;5;28;43mself\u001b[39;49m\u001b[38;5;241;43m.\u001b[39;49m\u001b[43m__name\u001b[49m)\n\u001b[1;32m      4\u001b[0m     \u001b[38;5;28msuper\u001b[39m()\u001b[38;5;241m.\u001b[39msay_name()\n",
      "\u001b[0;31mAttributeError\u001b[0m: 'Dog' object has no attribute '_Dog__name'"
     ]
    }
   ],
   "source": [
    "d = Dog(\"Bob\", 10)\n",
    "d.bark()"
   ]
  },
  {
   "cell_type": "code",
   "execution_count": 56,
   "id": "cdb042f8-39d8-4cb5-843d-8bff8115a906",
   "metadata": {},
   "outputs": [
    {
     "name": "stdout",
     "output_type": "stream",
     "text": [
      "Woof Bob\n",
      "My name is Bob\n"
     ]
    }
   ],
   "source": [
    "class Animal:\n",
    "    def __init__(self, name, age):\n",
    "        self._name = name ## Protected field\n",
    "        self._age = age\n",
    "        \n",
    "    def set_age(self, age):\n",
    "        if age < 0:\n",
    "            print(\"Age cannot be negative\")\n",
    "            return \n",
    "        \n",
    "        self._age = age\n",
    "        \n",
    "    def get_age(self):\n",
    "        return self._age\n",
    "    \n",
    "    def say_name(self):\n",
    "        print(\"My name is\", self._name)\n",
    "        \n",
    "class Dog(Animal):\n",
    "    def bark(self):\n",
    "        print(\"Woof \" + self._name)\n",
    "        super().say_name()\n",
    "        \n",
    "d = Dog(\"Bob\", 10)\n",
    "d.bark()"
   ]
  },
  {
   "cell_type": "code",
   "execution_count": null,
   "id": "8d710ef4-d37e-4d86-b907-6c7bdc74fe56",
   "metadata": {},
   "outputs": [],
   "source": []
  }
 ],
 "metadata": {
  "kernelspec": {
   "display_name": "Python 3 (ipykernel)",
   "language": "python",
   "name": "python3"
  },
  "language_info": {
   "codemirror_mode": {
    "name": "ipython",
    "version": 3
   },
   "file_extension": ".py",
   "mimetype": "text/x-python",
   "name": "python",
   "nbconvert_exporter": "python",
   "pygments_lexer": "ipython3",
   "version": "3.10.6"
  }
 },
 "nbformat": 4,
 "nbformat_minor": 5
}
